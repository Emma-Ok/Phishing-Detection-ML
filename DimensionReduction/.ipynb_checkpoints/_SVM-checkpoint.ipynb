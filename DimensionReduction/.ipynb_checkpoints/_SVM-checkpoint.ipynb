{
 "cells": [
  {
   "cell_type": "markdown",
   "id": "c8e84dc2-c3d2-4a91-8340-65a0d2932477",
   "metadata": {},
   "source": [
    "<a href=\"https://colab.research.google.com/github/Emma-Ok/Phishing-Detection-ML/blob/alc4dev/ModelsWithAllSamples/SVM.ipynb\" target=\"_parent\"><img src=\"https://colab.research.google.com/assets/colab-badge.svg\" alt=\"Open In Colab\"/></a>"
   ]
  },
  {
   "cell_type": "code",
   "execution_count": null,
   "id": "06055ebc-262d-4463-89eb-9d0f1a77c046",
   "metadata": {},
   "outputs": [],
   "source": [
    "# Support Vector Machine para Detección de Phishing\n",
    "import numpy as np\n",
    "import optuna\n",
    "from optuna.samplers import TPESampler\n",
    "import pandas as pd\n",
    "from sklearn.svm import SVC\n",
    "from sklearn.model_selection import GridSearchCV, StratifiedKFold, train_test_split, cross_val_score\n",
    "from sklearn.metrics import (accuracy_score, precision_score, recall_score, \n",
    "                           f1_score, roc_auc_score, classification_report, \n",
    "                           confusion_matrix, matthews_corrcoef)\n",
    "from sklearn.preprocessing import StandardScaler\n",
    "import matplotlib.pyplot as plt\n",
    "import seaborn as sns\n",
    "import warnings\n",
    "warnings.filterwarnings('ignore')\n",
    "\n",
    "# Carga directa desde GitHub\n",
    "url = \"https://raw.githubusercontent.com/Emma-Ok/Phishing-Detection-ML/main/Phishing_Legitimate_full.csv\"\n",
    "df = pd.read_csv(url)\n",
    "df = df.drop(columns=['id', 'AtSymbol', 'NumHash', 'HttpsInHostname', 'DoubleSlashInPath', 'FakeLinkInStatusBar', 'PopUpWindow', 'ImagesOnlyInForm' ])\n",
    "\n",
    "print(f\"Dataset shape: {df.shape}\")\n",
    "print(f\"Distribución de clases:\\n{df['CLASS_LABEL'].value_counts()}\")\n",
    "\n",
    "# Separar X e y\n",
    "X = df.drop(columns=['CLASS_LABEL'])\n",
    "y = df['CLASS_LABEL']\n",
    "\n",
    "# División estratificada según metodología: 70% train, 15% val, 15% test\n",
    "\n",
    "# Primera división: separar test (15%)\n",
    "X_temp, X_test, y_temp, y_test = train_test_split(\n",
    "    X, y, \n",
    "    test_size=0.15, \n",
    "    random_state=42, \n",
    "    stratify=y\n",
    ")\n",
    "\n",
    "# Segunda división: separar train (70%) y validation (15%) del restante 85%\n",
    "# 15/85 = 0.176 para obtener 15% del total original\n",
    "X_train, X_val, y_train, y_val = train_test_split(\n",
    "    X_temp, y_temp, \n",
    "    test_size=0.176, \n",
    "    random_state=42, \n",
    "    stratify=y_temp\n",
    ")\n"
   ]
  },
  {
   "cell_type": "code",
   "execution_count": 5,
   "id": "791f31c8-e3f1-4adb-a4b5-4a3d9f6bd249",
   "metadata": {},
   "outputs": [],
   "source": [
    "def create_optuna_objective(X_train_scaled, y_train, cv_strategy=None):\n",
    "    \"\"\"\n",
    "    Crea la función objetivo para Optuna, optimizando múltiples hiperparámetros del modelo SVM (SVC).\n",
    "    \n",
    "    Args:\n",
    "        X_train_scaled: Características de entrenamiento escaladas\n",
    "        y_train: Etiquetas de entrenamiento\n",
    "        cv_strategy: Estrategia de validación cruzada (si no se pasa, se usa StratifiedKFold)\n",
    "    \n",
    "    Returns:\n",
    "        function: Función objetivo para Optuna\n",
    "    \"\"\"\n",
    "    \n",
    "    if cv_strategy is None:\n",
    "        cv_strategy = StratifiedKFold(n_splits=5, shuffle=True, random_state=42)\n",
    "    \n",
    "    def objective(trial):\n",
    "        # Sugerencia de hiperparámetros comunes\n",
    "        C = trial.suggest_float('C', 0.1, 1000.0, log=True)\n",
    "        kernel = trial.suggest_categorical('kernel', ['linear', 'rbf', 'poly', 'sigmoid'])\n",
    "        shrinking = trial.suggest_categorical('shrinking', [True, False])\n",
    "        class_weight = trial.suggest_categorical('class_weight', [None, 'balanced'])\n",
    "\n",
    "        # Parámetros base\n",
    "        params = {\n",
    "            'C': C,\n",
    "            'kernel': kernel,\n",
    "            'shrinking': shrinking,\n",
    "            'class_weight': class_weight,\n",
    "            'probability': True,\n",
    "            'random_state': 42\n",
    "        }\n",
    "\n",
    "        # Parámetros según kernel\n",
    "        if kernel in ['rbf', 'poly', 'sigmoid']:\n",
    "            gamma_type = trial.suggest_categorical('gamma_type', ['scale_auto', 'numeric'])\n",
    "\n",
    "            if gamma_type == 'scale_auto':\n",
    "                gamma = trial.suggest_categorical('gamma_categorical', ['scale', 'auto'])\n",
    "            else:\n",
    "                gamma = trial.suggest_float('gamma_numeric', 0.001, 1.0, log=True)\n",
    "\n",
    "            params['gamma'] = gamma\n",
    "\n",
    "        if kernel == 'poly':\n",
    "            degree = trial.suggest_int('degree', 2, 5)\n",
    "            coef0 = trial.suggest_float('coef0', 0.0, 1.0)\n",
    "            params['degree'] = degree\n",
    "            params['coef0'] = coef0\n",
    "\n",
    "        if kernel == 'sigmoid':\n",
    "            coef0 = trial.suggest_float('coef0', 0.0, 1.0)\n",
    "            params['coef0'] = coef0\n",
    "\n",
    "        # Crear modelo y evaluar\n",
    "        model = SVC(**params)\n",
    "\n",
    "        cv_scores = cross_val_score(\n",
    "            model, X_train_scaled, y_train,\n",
    "            cv=cv_strategy, scoring='f1', n_jobs=-1\n",
    "        )\n",
    "\n",
    "        return cv_scores.mean()\n",
    "    \n",
    "    return objective"
   ]
  },
  {
   "cell_type": "code",
   "execution_count": 8,
   "id": "66c1be60-fbf6-4b35-a1b4-c39ae30b41d1",
   "metadata": {},
   "outputs": [],
   "source": [
    "def evaluate_svm_model_optuna(X_train, X_val, X_test, y_train, y_val, y_test, \n",
    "                             n_trials=100, timeout=None):\n",
    "    \"\"\"\n",
    "    Entrena y evalúa un modelo SVM con optimización de hiperparámetros usando Optuna\n",
    "    \n",
    "    Args:\n",
    "        X_train, X_val, X_test: Conjuntos de características\n",
    "        y_train, y_val, y_test: Etiquetas objetivo\n",
    "        n_trials: Número de pruebas para Optuna\n",
    "        timeout: Tiempo límite en segundos para la optimización\n",
    "    \n",
    "    Returns:\n",
    "        dict: Resultados del modelo y métricas de evaluación\n",
    "    \"\"\"\n",
    "    \n",
    "    print(\"=\"*60)\n",
    "    print(\"SUPPORT VECTOR MACHINE - DETECCIÓN DE PHISHING\")\n",
    "    print(\"OPTIMIZACIÓN CON OPTUNA\")\n",
    "    print(\"=\"*60)\n",
    "    \n",
    "    # Escalado de características (crítico para SVM)\n",
    "    print(\"Escalando características...\")\n",
    "    scaler = StandardScaler()\n",
    "    X_train_scaled = scaler.fit_transform(X_train)\n",
    "    X_val_scaled = scaler.transform(X_val)\n",
    "    X_test_scaled = scaler.transform(X_test)\n",
    "    \n",
    "    # Configuración de Optuna\n",
    "    print(f\"Iniciando optimización con Optuna...\")\n",
    "    print(f\"Número de pruebas: {n_trials}\")\n",
    "    if timeout:\n",
    "        print(f\"Tiempo límite: {timeout} segundos\")\n",
    "    \n",
    "    # Crear estudio de Optuna\n",
    "    study = optuna.create_study(\n",
    "        direction='maximize',  # Maximizar F1-score\n",
    "        sampler=TPESampler(seed=42),\n",
    "    )\n",
    "\n",
    "    cv_strategy = StratifiedKFold(n_splits=5, shuffle=True, random_state=42)\n",
    "    \n",
    "    # Crear función objetivo\n",
    "    objective_func = create_optuna_objective(X_train_scaled, y_train, cv_strategy)\n",
    "    \n",
    "    # Optimización\n",
    "    study.optimize(\n",
    "        objective_func, \n",
    "        n_trials=n_trials,\n",
    "        timeout=timeout,\n",
    "        show_progress_bar=True\n",
    "    )\n",
    "    \n",
    "    # Mejor configuración encontrada\n",
    "    best_params = study.best_params\n",
    "    best_score = study.best_value\n",
    "    \n",
    "    print(\"\\n\" + \"=\"*50)\n",
    "    print(\"MEJORES HIPERPARÁMETROS ENCONTRADOS\")\n",
    "    print(\"=\"*50)\n",
    "    for param, value in best_params.items():\n",
    "        print(f\"{param}: {value}\")\n",
    "    print(f\"Mejor F1-Score (CV): {best_score:.4f}\")\n",
    "    \n",
    "    # Entrenar modelo final con mejores parámetros\n",
    "    print(\"\\nEntrenando modelo final...\")\n",
    "    \n",
    "       # Preparar parámetros para el modelo final\n",
    "    final_params = {\n",
    "        'C': best_params['C'],\n",
    "        'kernel': best_params['kernel'],\n",
    "        'random_state': 42,\n",
    "        'probability': True\n",
    "    }\n",
    "    \n",
    "    # Extraer gamma correctamente\n",
    "    if 'gamma_categorical' in best_params:\n",
    "        final_params['gamma'] = best_params['gamma_categorical']\n",
    "    elif 'gamma_numeric' in best_params:\n",
    "        final_params['gamma'] = best_params['gamma_numeric']\n",
    "    \n",
    "    # Agregar degree si está presente (solo para kernel='poly')\n",
    "    if 'degree' in best_params:\n",
    "        final_params['degree'] = best_params['degree']\n",
    "    \n",
    "    # Agregar coef0 si está presente (para 'poly' y 'sigmoid')\n",
    "    if 'coef0' in best_params:\n",
    "        final_params['coef0'] = best_params['coef0']\n",
    "    \n",
    "    # Agregar shrinking si está presente\n",
    "    if 'shrinking' in best_params:\n",
    "        final_params['shrinking'] = best_params['shrinking']\n",
    "    \n",
    "    # Agregar class_weight si está presente\n",
    "    if 'class_weight' in best_params:\n",
    "        final_params['class_weight'] = best_params['class_weight']\n",
    "\n",
    "    best_svm = SVC(**final_params)\n",
    "    best_svm.fit(X_train_scaled, y_train)\n",
    "    \n",
    "    # Evaluación en conjunto de validación\n",
    "    print(\"\\n\" + \"=\"*50)\n",
    "    print(\"EVALUACIÓN EN CONJUNTO DE VALIDACIÓN\")\n",
    "    print(\"=\"*50)\n",
    "    \n",
    "    y_val_pred = best_svm.predict(X_val_scaled)\n",
    "    y_val_pred_proba = best_svm.predict_proba(X_val_scaled)[:, 1]\n",
    "    \n",
    "    val_metrics = {\n",
    "        'accuracy': accuracy_score(y_val, y_val_pred),\n",
    "        'precision': precision_score(y_val, y_val_pred),\n",
    "        'recall': recall_score(y_val, y_val_pred),\n",
    "        'f1_score': f1_score(y_val, y_val_pred),\n",
    "        'auc_roc': roc_auc_score(y_val, y_val_pred_proba),\n",
    "        'specificity': recall_score(y_val, y_val_pred, pos_label=0),\n",
    "        'mcc': matthews_corrcoef(y_val, y_val_pred)\n",
    "    }\n",
    "    \n",
    "    print(\"Métricas en Validación:\")\n",
    "    for metric, value in val_metrics.items():\n",
    "        print(f\"{metric.upper()}: {value:.4f}\")\n",
    "    \n",
    "    # Verificación de criterios de selección\n",
    "    print(f\"\\n✓ Criterios de selección:\")\n",
    "    print(f\"  - F1-Score: {val_metrics['f1_score']:.4f}\")\n",
    "    print(f\"  - AUC-ROC ≥ 0.90: {'✓' if val_metrics['auc_roc'] >= 0.90 else '✗'} ({val_metrics['auc_roc']:.4f})\")\n",
    "    \n",
    "    # Evaluación final en conjunto de prueba\n",
    "    print(\"\\n\" + \"=\"*50)\n",
    "    print(\"EVALUACIÓN FINAL EN CONJUNTO DE PRUEBA\")\n",
    "    print(\"=\"*50)\n",
    "    \n",
    "    y_test_pred = best_svm.predict(X_test_scaled)\n",
    "    y_test_pred_proba = best_svm.predict_proba(X_test_scaled)[:, 1]\n",
    "    \n",
    "    test_metrics = {\n",
    "        'accuracy': accuracy_score(y_test, y_test_pred),\n",
    "        'precision': precision_score(y_test, y_test_pred),\n",
    "        'recall': recall_score(y_test, y_test_pred),\n",
    "        'f1_score': f1_score(y_test, y_test_pred),\n",
    "        'auc_roc': roc_auc_score(y_test, y_test_pred_proba),\n",
    "        'specificity': recall_score(y_test, y_test_pred, pos_label=0),\n",
    "        'mcc': matthews_corrcoef(y_test, y_test_pred)\n",
    "    }\n",
    "    \n",
    "    print(\"Métricas en Prueba:\")\n",
    "    for metric, value in test_metrics.items():\n",
    "        print(f\"{metric.upper()}: {value:.4f}\")\n",
    "    \n",
    "    # Matriz de confusión\n",
    "    cm = confusion_matrix(y_test, y_test_pred)\n",
    "    \n",
    "    # Análisis de la optimización con Optuna\n",
    "    print(\"\\n\" + \"=\"*50)\n",
    "    print(\"ANÁLISIS DE LA OPTIMIZACIÓN\")\n",
    "    print(\"=\"*50)\n",
    "    print(f\"Número total de pruebas: {len(study.trials)}\")\n",
    "    print(f\"Número de pruebas completadas: {len([t for t in study.trials if t.state == optuna.trial.TrialState.COMPLETE])}\")\n",
    "    print(f\"Mejor valor encontrado: {study.best_value:.4f}\")\n",
    "    \n",
    "    # Visualización de resultados\n",
    "    fig, axes = plt.subplots(2, 3, figsize=(18, 12))\n",
    "    \n",
    "    # Matriz de confusión\n",
    "    sns.heatmap(cm, annot=True, fmt='d', cmap='Blues', ax=axes[0,0])\n",
    "    axes[0,0].set_title('Matriz de Confusión - Conjunto de Prueba')\n",
    "    axes[0,0].set_xlabel('Predicción')\n",
    "    axes[0,0].set_ylabel('Valor Real')\n",
    "    \n",
    "    # Comparación de métricas entre validación y prueba\n",
    "    metrics_comparison = pd.DataFrame({\n",
    "        'Validación': val_metrics,\n",
    "        'Prueba': test_metrics\n",
    "    })\n",
    "    \n",
    "    metrics_comparison.plot(kind='bar', ax=axes[0,1])\n",
    "    axes[0,1].set_title('Comparación Métricas: Validación vs Prueba')\n",
    "    axes[0,1].set_ylabel('Score')\n",
    "    axes[0,1].legend()\n",
    "    axes[0,1].tick_params(axis='x', rotation=45)\n",
    "    \n",
    "    # Historia de optimización\n",
    "    trial_values = [trial.value for trial in study.trials if trial.value is not None]\n",
    "    axes[0,2].plot(trial_values)\n",
    "    axes[0,2].axhline(y=study.best_value, color='red', linestyle='--', \n",
    "                     label=f'Mejor: {study.best_value:.4f}')\n",
    "    axes[0,2].set_title('Historia de Optimización Optuna')\n",
    "    axes[0,2].set_xlabel('Prueba')\n",
    "    axes[0,2].set_ylabel('F1-Score')\n",
    "    axes[0,2].legend()\n",
    "    \n",
    "    # Distribución de probabilidades\n",
    "    axes[1,0].hist(y_test_pred_proba[y_test==0], alpha=0.7, label='Legítimo', bins=30)\n",
    "    axes[1,0].hist(y_test_pred_proba[y_test==1], alpha=0.7, label='Phishing', bins=30)\n",
    "    axes[1,0].set_title('Distribución de Probabilidades Predichas')\n",
    "    axes[1,0].set_xlabel('Probabilidad de Phishing')\n",
    "    axes[1,0].set_ylabel('Frecuencia')\n",
    "    axes[1,0].legend()\n",
    "    \n",
    "    # Importancia de hiperparámetros (si hay suficientes pruebas)\n",
    "    if len(study.trials) > 10:\n",
    "        try:\n",
    "            importance = optuna.importance.get_param_importances(study)\n",
    "            param_names = list(importance.keys())\n",
    "            importance_values = list(importance.values())\n",
    "            \n",
    "            axes[1,1].barh(param_names, importance_values)\n",
    "            axes[1,1].set_title('Importancia de Hiperparámetros')\n",
    "            axes[1,1].set_xlabel('Importancia')\n",
    "        except:\n",
    "            axes[1,1].text(0.5, 0.5, 'No se pudo calcular\\nla importancia', \n",
    "                          ha='center', va='center', transform=axes[1,1].transAxes)\n",
    "            axes[1,1].set_title('Importancia de Hiperparámetros')\n",
    "    \n",
    "    # Distribución de mejores valores por kernel\n",
    "    kernel_trials = {}\n",
    "    for trial in study.trials:\n",
    "        if trial.value is not None and 'kernel' in trial.params:\n",
    "            kernel = trial.params['kernel']\n",
    "            if kernel not in kernel_trials:\n",
    "                kernel_trials[kernel] = []\n",
    "            kernel_trials[kernel].append(trial.value)\n",
    "    \n",
    "    if kernel_trials:\n",
    "        axes[1,2].boxplot(kernel_trials.values(), labels=kernel_trials.keys())\n",
    "        axes[1,2].set_title('Distribución F1-Score por Kernel')\n",
    "        axes[1,2].set_ylabel('F1-Score')\n",
    "        axes[1,2].set_xlabel('Kernel')\n",
    "    \n",
    "    plt.tight_layout()\n",
    "    plt.show()\n",
    "    \n",
    "    # Reporte detallado de clasificación\n",
    "    print(\"\\n\" + \"=\"*50)\n",
    "    print(\"REPORTE DETALLADO DE CLASIFICACIÓN\")\n",
    "    print(\"=\"*50)\n",
    "    print(classification_report(y_test, y_test_pred, \n",
    "                              target_names=['Legítimo', 'Phishing']))\n",
    "    \n",
    "    # Validación cruzada final con mejores parámetros\n",
    "    final_cv_scores = cross_val_score(\n",
    "        best_svm, X_train_scaled, y_train, \n",
    "        cv=cv_strategy, scoring='f1', n_jobs=-1\n",
    "    )\n",
    "    \n",
    "    cv_std = np.std(final_cv_scores)\n",
    "    print(f\"\\nEstabilidad en CV (Desviación Estándar): {cv_std:.4f}\")\n",
    "    print(f\"Coeficiente de Variación: {cv_std/np.mean(final_cv_scores):.4f}\")\n",
    "    \n",
    "    return {\n",
    "        'model': best_svm,\n",
    "        'scaler': scaler,\n",
    "        'best_params': best_params,\n",
    "        'val_metrics': val_metrics,\n",
    "        'test_metrics': test_metrics,\n",
    "        'cv_scores': final_cv_scores,\n",
    "        'optuna_study': study,\n",
    "        'optimization_history': trial_values\n",
    "    }"
   ]
  },
  {
   "cell_type": "code",
   "execution_count": 9,
   "id": "ca27842d-9b69-4137-8478-9961209d99b9",
   "metadata": {},
   "outputs": [
    {
     "name": "stderr",
     "output_type": "stream",
     "text": [
      "[I 2025-06-12 22:42:14,972] A new study created in memory with name: no-name-e362f0d7-6c57-4136-a34d-b4be91aafa56\n"
     ]
    },
    {
     "name": "stdout",
     "output_type": "stream",
     "text": [
      "============================================================\n",
      "SUPPORT VECTOR MACHINE - DETECCIÓN DE PHISHING\n",
      "OPTIMIZACIÓN CON OPTUNA\n",
      "============================================================\n",
      "Escalando características...\n",
      "Iniciando optimización con Optuna...\n",
      "Número de pruebas: 20\n",
      "Tiempo límite: 1800 segundos\n"
     ]
    },
    {
     "data": {
      "application/vnd.jupyter.widget-view+json": {
       "model_id": "988c81fced4447d1a1bf0280eed4e003",
       "version_major": 2,
       "version_minor": 0
      },
      "text/plain": [
       "  0%|          | 0/20 [00:00<?, ?it/s]"
      ]
     },
     "metadata": {},
     "output_type": "display_data"
    },
    {
     "name": "stdout",
     "output_type": "stream",
     "text": [
      "[I 2025-06-12 22:42:25,536] Trial 0 finished with value: 0.943840521256682 and parameters: {'C': 3.14891164795686, 'kernel': 'linear', 'shrinking': True, 'class_weight': None}. Best is trial 0 with value: 0.943840521256682.\n",
      "[I 2025-06-12 22:42:31,455] Trial 1 finished with value: 0.9692472732842969 and parameters: {'C': 67.96578090758145, 'kernel': 'rbf', 'shrinking': False, 'class_weight': 'balanced', 'gamma_type': 'scale_auto', 'gamma_categorical': 'scale'}. Best is trial 1 with value: 0.9692472732842969.\n",
      "[I 2025-06-12 22:42:38,681] Trial 2 finished with value: 0.9584159632021965 and parameters: {'C': 1.4742753159914666, 'kernel': 'poly', 'shrinking': False, 'class_weight': 'balanced', 'gamma_type': 'scale_auto', 'gamma_categorical': 'auto', 'degree': 5, 'coef0': 0.3046137691733707}. Best is trial 1 with value: 0.9692472732842969.\n",
      "[I 2025-06-12 22:42:46,928] Trial 3 finished with value: 0.9416423352654444 and parameters: {'C': 0.24586032763280052, 'kernel': 'linear', 'shrinking': False, 'class_weight': 'balanced'}. Best is trial 1 with value: 0.9692472732842969.\n",
      "[I 2025-06-12 22:42:53,888] Trial 4 finished with value: 0.8228075463381458 and parameters: {'C': 1.7654048052495066, 'kernel': 'sigmoid', 'shrinking': False, 'class_weight': None, 'gamma_type': 'scale_auto', 'gamma_categorical': 'scale', 'coef0': 0.32533033076326434}. Best is trial 1 with value: 0.9692472732842969.\n",
      "[I 2025-06-12 22:43:00,023] Trial 5 finished with value: 0.9688499573795125 and parameters: {'C': 3.5868164986275475, 'kernel': 'rbf', 'shrinking': True, 'class_weight': None, 'gamma_type': 'scale_auto', 'gamma_categorical': 'scale'}. Best is trial 1 with value: 0.9692472732842969.\n",
      "[I 2025-06-12 22:43:03,898] Trial 6 finished with value: 0.9639915515843471 and parameters: {'C': 182.74508859815987, 'kernel': 'poly', 'shrinking': True, 'class_weight': None, 'gamma_type': 'scale_auto', 'gamma_categorical': 'auto', 'degree': 4, 'coef0': 0.6375574713552131}. Best is trial 1 with value: 0.9692472732842969.\n",
      "[I 2025-06-12 22:43:12,520] Trial 7 finished with value: 0.7911174456050034 and parameters: {'C': 353.87588647792353, 'kernel': 'sigmoid', 'shrinking': False, 'class_weight': 'balanced', 'gamma_type': 'scale_auto', 'gamma_categorical': 'scale', 'coef0': 0.6364104112637804}. Best is trial 1 with value: 0.9692472732842969.\n",
      "[I 2025-06-12 22:43:51,532] Trial 8 finished with value: 0.9136757474823807 and parameters: {'C': 1.8089390092767128, 'kernel': 'rbf', 'shrinking': True, 'class_weight': 'balanced', 'gamma_type': 'numeric', 'gamma_numeric': 0.26568139241144917}. Best is trial 1 with value: 0.9692472732842969.\n",
      "[I 2025-06-12 22:44:00,785] Trial 9 finished with value: 0.788932531890009 and parameters: {'C': 34.16764341832967, 'kernel': 'sigmoid', 'shrinking': False, 'class_weight': None, 'gamma_type': 'numeric', 'gamma_numeric': 0.019112758217777883, 'coef0': 0.8180147659224931}. Best is trial 1 with value: 0.9692472732842969.\n",
      "[I 2025-06-12 22:44:08,196] Trial 10 finished with value: 0.9539417642092518 and parameters: {'C': 39.24979560924892, 'kernel': 'rbf', 'shrinking': False, 'class_weight': 'balanced', 'gamma_type': 'numeric', 'gamma_numeric': 0.0013066991237906955}. Best is trial 1 with value: 0.9692472732842969.\n",
      "[I 2025-06-12 22:44:14,752] Trial 11 finished with value: 0.9713219959673467 and parameters: {'C': 16.74218737891213, 'kernel': 'rbf', 'shrinking': True, 'class_weight': None, 'gamma_type': 'scale_auto', 'gamma_categorical': 'scale'}. Best is trial 11 with value: 0.9713219959673467.\n",
      "[I 2025-06-12 22:44:21,687] Trial 12 finished with value: 0.9702436290363471 and parameters: {'C': 44.455345039994604, 'kernel': 'rbf', 'shrinking': True, 'class_weight': None, 'gamma_type': 'scale_auto', 'gamma_categorical': 'scale'}. Best is trial 11 with value: 0.9713219959673467.\n",
      "[I 2025-06-12 22:44:29,259] Trial 13 finished with value: 0.9715754770527042 and parameters: {'C': 10.854246110750795, 'kernel': 'rbf', 'shrinking': True, 'class_weight': None, 'gamma_type': 'scale_auto', 'gamma_categorical': 'scale'}. Best is trial 13 with value: 0.9715754770527042.\n",
      "[I 2025-06-12 22:44:39,384] Trial 14 finished with value: 0.9718704903167417 and parameters: {'C': 14.403910932208483, 'kernel': 'rbf', 'shrinking': True, 'class_weight': None, 'gamma_type': 'scale_auto', 'gamma_categorical': 'scale'}. Best is trial 14 with value: 0.9718704903167417.\n",
      "[I 2025-06-12 22:44:48,884] Trial 15 finished with value: 0.9643203630424833 and parameters: {'C': 994.1450502972556, 'kernel': 'rbf', 'shrinking': True, 'class_weight': None, 'gamma_type': 'scale_auto', 'gamma_categorical': 'scale'}. Best is trial 14 with value: 0.9718704903167417.\n",
      "[I 2025-06-12 22:45:37,140] Trial 16 finished with value: 0.788411535015448 and parameters: {'C': 8.58201556634729, 'kernel': 'rbf', 'shrinking': True, 'class_weight': None, 'gamma_type': 'numeric', 'gamma_numeric': 0.7244844110285286}. Best is trial 14 with value: 0.9718704903167417.\n",
      "[I 2025-06-12 22:45:49,046] Trial 17 finished with value: 0.949743884577629 and parameters: {'C': 0.42926000150802507, 'kernel': 'poly', 'shrinking': True, 'class_weight': None, 'gamma_type': 'scale_auto', 'gamma_categorical': 'auto', 'degree': 2, 'coef0': 0.027492010597022776}. Best is trial 14 with value: 0.9718704903167417.\n",
      "[I 2025-06-12 22:46:14,628] Trial 18 finished with value: 0.943587713111713 and parameters: {'C': 7.722604866665093, 'kernel': 'linear', 'shrinking': True, 'class_weight': None}. Best is trial 14 with value: 0.9718704903167417.\n",
      "[I 2025-06-12 22:46:29,872] Trial 19 finished with value: 0.9308260166424155 and parameters: {'C': 0.10446251525877388, 'kernel': 'rbf', 'shrinking': True, 'class_weight': None, 'gamma_type': 'scale_auto', 'gamma_categorical': 'scale'}. Best is trial 14 with value: 0.9718704903167417.\n",
      "\n",
      "==================================================\n",
      "MEJORES HIPERPARÁMETROS ENCONTRADOS\n",
      "==================================================\n",
      "C: 14.403910932208483\n",
      "kernel: rbf\n",
      "shrinking: True\n",
      "class_weight: None\n",
      "gamma_type: scale_auto\n",
      "gamma_categorical: scale\n",
      "Mejor F1-Score (CV): 0.9719\n",
      "\n",
      "Entrenando modelo final...\n",
      "\n",
      "==================================================\n",
      "EVALUACIÓN EN CONJUNTO DE VALIDACIÓN\n",
      "==================================================\n",
      "Métricas en Validación:\n",
      "ACCURACY: 0.9753\n",
      "PRECISION: 0.9734\n",
      "RECALL: 0.9773\n",
      "F1_SCORE: 0.9753\n",
      "AUC_ROC: 0.9968\n",
      "SPECIFICITY: 0.9733\n",
      "MCC: 0.9505\n",
      "\n",
      "✓ Criterios de selección:\n",
      "  - F1-Score: 0.9753\n",
      "  - AUC-ROC ≥ 0.90: ✓ (0.9968)\n",
      "\n",
      "==================================================\n",
      "EVALUACIÓN FINAL EN CONJUNTO DE PRUEBA\n",
      "==================================================\n",
      "Métricas en Prueba:\n",
      "ACCURACY: 0.9780\n",
      "PRECISION: 0.9711\n",
      "RECALL: 0.9853\n",
      "F1_SCORE: 0.9782\n",
      "AUC_ROC: 0.9959\n",
      "SPECIFICITY: 0.9707\n",
      "MCC: 0.9561\n",
      "\n",
      "==================================================\n",
      "ANÁLISIS DE LA OPTIMIZACIÓN\n",
      "==================================================\n",
      "Número total de pruebas: 20\n",
      "Número de pruebas completadas: 20\n",
      "Mejor valor encontrado: 0.9719\n"
     ]
    },
    {
     "data": {
      "image/png": "[encoded data removed]",
      "text/plain": [
       "<Figure size 1800x1200 with 7 Axes>"
      ]
     },
     "metadata": {},
     "output_type": "display_data"
    },
    {
     "name": "stdout",
     "output_type": "stream",
     "text": [
      "\n",
      "==================================================\n",
      "REPORTE DETALLADO DE CLASIFICACIÓN\n",
      "==================================================\n",
      "              precision    recall  f1-score   support\n",
      "\n",
      "    Legítimo       0.99      0.97      0.98       750\n",
      "    Phishing       0.97      0.99      0.98       750\n",
      "\n",
      "    accuracy                           0.98      1500\n",
      "   macro avg       0.98      0.98      0.98      1500\n",
      "weighted avg       0.98      0.98      0.98      1500\n",
      "\n",
      "\n",
      "Estabilidad en CV (Desviación Estándar): 0.0042\n",
      "Coeficiente de Variación: 0.0043\n",
      "Modelo final - F1 en validación: 0.9753\n",
      "Modelo final - F1 en prueba: 0.9782\n",
      "\n",
      "Análisis adicional de la optimización:\n",
      "Mejor valor: 0.9719\n",
      "Número total de pruebas: 20\n"
     ]
    }
   ],
   "source": [
    "results_svm = evaluate_svm_model_optuna(\n",
    "    X_train, X_val, X_test, y_train, y_val, y_test,\n",
    "    n_trials=20,  # Número de pruebas (ajusta según tu tiempo disponible)\n",
    "    timeout=1800   # 1 hora límite (opcional)\n",
    ")\n",
    "\n",
    "# Acceso a los resultados\n",
    "best_model = results_svm['model']\n",
    "validation_f1 = results_svm['val_metrics']['f1_score']\n",
    "test_f1 = results_svm['test_metrics']['f1_score']\n",
    "study = results_svm['optuna_study']\n",
    "\n",
    "print(f\"Modelo final - F1 en validación: {validation_f1:.4f}\")\n",
    "print(f\"Modelo final - F1 en prueba: {test_f1:.4f}\")\n",
    "\n",
    "# Análisis adicional de Optuna\n",
    "print(\"\\nAnálisis adicional de la optimización:\")\n",
    "print(f\"Mejor valor: {study.best_value:.4f}\")\n",
    "print(f\"Número total de pruebas: {len(study.trials)}\")\n"
   ]
  },
  {
   "cell_type": "code",
   "execution_count": 13,
   "id": "40998086-96d8-491f-9a25-2f06f0c408f2",
   "metadata": {},
   "outputs": [
    {
     "data": {
      "application/vnd.plotly.v1+json": {
       "config": {
        "plotlyServerURL": "https://plot.ly"
       },
       "data": [
        {
         "mode": "markers",
         "name": "Objective Value",
         "type": "scatter",
         "x": [
          0,
          1,
          2,
          3,
          4
         ],
         "y": [
          0.943840521256682,
          0.010749829810363223,
          0.9433251050428352,
          0.9433022429290021,
          0.8259233246309527
         ]
        },
        {
         "mode": "lines",
         "name": "Best Value",
         "type": "scatter",
         "x": [
          0,
          1,
          2,
          3,
          4
         ],
         "y": [
          0.943840521256682,
          0.943840521256682,
          0.943840521256682,
          0.943840521256682,
          0.943840521256682
         ]
        },
        {
         "marker": {
          "color": "#cccccc"
         },
         "mode": "markers",
         "name": "Infeasible Trial",
         "showlegend": false,
         "type": "scatter",
         "x": [],
         "y": []
        }
       ],
       "layout": {
        "template": {
         "data": {
          "bar": [
           {
            "error_x": {
             "color": "#2a3f5f"
            },
            "error_y": {
             "color": "#2a3f5f"
            },
            "marker": {
             "line": {
              "color": "#E5ECF6",
              "width": 0.5
             },
             "pattern": {
              "fillmode": "overlay",
              "size": 10,
              "solidity": 0.2
             }
            },
            "type": "bar"
           }
          ],
          "barpolar": [
           {
            "marker": {
             "line": {
              "color": "#E5ECF6",
              "width": 0.5
             },
             "pattern": {
              "fillmode": "overlay",
              "size": 10,
              "solidity": 0.2
             }
            },
            "type": "barpolar"
           }
          ],
          "carpet": [
           {
            "aaxis": {
             "endlinecolor": "#2a3f5f",
             "gridcolor": "white",
             "linecolor": "white",
             "minorgridcolor": "white",
             "startlinecolor": "#2a3f5f"
            },
            "baxis": {
             "endlinecolor": "#2a3f5f",
             "gridcolor": "white",
             "linecolor": "white",
             "minorgridcolor": "white",
             "startlinecolor": "#2a3f5f"
            },
            "type": "carpet"
           }
          ],
          "choropleth": [
           {
            "colorbar": {
             "outlinewidth": 0,
             "ticks": ""
            },
            "type": "choropleth"
           }
          ],
          "contour": [
           {
            "colorbar": {
             "outlinewidth": 0,
             "ticks": ""
            },
            "colorscale": [
             [
              0,
              "#0d0887"
             ],
             [
              0.1111111111111111,
              "#46039f"
             ],
             [
              0.2222222222222222,
              "#7201a8"
             ],
             [
              0.3333333333333333,
              "#9c179e"
             ],
             [
              0.4444444444444444,
              "#bd3786"
             ],
             [
              0.5555555555555556,
              "#d8576b"
             ],
             [
              0.6666666666666666,
              "#ed7953"
             ],
             [
              0.7777777777777778,
              "#fb9f3a"
             ],
             [
              0.8888888888888888,
              "#fdca26"
             ],
             [
              1,
              "#f0f921"
             ]
            ],
            "type": "contour"
           }
          ],
          "contourcarpet": [
           {
            "colorbar": {
             "outlinewidth": 0,
             "ticks": ""
            },
            "type": "contourcarpet"
           }
          ],
          "heatmap": [
           {
            "colorbar": {
             "outlinewidth": 0,
             "ticks": ""
            },
            "colorscale": [
             [
              0,
              "#0d0887"
             ],
             [
              0.1111111111111111,
              "#46039f"
             ],
             [
              0.2222222222222222,
              "#7201a8"
             ],
             [
              0.3333333333333333,
              "#9c179e"
             ],
             [
              0.4444444444444444,
              "#bd3786"
             ],
             [
              0.5555555555555556,
              "#d8576b"
             ],
             [
              0.6666666666666666,
              "#ed7953"
             ],
             [
              0.7777777777777778,
              "#fb9f3a"
             ],
             [
              0.8888888888888888,
              "#fdca26"
             ],
             [
              1,
              "#f0f921"
             ]
            ],
            "type": "heatmap"
           }
          ],
          "histogram": [
           {
            "marker": {
             "pattern": {
              "fillmode": "overlay",
              "size": 10,
              "solidity": 0.2
             }
            },
            "type": "histogram"
           }
          ],
          "histogram2d": [
           {
            "colorbar": {
             "outlinewidth": 0,
             "ticks": ""
            },
            "colorscale": [
             [
              0,
              "#0d0887"
             ],
             [
              0.1111111111111111,
              "#46039f"
             ],
             [
              0.2222222222222222,
              "#7201a8"
             ],
             [
              0.3333333333333333,
              "#9c179e"
             ],
             [
              0.4444444444444444,
              "#bd3786"
             ],
             [
              0.5555555555555556,
              "#d8576b"
             ],
             [
              0.6666666666666666,
              "#ed7953"
             ],
             [
              0.7777777777777778,
              "#fb9f3a"
             ],
             [
              0.8888888888888888,
              "#fdca26"
             ],
             [
              1,
              "#f0f921"
             ]
            ],
            "type": "histogram2d"
           }
          ],
          "histogram2dcontour": [
           {
            "colorbar": {
             "outlinewidth": 0,
             "ticks": ""
            },
            "colorscale": [
             [
              0,
              "#0d0887"
             ],
             [
              0.1111111111111111,
              "#46039f"
             ],
             [
              0.2222222222222222,
              "#7201a8"
             ],
             [
              0.3333333333333333,
              "#9c179e"
             ],
             [
              0.4444444444444444,
              "#bd3786"
             ],
             [
              0.5555555555555556,
              "#d8576b"
             ],
             [
              0.6666666666666666,
              "#ed7953"
             ],
             [
              0.7777777777777778,
              "#fb9f3a"
             ],
             [
              0.8888888888888888,
              "#fdca26"
             ],
             [
              1,
              "#f0f921"
             ]
            ],
            "type": "histogram2dcontour"
           }
          ],
          "mesh3d": [
           {
            "colorbar": {
             "outlinewidth": 0,
             "ticks": ""
            },
            "type": "mesh3d"
           }
          ],
          "parcoords": [
           {
            "line": {
             "colorbar": {
              "outlinewidth": 0,
              "ticks": ""
             }
            },
            "type": "parcoords"
           }
          ],
          "pie": [
           {
            "automargin": true,
            "type": "pie"
           }
          ],
          "scatter": [
           {
            "fillpattern": {
             "fillmode": "overlay",
             "size": 10,
             "solidity": 0.2
            },
            "type": "scatter"
           }
          ],
          "scatter3d": [
           {
            "line": {
             "colorbar": {
              "outlinewidth": 0,
              "ticks": ""
             }
            },
            "marker": {
             "colorbar": {
              "outlinewidth": 0,
              "ticks": ""
             }
            },
            "type": "scatter3d"
           }
          ],
          "scattercarpet": [
           {
            "marker": {
             "colorbar": {
              "outlinewidth": 0,
              "ticks": ""
             }
            },
            "type": "scattercarpet"
           }
          ],
          "scattergeo": [
           {
            "marker": {
             "colorbar": {
              "outlinewidth": 0,
              "ticks": ""
             }
            },
            "type": "scattergeo"
           }
          ],
          "scattergl": [
           {
            "marker": {
             "colorbar": {
              "outlinewidth": 0,
              "ticks": ""
             }
            },
            "type": "scattergl"
           }
          ],
          "scattermap": [
           {
            "marker": {
             "colorbar": {
              "outlinewidth": 0,
              "ticks": ""
             }
            },
            "type": "scattermap"
           }
          ],
          "scattermapbox": [
           {
            "marker": {
             "colorbar": {
              "outlinewidth": 0,
              "ticks": ""
             }
            },
            "type": "scattermapbox"
           }
          ],
          "scatterpolar": [
           {
            "marker": {
             "colorbar": {
              "outlinewidth": 0,
              "ticks": ""
             }
            },
            "type": "scatterpolar"
           }
          ],
          "scatterpolargl": [
           {
            "marker": {
             "colorbar": {
              "outlinewidth": 0,
              "ticks": ""
             }
            },
            "type": "scatterpolargl"
           }
          ],
          "scatterternary": [
           {
            "marker": {
             "colorbar": {
              "outlinewidth": 0,
              "ticks": ""
             }
            },
            "type": "scatterternary"
           }
          ],
          "surface": [
           {
            "colorbar": {
             "outlinewidth": 0,
             "ticks": ""
            },
            "colorscale": [
             [
              0,
              "#0d0887"
             ],
             [
              0.1111111111111111,
              "#46039f"
             ],
             [
              0.2222222222222222,
              "#7201a8"
             ],
             [
              0.3333333333333333,
              "#9c179e"
             ],
             [
              0.4444444444444444,
              "#bd3786"
             ],
             [
              0.5555555555555556,
              "#d8576b"
             ],
             [
              0.6666666666666666,
              "#ed7953"
             ],
             [
              0.7777777777777778,
              "#fb9f3a"
             ],
             [
              0.8888888888888888,
              "#fdca26"
             ],
             [
              1,
              "#f0f921"
             ]
            ],
            "type": "surface"
           }
          ],
          "table": [
           {
            "cells": {
             "fill": {
              "color": "#EBF0F8"
             },
             "line": {
              "color": "white"
             }
            },
            "header": {
             "fill": {
              "color": "#C8D4E3"
             },
             "line": {
              "color": "white"
             }
            },
            "type": "table"
           }
          ]
         },
         "layout": {
          "annotationdefaults": {
           "arrowcolor": "#2a3f5f",
           "arrowhead": 0,
           "arrowwidth": 1
          },
          "autotypenumbers": "strict",
          "coloraxis": {
           "colorbar": {
            "outlinewidth": 0,
            "ticks": ""
           }
          },
          "colorscale": {
           "diverging": [
            [
             0,
             "#8e0152"
            ],
            [
             0.1,
             "#c51b7d"
            ],
            [
             0.2,
             "#de77ae"
            ],
            [
             0.3,
             "#f1b6da"
            ],
            [
             0.4,
             "#fde0ef"
            ],
            [
             0.5,
             "#f7f7f7"
            ],
            [
             0.6,
             "#e6f5d0"
            ],
            [
             0.7,
             "#b8e186"
            ],
            [
             0.8,
             "#7fbc41"
            ],
            [
             0.9,
             "#4d9221"
            ],
            [
             1,
             "#276419"
            ]
           ],
           "sequential": [
            [
             0,
             "#0d0887"
            ],
            [
             0.1111111111111111,
             "#46039f"
            ],
            [
             0.2222222222222222,
             "#7201a8"
            ],
            [
             0.3333333333333333,
             "#9c179e"
            ],
            [
             0.4444444444444444,
             "#bd3786"
            ],
            [
             0.5555555555555556,
             "#d8576b"
            ],
            [
             0.6666666666666666,
             "#ed7953"
            ],
            [
             0.7777777777777778,
             "#fb9f3a"
            ],
            [
             0.8888888888888888,
             "#fdca26"
            ],
            [
             1,
             "#f0f921"
            ]
           ],
           "sequentialminus": [
            [
             0,
             "#0d0887"
            ],
            [
             0.1111111111111111,
             "#46039f"
            ],
            [
             0.2222222222222222,
             "#7201a8"
            ],
            [
             0.3333333333333333,
             "#9c179e"
            ],
            [
             0.4444444444444444,
             "#bd3786"
            ],
            [
             0.5555555555555556,
             "#d8576b"
            ],
            [
             0.6666666666666666,
             "#ed7953"
            ],
            [
             0.7777777777777778,
             "#fb9f3a"
            ],
            [
             0.8888888888888888,
             "#fdca26"
            ],
            [
             1,
             "#f0f921"
            ]
           ]
          },
          "colorway": [
           "#636efa",
           "#EF553B",
           "#00cc96",
           "#ab63fa",
           "#FFA15A",
           "#19d3f3",
           "#FF6692",
           "#B6E880",
           "#FF97FF",
           "#FECB52"
          ],
          "font": {
           "color": "#2a3f5f"
          },
          "geo": {
           "bgcolor": "white",
           "lakecolor": "white",
           "landcolor": "#E5ECF6",
           "showlakes": true,
           "showland": true,
           "subunitcolor": "white"
          },
          "hoverlabel": {
           "align": "left"
          },
          "hovermode": "closest",
          "mapbox": {
           "style": "light"
          },
          "paper_bgcolor": "white",
          "plot_bgcolor": "#E5ECF6",
          "polar": {
           "angularaxis": {
            "gridcolor": "white",
            "linecolor": "white",
            "ticks": ""
           },
           "bgcolor": "#E5ECF6",
           "radialaxis": {
            "gridcolor": "white",
            "linecolor": "white",
            "ticks": ""
           }
          },
          "scene": {
           "xaxis": {
            "backgroundcolor": "#E5ECF6",
            "gridcolor": "white",
            "gridwidth": 2,
            "linecolor": "white",
            "showbackground": true,
            "ticks": "",
            "zerolinecolor": "white"
           },
           "yaxis": {
            "backgroundcolor": "#E5ECF6",
            "gridcolor": "white",
            "gridwidth": 2,
            "linecolor": "white",
            "showbackground": true,
            "ticks": "",
            "zerolinecolor": "white"
           },
           "zaxis": {
            "backgroundcolor": "#E5ECF6",
            "gridcolor": "white",
            "gridwidth": 2,
            "linecolor": "white",
            "showbackground": true,
            "ticks": "",
            "zerolinecolor": "white"
           }
          },
          "shapedefaults": {
           "line": {
            "color": "#2a3f5f"
           }
          },
          "ternary": {
           "aaxis": {
            "gridcolor": "white",
            "linecolor": "white",
            "ticks": ""
           },
           "baxis": {
            "gridcolor": "white",
            "linecolor": "white",
            "ticks": ""
           },
           "bgcolor": "#E5ECF6",
           "caxis": {
            "gridcolor": "white",
            "linecolor": "white",
            "ticks": ""
           }
          },
          "title": {
           "x": 0.05
          },
          "xaxis": {
           "automargin": true,
           "gridcolor": "white",
           "linecolor": "white",
           "ticks": "",
           "title": {
            "standoff": 15
           },
           "zerolinecolor": "white",
           "zerolinewidth": 2
          },
          "yaxis": {
           "automargin": true,
           "gridcolor": "white",
           "linecolor": "white",
           "ticks": "",
           "title": {
            "standoff": 15
           },
           "zerolinecolor": "white",
           "zerolinewidth": 2
          }
         }
        },
        "title": {
         "text": "Optimization History Plot"
        },
        "xaxis": {
         "title": {
          "text": "Trial"
         }
        },
        "yaxis": {
         "title": {
          "text": "Objective Value"
         }
        }
       }
      },
      "image/png": "[encoded data removed]"
     },
     "metadata": {},
     "output_type": "display_data"
    },
    {
     "data": {
      "application/vnd.plotly.v1+json": {
       "config": {
        "plotlyServerURL": "https://plot.ly"
       },
       "data": [
        {
         "cliponaxis": false,
         "hovertemplate": [
          "C (FloatDistribution): 0.3327039093170741<extra></extra>",
          "kernel (CategoricalDistribution): 0.6672960906829258<extra></extra>"
         ],
         "name": "Objective Value",
         "orientation": "h",
         "text": [
          "0.33",
          "0.67"
         ],
         "textposition": "outside",
         "type": "bar",
         "x": [
          0.3327039093170741,
          0.6672960906829258
         ],
         "y": [
          "C",
          "kernel"
         ]
        }
       ],
       "layout": {
        "template": {
         "data": {
          "bar": [
           {
            "error_x": {
             "color": "#2a3f5f"
            },
            "error_y": {
             "color": "#2a3f5f"
            },
            "marker": {
             "line": {
              "color": "#E5ECF6",
              "width": 0.5
             },
             "pattern": {
              "fillmode": "overlay",
              "size": 10,
              "solidity": 0.2
             }
            },
            "type": "bar"
           }
          ],
          "barpolar": [
           {
            "marker": {
             "line": {
              "color": "#E5ECF6",
              "width": 0.5
             },
             "pattern": {
              "fillmode": "overlay",
              "size": 10,
              "solidity": 0.2
             }
            },
            "type": "barpolar"
           }
          ],
          "carpet": [
           {
            "aaxis": {
             "endlinecolor": "#2a3f5f",
             "gridcolor": "white",
             "linecolor": "white",
             "minorgridcolor": "white",
             "startlinecolor": "#2a3f5f"
            },
            "baxis": {
             "endlinecolor": "#2a3f5f",
             "gridcolor": "white",
             "linecolor": "white",
             "minorgridcolor": "white",
             "startlinecolor": "#2a3f5f"
            },
            "type": "carpet"
           }
          ],
          "choropleth": [
           {
            "colorbar": {
             "outlinewidth": 0,
             "ticks": ""
            },
            "type": "choropleth"
           }
          ],
          "contour": [
           {
            "colorbar": {
             "outlinewidth": 0,
             "ticks": ""
            },
            "colorscale": [
             [
              0,
              "#0d0887"
             ],
             [
              0.1111111111111111,
              "#46039f"
             ],
             [
              0.2222222222222222,
              "#7201a8"
             ],
             [
              0.3333333333333333,
              "#9c179e"
             ],
             [
              0.4444444444444444,
              "#bd3786"
             ],
             [
              0.5555555555555556,
              "#d8576b"
             ],
             [
              0.6666666666666666,
              "#ed7953"
             ],
             [
              0.7777777777777778,
              "#fb9f3a"
             ],
             [
              0.8888888888888888,
              "#fdca26"
             ],
             [
              1,
              "#f0f921"
             ]
            ],
            "type": "contour"
           }
          ],
          "contourcarpet": [
           {
            "colorbar": {
             "outlinewidth": 0,
             "ticks": ""
            },
            "type": "contourcarpet"
           }
          ],
          "heatmap": [
           {
            "colorbar": {
             "outlinewidth": 0,
             "ticks": ""
            },
            "colorscale": [
             [
              0,
              "#0d0887"
             ],
             [
              0.1111111111111111,
              "#46039f"
             ],
             [
              0.2222222222222222,
              "#7201a8"
             ],
             [
              0.3333333333333333,
              "#9c179e"
             ],
             [
              0.4444444444444444,
              "#bd3786"
             ],
             [
              0.5555555555555556,
              "#d8576b"
             ],
             [
              0.6666666666666666,
              "#ed7953"
             ],
             [
              0.7777777777777778,
              "#fb9f3a"
             ],
             [
              0.8888888888888888,
              "#fdca26"
             ],
             [
              1,
              "#f0f921"
             ]
            ],
            "type": "heatmap"
           }
          ],
          "histogram": [
           {
            "marker": {
             "pattern": {
              "fillmode": "overlay",
              "size": 10,
              "solidity": 0.2
             }
            },
            "type": "histogram"
           }
          ],
          "histogram2d": [
           {
            "colorbar": {
             "outlinewidth": 0,
             "ticks": ""
            },
            "colorscale": [
             [
              0,
              "#0d0887"
             ],
             [
              0.1111111111111111,
              "#46039f"
             ],
             [
              0.2222222222222222,
              "#7201a8"
             ],
             [
              0.3333333333333333,
              "#9c179e"
             ],
             [
              0.4444444444444444,
              "#bd3786"
             ],
             [
              0.5555555555555556,
              "#d8576b"
             ],
             [
              0.6666666666666666,
              "#ed7953"
             ],
             [
              0.7777777777777778,
              "#fb9f3a"
             ],
             [
              0.8888888888888888,
              "#fdca26"
             ],
             [
              1,
              "#f0f921"
             ]
            ],
            "type": "histogram2d"
           }
          ],
          "histogram2dcontour": [
           {
            "colorbar": {
             "outlinewidth": 0,
             "ticks": ""
            },
            "colorscale": [
             [
              0,
              "#0d0887"
             ],
             [
              0.1111111111111111,
              "#46039f"
             ],
             [
              0.2222222222222222,
              "#7201a8"
             ],
             [
              0.3333333333333333,
              "#9c179e"
             ],
             [
              0.4444444444444444,
              "#bd3786"
             ],
             [
              0.5555555555555556,
              "#d8576b"
             ],
             [
              0.6666666666666666,
              "#ed7953"
             ],
             [
              0.7777777777777778,
              "#fb9f3a"
             ],
             [
              0.8888888888888888,
              "#fdca26"
             ],
             [
              1,
              "#f0f921"
             ]
            ],
            "type": "histogram2dcontour"
           }
          ],
          "mesh3d": [
           {
            "colorbar": {
             "outlinewidth": 0,
             "ticks": ""
            },
            "type": "mesh3d"
           }
          ],
          "parcoords": [
           {
            "line": {
             "colorbar": {
              "outlinewidth": 0,
              "ticks": ""
             }
            },
            "type": "parcoords"
           }
          ],
          "pie": [
           {
            "automargin": true,
            "type": "pie"
           }
          ],
          "scatter": [
           {
            "fillpattern": {
             "fillmode": "overlay",
             "size": 10,
             "solidity": 0.2
            },
            "type": "scatter"
           }
          ],
          "scatter3d": [
           {
            "line": {
             "colorbar": {
              "outlinewidth": 0,
              "ticks": ""
             }
            },
            "marker": {
             "colorbar": {
              "outlinewidth": 0,
              "ticks": ""
             }
            },
            "type": "scatter3d"
           }
          ],
          "scattercarpet": [
           {
            "marker": {
             "colorbar": {
              "outlinewidth": 0,
              "ticks": ""
             }
            },
            "type": "scattercarpet"
           }
          ],
          "scattergeo": [
           {
            "marker": {
             "colorbar": {
              "outlinewidth": 0,
              "ticks": ""
             }
            },
            "type": "scattergeo"
           }
          ],
          "scattergl": [
           {
            "marker": {
             "colorbar": {
              "outlinewidth": 0,
              "ticks": ""
             }
            },
            "type": "scattergl"
           }
          ],
          "scattermap": [
           {
            "marker": {
             "colorbar": {
              "outlinewidth": 0,
              "ticks": ""
             }
            },
            "type": "scattermap"
           }
          ],
          "scattermapbox": [
           {
            "marker": {
             "colorbar": {
              "outlinewidth": 0,
              "ticks": ""
             }
            },
            "type": "scattermapbox"
           }
          ],
          "scatterpolar": [
           {
            "marker": {
             "colorbar": {
              "outlinewidth": 0,
              "ticks": ""
             }
            },
            "type": "scatterpolar"
           }
          ],
          "scatterpolargl": [
           {
            "marker": {
             "colorbar": {
              "outlinewidth": 0,
              "ticks": ""
             }
            },
            "type": "scatterpolargl"
           }
          ],
          "scatterternary": [
           {
            "marker": {
             "colorbar": {
              "outlinewidth": 0,
              "ticks": ""
             }
            },
            "type": "scatterternary"
           }
          ],
          "surface": [
           {
            "colorbar": {
             "outlinewidth": 0,
             "ticks": ""
            },
            "colorscale": [
             [
              0,
              "#0d0887"
             ],
             [
              0.1111111111111111,
              "#46039f"
             ],
             [
              0.2222222222222222,
              "#7201a8"
             ],
             [
              0.3333333333333333,
              "#9c179e"
             ],
             [
              0.4444444444444444,
              "#bd3786"
             ],
             [
              0.5555555555555556,
              "#d8576b"
             ],
             [
              0.6666666666666666,
              "#ed7953"
             ],
             [
              0.7777777777777778,
              "#fb9f3a"
             ],
             [
              0.8888888888888888,
              "#fdca26"
             ],
             [
              1,
              "#f0f921"
             ]
            ],
            "type": "surface"
           }
          ],
          "table": [
           {
            "cells": {
             "fill": {
              "color": "#EBF0F8"
             },
             "line": {
              "color": "white"
             }
            },
            "header": {
             "fill": {
              "color": "#C8D4E3"
             },
             "line": {
              "color": "white"
             }
            },
            "type": "table"
           }
          ]
         },
         "layout": {
          "annotationdefaults": {
           "arrowcolor": "#2a3f5f",
           "arrowhead": 0,
           "arrowwidth": 1
          },
          "autotypenumbers": "strict",
          "coloraxis": {
           "colorbar": {
            "outlinewidth": 0,
            "ticks": ""
           }
          },
          "colorscale": {
           "diverging": [
            [
             0,
             "#8e0152"
            ],
            [
             0.1,
             "#c51b7d"
            ],
            [
             0.2,
             "#de77ae"
            ],
            [
             0.3,
             "#f1b6da"
            ],
            [
             0.4,
             "#fde0ef"
            ],
            [
             0.5,
             "#f7f7f7"
            ],
            [
             0.6,
             "#e6f5d0"
            ],
            [
             0.7,
             "#b8e186"
            ],
            [
             0.8,
             "#7fbc41"
            ],
            [
             0.9,
             "#4d9221"
            ],
            [
             1,
             "#276419"
            ]
           ],
           "sequential": [
            [
             0,
             "#0d0887"
            ],
            [
             0.1111111111111111,
             "#46039f"
            ],
            [
             0.2222222222222222,
             "#7201a8"
            ],
            [
             0.3333333333333333,
             "#9c179e"
            ],
            [
             0.4444444444444444,
             "#bd3786"
            ],
            [
             0.5555555555555556,
             "#d8576b"
            ],
            [
             0.6666666666666666,
             "#ed7953"
            ],
            [
             0.7777777777777778,
             "#fb9f3a"
            ],
            [
             0.8888888888888888,
             "#fdca26"
            ],
            [
             1,
             "#f0f921"
            ]
           ],
           "sequentialminus": [
            [
             0,
             "#0d0887"
            ],
            [
             0.1111111111111111,
             "#46039f"
            ],
            [
             0.2222222222222222,
             "#7201a8"
            ],
            [
             0.3333333333333333,
             "#9c179e"
            ],
            [
             0.4444444444444444,
             "#bd3786"
            ],
            [
             0.5555555555555556,
             "#d8576b"
            ],
            [
             0.6666666666666666,
             "#ed7953"
            ],
            [
             0.7777777777777778,
             "#fb9f3a"
            ],
            [
             0.8888888888888888,
             "#fdca26"
            ],
            [
             1,
             "#f0f921"
            ]
           ]
          },
          "colorway": [
           "#636efa",
           "#EF553B",
           "#00cc96",
           "#ab63fa",
           "#FFA15A",
           "#19d3f3",
           "#FF6692",
           "#B6E880",
           "#FF97FF",
           "#FECB52"
          ],
          "font": {
           "color": "#2a3f5f"
          },
          "geo": {
           "bgcolor": "white",
           "lakecolor": "white",
           "landcolor": "#E5ECF6",
           "showlakes": true,
           "showland": true,
           "subunitcolor": "white"
          },
          "hoverlabel": {
           "align": "left"
          },
          "hovermode": "closest",
          "mapbox": {
           "style": "light"
          },
          "paper_bgcolor": "white",
          "plot_bgcolor": "#E5ECF6",
          "polar": {
           "angularaxis": {
            "gridcolor": "white",
            "linecolor": "white",
            "ticks": ""
           },
           "bgcolor": "#E5ECF6",
           "radialaxis": {
            "gridcolor": "white",
            "linecolor": "white",
            "ticks": ""
           }
          },
          "scene": {
           "xaxis": {
            "backgroundcolor": "#E5ECF6",
            "gridcolor": "white",
            "gridwidth": 2,
            "linecolor": "white",
            "showbackground": true,
            "ticks": "",
            "zerolinecolor": "white"
           },
           "yaxis": {
            "backgroundcolor": "#E5ECF6",
            "gridcolor": "white",
            "gridwidth": 2,
            "linecolor": "white",
            "showbackground": true,
            "ticks": "",
            "zerolinecolor": "white"
           },
           "zaxis": {
            "backgroundcolor": "#E5ECF6",
            "gridcolor": "white",
            "gridwidth": 2,
            "linecolor": "white",
            "showbackground": true,
            "ticks": "",
            "zerolinecolor": "white"
           }
          },
          "shapedefaults": {
           "line": {
            "color": "#2a3f5f"
           }
          },
          "ternary": {
           "aaxis": {
            "gridcolor": "white",
            "linecolor": "white",
            "ticks": ""
           },
           "baxis": {
            "gridcolor": "white",
            "linecolor": "white",
            "ticks": ""
           },
           "bgcolor": "#E5ECF6",
           "caxis": {
            "gridcolor": "white",
            "linecolor": "white",
            "ticks": ""
           }
          },
          "title": {
           "x": 0.05
          },
          "xaxis": {
           "automargin": true,
           "gridcolor": "white",
           "linecolor": "white",
           "ticks": "",
           "title": {
            "standoff": 15
           },
           "zerolinecolor": "white",
           "zerolinewidth": 2
          },
          "yaxis": {
           "automargin": true,
           "gridcolor": "white",
           "linecolor": "white",
           "ticks": "",
           "title": {
            "standoff": 15
           },
           "zerolinecolor": "white",
           "zerolinewidth": 2
          }
         }
        },
        "title": {
         "text": "Hyperparameter Importances"
        },
        "xaxis": {
         "title": {
          "text": "Hyperparameter Importance"
         }
        },
        "yaxis": {
         "title": {
          "text": "Hyperparameter"
         }
        }
       }
      },
      "image/png": "[encoded data removed]"
     },
     "metadata": {},
     "output_type": "display_data"
    }
   ],
   "source": [
    "\n",
    "# Visualizar la optimización \n",
    "optuna.visualization.plot_optimization_history(study).show()\n",
    "optuna.visualization.plot_param_importances(study).show()"
   ]
  }
 ],
 "metadata": {
  "kernelspec": {
   "display_name": "Python 3 (ipykernel)",
   "language": "python",
   "name": "python3"
  },
  "language_info": {
   "codemirror_mode": {
    "name": "ipython",
    "version": 3
   },
   "file_extension": ".py",
   "mimetype": "text/x-python",
   "name": "python",
   "nbconvert_exporter": "python",
   "pygments_lexer": "ipython3",
   "version": "3.11.6"
  }
 },
 "nbformat": 4,
 "nbformat_minor": 5
}
