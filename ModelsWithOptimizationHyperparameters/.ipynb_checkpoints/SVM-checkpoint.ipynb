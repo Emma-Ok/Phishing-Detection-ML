{
 "cells": [
  {
   "cell_type": "markdown",
   "id": "c8e84dc2-c3d2-4a91-8340-65a0d2932477",
   "metadata": {},
   "source": [
    "<a href=\"https://colab.research.google.com/github/Emma-Ok/Phishing-Detection-ML/blob/alc4dev/ModelsWithAllSamples/SVM.ipynb\" target=\"_parent\"><img src=\"https://colab.research.google.com/assets/colab-badge.svg\" alt=\"Open In Colab\"/></a>"
   ]
  },
  {
   "cell_type": "code",
   "execution_count": 39,
   "id": "06055ebc-262d-4463-89eb-9d0f1a77c046",
   "metadata": {},
   "outputs": [
    {
     "name": "stdout",
     "output_type": "stream",
     "text": [
      "Dataset shape: (10000, 49)\n",
      "Distribución de clases:\n",
      "CLASS_LABEL\n",
      "1    5000\n",
      "0    5000\n",
      "Name: count, dtype: int64\n"
     ]
    }
   ],
   "source": [
    "# Support Vector Machine para Detección de Phishing\n",
    "import numpy as np\n",
    "import optuna\n",
    "from optuna.samplers import TPESampler\n",
    "import pandas as pd\n",
    "from sklearn.svm import SVC\n",
    "from sklearn.model_selection import GridSearchCV, StratifiedKFold, train_test_split, cross_val_score\n",
    "from sklearn.metrics import (accuracy_score, precision_score, recall_score, \n",
    "                           f1_score, roc_auc_score, classification_report, roc_curve, auc,\n",
    "                           confusion_matrix, matthews_corrcoef)\n",
    "from sklearn.preprocessing import StandardScaler\n",
    "import matplotlib.pyplot as plt\n",
    "import seaborn as sns\n",
    "import warnings\n",
    "from scipy import stats as st\n",
    "import seaborn as sns\n",
    "warnings.filterwarnings('ignore')\n",
    "\n",
    "# Carga directa desde GitHub\n",
    "url = \"https://raw.githubusercontent.com/Emma-Ok/Phishing-Detection-ML/main/Phishing_Legitimate_full.csv\"\n",
    "df = pd.read_csv(url)\n",
    "df = df.drop(columns=['id'])\n",
    "\n",
    "print(f\"Dataset shape: {df.shape}\")\n",
    "print(f\"Distribución de clases:\\n{df['CLASS_LABEL'].value_counts()}\")\n",
    "\n",
    "# Separar X e y\n",
    "X = df.drop(columns=['CLASS_LABEL'])\n",
    "y = df['CLASS_LABEL']\n",
    "\n",
    "# División estratificada según metodología: 80 20\n",
    "X_train, X_test, y_train, y_test = train_test_split(\n",
    "    X, y, \n",
    "    test_size=0.2, \n",
    "    random_state=42, \n",
    "    stratify=y\n",
    ")\n"
   ]
  },
  {
   "cell_type": "code",
   "execution_count": 4,
   "id": "e81e5469-9fbe-4424-bafe-8987309f2def",
   "metadata": {},
   "outputs": [
    {
     "name": "stdout",
     "output_type": "stream",
     "text": [
      "Escalando características...\n",
      "✓ Escalado completado\n"
     ]
    }
   ],
   "source": [
    "print(\"Escalando características...\")\n",
    "scaler = StandardScaler()\n",
    "X_train_scaled = scaler.fit_transform(X_train)\n",
    "X_test_scaled = scaler.transform(X_test)\n",
    "print(\"✓ Escalado completado\")"
   ]
  },
  {
   "cell_type": "code",
   "execution_count": 7,
   "id": "791f31c8-e3f1-4adb-a4b5-4a3d9f6bd249",
   "metadata": {},
   "outputs": [],
   "source": [
    "def create_optuna_objective(X_train_scaled, y_train, cv_strategy=None):\n",
    "    \"\"\"\n",
    "    Crea la función objetivo para Optuna, optimizando múltiples hiperparámetros del modelo SVM (SVC).\n",
    "    \n",
    "    Args:\n",
    "        X_train_scaled: Características de entrenamiento escaladas\n",
    "        y_train: Etiquetas de entrenamiento\n",
    "        cv_strategy: Estrategia de validación cruzada (si no se pasa, se usa StratifiedKFold)\n",
    "    \n",
    "    Returns:\n",
    "        function: Función objetivo para Optuna\n",
    "    \"\"\"\n",
    "    \n",
    "    if cv_strategy is None:\n",
    "        cv_strategy = StratifiedKFold(n_splits=5, shuffle=True, random_state=42)\n",
    "    \n",
    "    def objective(trial):\n",
    "        # Sugerencia de hiperparámetros comunes\n",
    "        C = trial.suggest_float('C', 0.1, 1000.0, log=True)\n",
    "        kernel = trial.suggest_categorical('kernel', ['linear', 'rbf', 'poly', 'sigmoid'])\n",
    "        shrinking = trial.suggest_categorical('shrinking', [True, False])\n",
    "        class_weight = trial.suggest_categorical('class_weight', [None, 'balanced'])\n",
    "\n",
    "        # Parámetros base\n",
    "        params = {\n",
    "            'C': C,\n",
    "            'kernel': kernel,\n",
    "            'shrinking': shrinking,\n",
    "            'class_weight': class_weight,\n",
    "            'probability': True,\n",
    "            'random_state': 42\n",
    "        }\n",
    "\n",
    "        # Parámetros según kernel\n",
    "        if kernel in ['rbf', 'poly', 'sigmoid']:\n",
    "            gamma_type = trial.suggest_categorical('gamma_type', ['scale_auto', 'numeric'])\n",
    "\n",
    "            if gamma_type == 'scale_auto':\n",
    "                gamma = trial.suggest_categorical('gamma_categorical', ['scale', 'auto'])\n",
    "            else:\n",
    "                gamma = trial.suggest_float('gamma_numeric', 0.001, 1.0, log=True)\n",
    "\n",
    "            params['gamma'] = gamma\n",
    "\n",
    "        if kernel == 'poly':\n",
    "            degree = trial.suggest_int('degree', 2, 5)\n",
    "            coef0 = trial.suggest_float('coef0', 0.0, 1.0)\n",
    "            params['degree'] = degree\n",
    "            params['coef0'] = coef0\n",
    "\n",
    "        if kernel == 'sigmoid':\n",
    "            coef0 = trial.suggest_float('coef0', 0.0, 1.0)\n",
    "            params['coef0'] = coef0\n",
    "\n",
    "        # Crear modelo y evaluar\n",
    "        model = SVC(**params)\n",
    "\n",
    "        cv_scores = cross_val_score(\n",
    "            model, X_train_scaled, y_train,\n",
    "            cv=cv_strategy, scoring='f1', n_jobs=-1\n",
    "        )\n",
    "\n",
    "        \n",
    "        # Guardar información adicional en el trial\n",
    "        trial.set_user_attr(\"cv_scores\", cv_scores.tolist())\n",
    "        return cv_scores.mean()\n",
    "    \n",
    "    return objective"
   ]
  },
  {
   "cell_type": "code",
   "execution_count": 29,
   "id": "8603cfdf-7462-4b7e-a37a-1d6f71a5086d",
   "metadata": {},
   "outputs": [
    {
     "name": "stderr",
     "output_type": "stream",
     "text": [
      "[I 2025-07-08 01:40:52,235] A new study created in memory with name: no-name-4a6a8059-e403-40b0-967e-f3644fb4be20\n"
     ]
    },
    {
     "name": "stdout",
     "output_type": "stream",
     "text": [
      "Iniciando optimización con Optuna...\n"
     ]
    },
    {
     "data": {
      "application/vnd.jupyter.widget-view+json": {
       "model_id": "dc19a221c40e4d6eae5247e9edd15fa2",
       "version_major": 2,
       "version_minor": 0
      },
      "text/plain": [
       "  0%|          | 0/40 [00:00<?, ?it/s]"
      ]
     },
     "metadata": {},
     "output_type": "display_data"
    },
    {
     "name": "stdout",
     "output_type": "stream",
     "text": [
      "[I 2025-07-08 01:41:10,348] Trial 0 finished with value: 0.9460249914885978 and parameters: {'C': 3.14891164795686, 'kernel': 'linear', 'shrinking': True, 'class_weight': None}. Best is trial 0 with value: 0.9460249914885978.\n",
      "[I 2025-07-08 01:41:20,658] Trial 1 finished with value: 0.970166417380854 and parameters: {'C': 67.96578090758145, 'kernel': 'rbf', 'shrinking': False, 'class_weight': 'balanced', 'gamma_type': 'scale_auto', 'gamma_categorical': 'scale'}. Best is trial 1 with value: 0.970166417380854.\n",
      "[I 2025-07-08 01:41:30,586] Trial 2 finished with value: 0.9603232994872082 and parameters: {'C': 1.4742753159914666, 'kernel': 'poly', 'shrinking': False, 'class_weight': 'balanced', 'gamma_type': 'scale_auto', 'gamma_categorical': 'auto', 'degree': 5, 'coef0': 0.3046137691733707}. Best is trial 1 with value: 0.970166417380854.\n",
      "[I 2025-07-08 01:41:42,205] Trial 3 finished with value: 0.9433856799693986 and parameters: {'C': 0.24586032763280052, 'kernel': 'linear', 'shrinking': False, 'class_weight': 'balanced'}. Best is trial 1 with value: 0.970166417380854.\n",
      "[I 2025-07-08 01:41:52,200] Trial 4 finished with value: 0.8204666891579594 and parameters: {'C': 1.7654048052495066, 'kernel': 'sigmoid', 'shrinking': False, 'class_weight': None, 'gamma_type': 'scale_auto', 'gamma_categorical': 'scale', 'coef0': 0.32533033076326434}. Best is trial 1 with value: 0.970166417380854.\n",
      "[I 2025-07-08 01:42:01,014] Trial 5 finished with value: 0.969515263561387 and parameters: {'C': 3.5868164986275475, 'kernel': 'rbf', 'shrinking': True, 'class_weight': None, 'gamma_type': 'scale_auto', 'gamma_categorical': 'scale'}. Best is trial 1 with value: 0.970166417380854.\n",
      "[I 2025-07-08 01:42:06,217] Trial 6 finished with value: 0.9701044503839574 and parameters: {'C': 182.74508859815987, 'kernel': 'poly', 'shrinking': True, 'class_weight': None, 'gamma_type': 'scale_auto', 'gamma_categorical': 'auto', 'degree': 4, 'coef0': 0.6375574713552131}. Best is trial 1 with value: 0.970166417380854.\n",
      "[I 2025-07-08 01:42:17,992] Trial 7 finished with value: 0.7939852130130409 and parameters: {'C': 353.87588647792353, 'kernel': 'sigmoid', 'shrinking': False, 'class_weight': 'balanced', 'gamma_type': 'scale_auto', 'gamma_categorical': 'scale', 'coef0': 0.6364104112637804}. Best is trial 1 with value: 0.970166417380854.\n",
      "[I 2025-07-08 01:43:03,776] Trial 8 finished with value: 0.9180605493002651 and parameters: {'C': 1.8089390092767128, 'kernel': 'rbf', 'shrinking': True, 'class_weight': 'balanced', 'gamma_type': 'numeric', 'gamma_numeric': 0.26568139241144917}. Best is trial 1 with value: 0.970166417380854.\n",
      "[I 2025-07-08 01:43:15,703] Trial 9 finished with value: 0.7907310475667497 and parameters: {'C': 34.16764341832967, 'kernel': 'sigmoid', 'shrinking': False, 'class_weight': None, 'gamma_type': 'numeric', 'gamma_numeric': 0.019112758217777883, 'coef0': 0.8180147659224931}. Best is trial 1 with value: 0.970166417380854.\n",
      "[I 2025-07-08 01:43:24,402] Trial 10 finished with value: 0.9538822549197741 and parameters: {'C': 39.24979560924892, 'kernel': 'rbf', 'shrinking': False, 'class_weight': 'balanced', 'gamma_type': 'numeric', 'gamma_numeric': 0.0013066991237906955}. Best is trial 1 with value: 0.970166417380854.\n",
      "[I 2025-07-08 01:43:30,498] Trial 11 finished with value: 0.9665021186935864 and parameters: {'C': 809.9433357146281, 'kernel': 'poly', 'shrinking': True, 'class_weight': None, 'gamma_type': 'scale_auto', 'gamma_categorical': 'auto', 'degree': 3, 'coef0': 0.983482034347295}. Best is trial 1 with value: 0.970166417380854.\n",
      "[I 2025-07-08 01:43:38,790] Trial 12 finished with value: 0.965617943522582 and parameters: {'C': 134.98252236095712, 'kernel': 'poly', 'shrinking': True, 'class_weight': None, 'gamma_type': 'scale_auto', 'gamma_categorical': 'auto', 'degree': 4, 'coef0': 0.0263680844058074}. Best is trial 1 with value: 0.970166417380854.\n",
      "[I 2025-07-08 01:43:46,139] Trial 13 finished with value: 0.9707944954549237 and parameters: {'C': 62.96445723981207, 'kernel': 'rbf', 'shrinking': True, 'class_weight': 'balanced', 'gamma_type': 'scale_auto', 'gamma_categorical': 'scale'}. Best is trial 13 with value: 0.9707944954549237.\n",
      "[I 2025-07-08 01:43:54,906] Trial 14 finished with value: 0.9705602821129464 and parameters: {'C': 25.561233799639208, 'kernel': 'rbf', 'shrinking': False, 'class_weight': 'balanced', 'gamma_type': 'scale_auto', 'gamma_categorical': 'scale'}. Best is trial 13 with value: 0.9707944954549237.\n",
      "[I 2025-07-08 01:44:02,794] Trial 15 finished with value: 0.9720298264123581 and parameters: {'C': 13.065378156267384, 'kernel': 'rbf', 'shrinking': True, 'class_weight': 'balanced', 'gamma_type': 'scale_auto', 'gamma_categorical': 'scale'}. Best is trial 15 with value: 0.9720298264123581.\n",
      "[I 2025-07-08 01:44:49,892] Trial 16 finished with value: 0.783223654805484 and parameters: {'C': 9.052508697042917, 'kernel': 'rbf', 'shrinking': True, 'class_weight': 'balanced', 'gamma_type': 'numeric', 'gamma_numeric': 0.8409421416247106}. Best is trial 15 with value: 0.9720298264123581.\n",
      "[I 2025-07-08 01:44:57,894] Trial 17 finished with value: 0.9719998202880349 and parameters: {'C': 10.14547570370153, 'kernel': 'rbf', 'shrinking': True, 'class_weight': 'balanced', 'gamma_type': 'scale_auto', 'gamma_categorical': 'scale'}. Best is trial 15 with value: 0.9720298264123581.\n",
      "[I 2025-07-08 01:45:10,888] Trial 18 finished with value: 0.9515764245716817 and parameters: {'C': 0.3684147136494574, 'kernel': 'rbf', 'shrinking': True, 'class_weight': 'balanced', 'gamma_type': 'scale_auto', 'gamma_categorical': 'scale'}. Best is trial 15 with value: 0.9720298264123581.\n",
      "[I 2025-07-08 01:45:45,118] Trial 19 finished with value: 0.9461797922318735 and parameters: {'C': 10.06424771057853, 'kernel': 'linear', 'shrinking': True, 'class_weight': 'balanced'}. Best is trial 15 with value: 0.9720298264123581.\n",
      "[I 2025-07-08 01:45:52,970] Trial 20 finished with value: 0.9716207584952269 and parameters: {'C': 8.6848145460058, 'kernel': 'rbf', 'shrinking': True, 'class_weight': 'balanced', 'gamma_type': 'scale_auto', 'gamma_categorical': 'scale'}. Best is trial 15 with value: 0.9720298264123581.\n",
      "[I 2025-07-08 01:46:01,050] Trial 21 finished with value: 0.9721340502897977 and parameters: {'C': 10.966194783180145, 'kernel': 'rbf', 'shrinking': True, 'class_weight': 'balanced', 'gamma_type': 'scale_auto', 'gamma_categorical': 'scale'}. Best is trial 21 with value: 0.9721340502897977.\n",
      "[I 2025-07-08 01:46:08,701] Trial 22 finished with value: 0.9719006369979125 and parameters: {'C': 15.932274605008772, 'kernel': 'rbf', 'shrinking': True, 'class_weight': 'balanced', 'gamma_type': 'scale_auto', 'gamma_categorical': 'scale'}. Best is trial 21 with value: 0.9721340502897977.\n",
      "[I 2025-07-08 01:46:20,111] Trial 23 finished with value: 0.9582513623876479 and parameters: {'C': 0.7695725251661873, 'kernel': 'rbf', 'shrinking': True, 'class_weight': 'balanced', 'gamma_type': 'scale_auto', 'gamma_categorical': 'scale'}. Best is trial 21 with value: 0.9721340502897977.\n",
      "[I 2025-07-08 01:46:28,388] Trial 24 finished with value: 0.9716220669612057 and parameters: {'C': 6.265252453496293, 'kernel': 'rbf', 'shrinking': True, 'class_weight': 'balanced', 'gamma_type': 'scale_auto', 'gamma_categorical': 'scale'}. Best is trial 21 with value: 0.9721340502897977.\n",
      "[I 2025-07-08 01:46:37,546] Trial 25 finished with value: 0.9480064332787347 and parameters: {'C': 18.48631984841642, 'kernel': 'rbf', 'shrinking': True, 'class_weight': 'balanced', 'gamma_type': 'numeric', 'gamma_numeric': 0.0010835847514722096}. Best is trial 21 with value: 0.9721340502897977.\n",
      "[I 2025-07-08 01:46:45,770] Trial 26 finished with value: 0.9714852675661992 and parameters: {'C': 6.103726304159688, 'kernel': 'rbf', 'shrinking': True, 'class_weight': 'balanced', 'gamma_type': 'scale_auto', 'gamma_categorical': 'scale'}. Best is trial 21 with value: 0.9721340502897977.\n",
      "[I 2025-07-08 01:46:54,545] Trial 27 finished with value: 0.9450574982389849 and parameters: {'C': 0.5630193387341321, 'kernel': 'linear', 'shrinking': True, 'class_weight': 'balanced'}. Best is trial 21 with value: 0.9721340502897977.\n",
      "[I 2025-07-08 01:47:03,525] Trial 28 finished with value: 0.8359669494675959 and parameters: {'C': 3.3371325087926675, 'kernel': 'sigmoid', 'shrinking': True, 'class_weight': 'balanced', 'gamma_type': 'scale_auto', 'gamma_categorical': 'scale', 'coef0': 0.054917552055816055}. Best is trial 21 with value: 0.9721340502897977.\n",
      "[I 2025-07-08 01:49:47,790] Trial 29 finished with value: 0.9456152874197474 and parameters: {'C': 74.46905358437313, 'kernel': 'linear', 'shrinking': True, 'class_weight': 'balanced'}. Best is trial 21 with value: 0.9721340502897977.\n",
      "[I 2025-07-08 01:49:55,377] Trial 30 finished with value: 0.9724065230230561 and parameters: {'C': 13.941534790676668, 'kernel': 'rbf', 'shrinking': True, 'class_weight': 'balanced', 'gamma_type': 'scale_auto', 'gamma_categorical': 'scale'}. Best is trial 30 with value: 0.9724065230230561.\n",
      "[I 2025-07-08 01:50:03,309] Trial 31 finished with value: 0.9714102814336487 and parameters: {'C': 17.707102734453567, 'kernel': 'rbf', 'shrinking': True, 'class_weight': 'balanced', 'gamma_type': 'scale_auto', 'gamma_categorical': 'scale'}. Best is trial 30 with value: 0.9724065230230561.\n",
      "[I 2025-07-08 01:50:11,820] Trial 32 finished with value: 0.969628964848843 and parameters: {'C': 4.276826131752632, 'kernel': 'rbf', 'shrinking': True, 'class_weight': 'balanced', 'gamma_type': 'scale_auto', 'gamma_categorical': 'scale'}. Best is trial 30 with value: 0.9724065230230561.\n",
      "[I 2025-07-08 01:50:19,626] Trial 33 finished with value: 0.9721568957112771 and parameters: {'C': 12.816312423980166, 'kernel': 'rbf', 'shrinking': True, 'class_weight': 'balanced', 'gamma_type': 'scale_auto', 'gamma_categorical': 'scale'}. Best is trial 30 with value: 0.9724065230230561.\n",
      "[I 2025-07-08 01:50:27,133] Trial 34 finished with value: 0.9711771195537503 and parameters: {'C': 50.71322953309438, 'kernel': 'rbf', 'shrinking': True, 'class_weight': 'balanced', 'gamma_type': 'scale_auto', 'gamma_categorical': 'scale'}. Best is trial 30 with value: 0.9724065230230561.\n",
      "[I 2025-07-08 01:50:34,439] Trial 35 finished with value: 0.9696767623825849 and parameters: {'C': 112.26988149787427, 'kernel': 'rbf', 'shrinking': True, 'class_weight': 'balanced', 'gamma_type': 'scale_auto', 'gamma_categorical': 'scale'}. Best is trial 30 with value: 0.9724065230230561.\n",
      "[I 2025-07-08 01:50:39,641] Trial 36 finished with value: 0.971046365565955 and parameters: {'C': 23.115306477809078, 'kernel': 'poly', 'shrinking': True, 'class_weight': 'balanced', 'gamma_type': 'scale_auto', 'gamma_categorical': 'scale', 'degree': 2, 'coef0': 0.3598109671011401}. Best is trial 30 with value: 0.9724065230230561.\n",
      "[I 2025-07-08 01:50:56,609] Trial 37 finished with value: 0.9370854540115239 and parameters: {'C': 0.1145842220957926, 'kernel': 'rbf', 'shrinking': True, 'class_weight': None, 'gamma_type': 'scale_auto', 'gamma_categorical': 'auto'}. Best is trial 30 with value: 0.9724065230230561.\n",
      "[I 2025-07-08 01:51:10,143] Trial 38 finished with value: 0.7748209716984853 and parameters: {'C': 2.121914660522506, 'kernel': 'sigmoid', 'shrinking': False, 'class_weight': 'balanced', 'gamma_type': 'scale_auto', 'gamma_categorical': 'scale', 'coef0': 0.9846771344358586}. Best is trial 30 with value: 0.9724065230230561.\n",
      "[I 2025-07-08 01:51:20,088] Trial 39 finished with value: 0.9451986155021952 and parameters: {'C': 0.9073302114405063, 'kernel': 'linear', 'shrinking': True, 'class_weight': 'balanced'}. Best is trial 30 with value: 0.9724065230230561.\n",
      "\n",
      "==================================================\n",
      "MEJORES HIPERPARÁMETROS ENCONTRADOS\n",
      "==================================================\n",
      "C: 13.941534790676668\n",
      "kernel: rbf\n",
      "shrinking: True\n",
      "class_weight: balanced\n",
      "gamma_type: scale_auto\n",
      "gamma_categorical: scale\n",
      "Mejor F1-Score (CV): 0.9724\n"
     ]
    }
   ],
   "source": [
    "print(f\"Iniciando optimización con Optuna...\")\n",
    "\n",
    "# Crear estudio de Optuna\n",
    "study = optuna.create_study(\n",
    "    direction='maximize',  # Maximizar F1-score\n",
    "    sampler=TPESampler(seed=42),\n",
    ")\n",
    "\n",
    "# Estrategia de validación cruzada\n",
    "cv_strategy = StratifiedKFold(n_splits=5, shuffle=True, random_state=42)\n",
    "objetive = create_optuna_objective(X_train_scaled, y_train, cv_strategy)\n",
    "# Función objetivo para Optuna (asume que ya está definida)\n",
    "# objective_func = create_optuna_objective(X_train_scaled, y_train, cv_strategy)\n",
    "\n",
    "\n",
    "# Ejecutar optimización\n",
    "study.optimize(\n",
    "    objetive, \n",
    "    n_trials=40,\n",
    "    timeout=3600,\n",
    "    show_progress_bar=True\n",
    ")\n",
    "\n",
    "# Obtener mejores parámetros\n",
    "best_params = study.best_params\n",
    "best_score = study.best_value\n",
    "\n",
    "print(\"\\n\" + \"=\"*50)\n",
    "print(\"MEJORES HIPERPARÁMETROS ENCONTRADOS\")\n",
    "print(\"=\"*50)\n",
    "for param, value in best_params.items():\n",
    "    print(f\"{param}: {value}\")\n",
    "print(f\"Mejor F1-Score (CV): {best_score:.4f}\")"
   ]
  },
  {
   "cell_type": "code",
   "execution_count": 30,
   "id": "e8e309f8-cace-434d-8ba1-4b5973b5c4ff",
   "metadata": {},
   "outputs": [
    {
     "name": "stdout",
     "output_type": "stream",
     "text": [
      "\n",
      "==================================================\n",
      "INTERVALOR DE CONFIANZA Y DESVIACIÓN ESTÁNDAR\n",
      "==================================================\n",
      "Accuracy promedio: 0.972\n",
      "SEM: 0.001\n",
      "IC 95%: (0.969, 0.976)\n"
     ]
    }
   ],
   "source": [
    "best_trial = study.best_trial\n",
    "scores = np.array(best_trial.user_attrs[\"cv_scores\"])\n",
    "\n",
    "print(\"\\n\" + \"=\"*50)\n",
    "print(\"INTERVALOR DE CONFIANZA Y DESVIACIÓN ESTÁNDAR\")\n",
    "print(\"=\"*50)\n",
    "\n",
    "mean_score = np.mean(scores)\n",
    "sem = st.sem(scores)  # error estándar\n",
    "ci = st.t.interval(0.95, len(scores)-1, loc=mean_score, scale=sem)\n",
    "\n",
    "print(f\"Accuracy promedio: {mean_score:.3f}\")\n",
    "print(f\"SEM: {sem:.3f}\")\n",
    "print(f\"IC 95%: ({ci[0]:.3f}, {ci[1]:.3f})\")"
   ]
  },
  {
   "cell_type": "code",
   "execution_count": 43,
   "id": "66c1be60-fbf6-4b35-a1b4-c39ae30b41d1",
   "metadata": {},
   "outputs": [
    {
     "data": {
      "application/vnd.plotly.v1+json": {
       "config": {
        "plotlyServerURL": "https://plot.ly"
       },
       "data": [
        {
         "mode": "markers",
         "name": "Objective Value",
         "type": "scatter",
         "x": [
          0,
          1,
          2,
          3,
          4,
          5,
          6,
          7,
          8,
          9,
          10,
          11,
          12,
          13,
          14,
          15,
          16,
          17,
          18,
          19,
          20,
          21,
          22,
          23,
          24,
          25,
          26,
          27,
          28,
          29,
          30,
          31,
          32,
          33,
          34,
          35,
          36,
          37,
          38,
          39
         ],
         "y": [
          0.9460249914885978,
          0.970166417380854,
          0.9603232994872082,
          0.9433856799693986,
          0.8204666891579594,
          0.969515263561387,
          0.9701044503839574,
          0.7939852130130409,
          0.9180605493002651,
          0.7907310475667497,
          0.9538822549197741,
          0.9665021186935864,
          0.965617943522582,
          0.9707944954549237,
          0.9705602821129464,
          0.9720298264123581,
          0.783223654805484,
          0.9719998202880349,
          0.9515764245716817,
          0.9461797922318735,
          0.9716207584952269,
          0.9721340502897977,
          0.9719006369979125,
          0.9582513623876479,
          0.9716220669612057,
          0.9480064332787347,
          0.9714852675661992,
          0.9450574982389849,
          0.8359669494675959,
          0.9456152874197474,
          0.9724065230230561,
          0.9714102814336487,
          0.969628964848843,
          0.9721568957112771,
          0.9711771195537503,
          0.9696767623825849,
          0.971046365565955,
          0.9370854540115239,
          0.7748209716984853,
          0.9451986155021952
         ]
        },
        {
         "mode": "lines",
         "name": "Best Value",
         "type": "scatter",
         "x": [
          0,
          1,
          2,
          3,
          4,
          5,
          6,
          7,
          8,
          9,
          10,
          11,
          12,
          13,
          14,
          15,
          16,
          17,
          18,
          19,
          20,
          21,
          22,
          23,
          24,
          25,
          26,
          27,
          28,
          29,
          30,
          31,
          32,
          33,
          34,
          35,
          36,
          37,
          38,
          39
         ],
         "y": [
          0.9460249914885978,
          0.970166417380854,
          0.970166417380854,
          0.970166417380854,
          0.970166417380854,
          0.970166417380854,
          0.970166417380854,
          0.970166417380854,
          0.970166417380854,
          0.970166417380854,
          0.970166417380854,
          0.970166417380854,
          0.970166417380854,
          0.9707944954549237,
          0.9707944954549237,
          0.9720298264123581,
          0.9720298264123581,
          0.9720298264123581,
          0.9720298264123581,
          0.9720298264123581,
          0.9720298264123581,
          0.9721340502897977,
          0.9721340502897977,
          0.9721340502897977,
          0.9721340502897977,
          0.9721340502897977,
          0.9721340502897977,
          0.9721340502897977,
          0.9721340502897977,
          0.9721340502897977,
          0.9724065230230561,
          0.9724065230230561,
          0.9724065230230561,
          0.9724065230230561,
          0.9724065230230561,
          0.9724065230230561,
          0.9724065230230561,
          0.9724065230230561,
          0.9724065230230561,
          0.9724065230230561
         ]
        },
        {
         "marker": {
          "color": "#cccccc"
         },
         "mode": "markers",
         "name": "Infeasible Trial",
         "showlegend": false,
         "type": "scatter",
         "x": [],
         "y": []
        }
       ],
       "layout": {
        "template": {
         "data": {
          "bar": [
           {
            "error_x": {
             "color": "#2a3f5f"
            },
            "error_y": {
             "color": "#2a3f5f"
            },
            "marker": {
             "line": {
              "color": "#E5ECF6",
              "width": 0.5
             },
             "pattern": {
              "fillmode": "overlay",
              "size": 10,
              "solidity": 0.2
             }
            },
            "type": "bar"
           }
          ],
          "barpolar": [
           {
            "marker": {
             "line": {
              "color": "#E5ECF6",
              "width": 0.5
             },
             "pattern": {
              "fillmode": "overlay",
              "size": 10,
              "solidity": 0.2
             }
            },
            "type": "barpolar"
           }
          ],
          "carpet": [
           {
            "aaxis": {
             "endlinecolor": "#2a3f5f",
             "gridcolor": "white",
             "linecolor": "white",
             "minorgridcolor": "white",
             "startlinecolor": "#2a3f5f"
            },
            "baxis": {
             "endlinecolor": "#2a3f5f",
             "gridcolor": "white",
             "linecolor": "white",
             "minorgridcolor": "white",
             "startlinecolor": "#2a3f5f"
            },
            "type": "carpet"
           }
          ],
          "choropleth": [
           {
            "colorbar": {
             "outlinewidth": 0,
             "ticks": ""
            },
            "type": "choropleth"
           }
          ],
          "contour": [
           {
            "colorbar": {
             "outlinewidth": 0,
             "ticks": ""
            },
            "colorscale": [
             [
              0,
              "#0d0887"
             ],
             [
              0.1111111111111111,
              "#46039f"
             ],
             [
              0.2222222222222222,
              "#7201a8"
             ],
             [
              0.3333333333333333,
              "#9c179e"
             ],
             [
              0.4444444444444444,
              "#bd3786"
             ],
             [
              0.5555555555555556,
              "#d8576b"
             ],
             [
              0.6666666666666666,
              "#ed7953"
             ],
             [
              0.7777777777777778,
              "#fb9f3a"
             ],
             [
              0.8888888888888888,
              "#fdca26"
             ],
             [
              1,
              "#f0f921"
             ]
            ],
            "type": "contour"
           }
          ],
          "contourcarpet": [
           {
            "colorbar": {
             "outlinewidth": 0,
             "ticks": ""
            },
            "type": "contourcarpet"
           }
          ],
          "heatmap": [
           {
            "colorbar": {
             "outlinewidth": 0,
             "ticks": ""
            },
            "colorscale": [
             [
              0,
              "#0d0887"
             ],
             [
              0.1111111111111111,
              "#46039f"
             ],
             [
              0.2222222222222222,
              "#7201a8"
             ],
             [
              0.3333333333333333,
              "#9c179e"
             ],
             [
              0.4444444444444444,
              "#bd3786"
             ],
             [
              0.5555555555555556,
              "#d8576b"
             ],
             [
              0.6666666666666666,
              "#ed7953"
             ],
             [
              0.7777777777777778,
              "#fb9f3a"
             ],
             [
              0.8888888888888888,
              "#fdca26"
             ],
             [
              1,
              "#f0f921"
             ]
            ],
            "type": "heatmap"
           }
          ],
          "histogram": [
           {
            "marker": {
             "pattern": {
              "fillmode": "overlay",
              "size": 10,
              "solidity": 0.2
             }
            },
            "type": "histogram"
           }
          ],
          "histogram2d": [
           {
            "colorbar": {
             "outlinewidth": 0,
             "ticks": ""
            },
            "colorscale": [
             [
              0,
              "#0d0887"
             ],
             [
              0.1111111111111111,
              "#46039f"
             ],
             [
              0.2222222222222222,
              "#7201a8"
             ],
             [
              0.3333333333333333,
              "#9c179e"
             ],
             [
              0.4444444444444444,
              "#bd3786"
             ],
             [
              0.5555555555555556,
              "#d8576b"
             ],
             [
              0.6666666666666666,
              "#ed7953"
             ],
             [
              0.7777777777777778,
              "#fb9f3a"
             ],
             [
              0.8888888888888888,
              "#fdca26"
             ],
             [
              1,
              "#f0f921"
             ]
            ],
            "type": "histogram2d"
           }
          ],
          "histogram2dcontour": [
           {
            "colorbar": {
             "outlinewidth": 0,
             "ticks": ""
            },
            "colorscale": [
             [
              0,
              "#0d0887"
             ],
             [
              0.1111111111111111,
              "#46039f"
             ],
             [
              0.2222222222222222,
              "#7201a8"
             ],
             [
              0.3333333333333333,
              "#9c179e"
             ],
             [
              0.4444444444444444,
              "#bd3786"
             ],
             [
              0.5555555555555556,
              "#d8576b"
             ],
             [
              0.6666666666666666,
              "#ed7953"
             ],
             [
              0.7777777777777778,
              "#fb9f3a"
             ],
             [
              0.8888888888888888,
              "#fdca26"
             ],
             [
              1,
              "#f0f921"
             ]
            ],
            "type": "histogram2dcontour"
           }
          ],
          "mesh3d": [
           {
            "colorbar": {
             "outlinewidth": 0,
             "ticks": ""
            },
            "type": "mesh3d"
           }
          ],
          "parcoords": [
           {
            "line": {
             "colorbar": {
              "outlinewidth": 0,
              "ticks": ""
             }
            },
            "type": "parcoords"
           }
          ],
          "pie": [
           {
            "automargin": true,
            "type": "pie"
           }
          ],
          "scatter": [
           {
            "fillpattern": {
             "fillmode": "overlay",
             "size": 10,
             "solidity": 0.2
            },
            "type": "scatter"
           }
          ],
          "scatter3d": [
           {
            "line": {
             "colorbar": {
              "outlinewidth": 0,
              "ticks": ""
             }
            },
            "marker": {
             "colorbar": {
              "outlinewidth": 0,
              "ticks": ""
             }
            },
            "type": "scatter3d"
           }
          ],
          "scattercarpet": [
           {
            "marker": {
             "colorbar": {
              "outlinewidth": 0,
              "ticks": ""
             }
            },
            "type": "scattercarpet"
           }
          ],
          "scattergeo": [
           {
            "marker": {
             "colorbar": {
              "outlinewidth": 0,
              "ticks": ""
             }
            },
            "type": "scattergeo"
           }
          ],
          "scattergl": [
           {
            "marker": {
             "colorbar": {
              "outlinewidth": 0,
              "ticks": ""
             }
            },
            "type": "scattergl"
           }
          ],
          "scattermap": [
           {
            "marker": {
             "colorbar": {
              "outlinewidth": 0,
              "ticks": ""
             }
            },
            "type": "scattermap"
           }
          ],
          "scattermapbox": [
           {
            "marker": {
             "colorbar": {
              "outlinewidth": 0,
              "ticks": ""
             }
            },
            "type": "scattermapbox"
           }
          ],
          "scatterpolar": [
           {
            "marker": {
             "colorbar": {
              "outlinewidth": 0,
              "ticks": ""
             }
            },
            "type": "scatterpolar"
           }
          ],
          "scatterpolargl": [
           {
            "marker": {
             "colorbar": {
              "outlinewidth": 0,
              "ticks": ""
             }
            },
            "type": "scatterpolargl"
           }
          ],
          "scatterternary": [
           {
            "marker": {
             "colorbar": {
              "outlinewidth": 0,
              "ticks": ""
             }
            },
            "type": "scatterternary"
           }
          ],
          "surface": [
           {
            "colorbar": {
             "outlinewidth": 0,
             "ticks": ""
            },
            "colorscale": [
             [
              0,
              "#0d0887"
             ],
             [
              0.1111111111111111,
              "#46039f"
             ],
             [
              0.2222222222222222,
              "#7201a8"
             ],
             [
              0.3333333333333333,
              "#9c179e"
             ],
             [
              0.4444444444444444,
              "#bd3786"
             ],
             [
              0.5555555555555556,
              "#d8576b"
             ],
             [
              0.6666666666666666,
              "#ed7953"
             ],
             [
              0.7777777777777778,
              "#fb9f3a"
             ],
             [
              0.8888888888888888,
              "#fdca26"
             ],
             [
              1,
              "#f0f921"
             ]
            ],
            "type": "surface"
           }
          ],
          "table": [
           {
            "cells": {
             "fill": {
              "color": "#EBF0F8"
             },
             "line": {
              "color": "white"
             }
            },
            "header": {
             "fill": {
              "color": "#C8D4E3"
             },
             "line": {
              "color": "white"
             }
            },
            "type": "table"
           }
          ]
         },
         "layout": {
          "annotationdefaults": {
           "arrowcolor": "#2a3f5f",
           "arrowhead": 0,
           "arrowwidth": 1
          },
          "autotypenumbers": "strict",
          "coloraxis": {
           "colorbar": {
            "outlinewidth": 0,
            "ticks": ""
           }
          },
          "colorscale": {
           "diverging": [
            [
             0,
             "#8e0152"
            ],
            [
             0.1,
             "#c51b7d"
            ],
            [
             0.2,
             "#de77ae"
            ],
            [
             0.3,
             "#f1b6da"
            ],
            [
             0.4,
             "#fde0ef"
            ],
            [
             0.5,
             "#f7f7f7"
            ],
            [
             0.6,
             "#e6f5d0"
            ],
            [
             0.7,
             "#b8e186"
            ],
            [
             0.8,
             "#7fbc41"
            ],
            [
             0.9,
             "#4d9221"
            ],
            [
             1,
             "#276419"
            ]
           ],
           "sequential": [
            [
             0,
             "#0d0887"
            ],
            [
             0.1111111111111111,
             "#46039f"
            ],
            [
             0.2222222222222222,
             "#7201a8"
            ],
            [
             0.3333333333333333,
             "#9c179e"
            ],
            [
             0.4444444444444444,
             "#bd3786"
            ],
            [
             0.5555555555555556,
             "#d8576b"
            ],
            [
             0.6666666666666666,
             "#ed7953"
            ],
            [
             0.7777777777777778,
             "#fb9f3a"
            ],
            [
             0.8888888888888888,
             "#fdca26"
            ],
            [
             1,
             "#f0f921"
            ]
           ],
           "sequentialminus": [
            [
             0,
             "#0d0887"
            ],
            [
             0.1111111111111111,
             "#46039f"
            ],
            [
             0.2222222222222222,
             "#7201a8"
            ],
            [
             0.3333333333333333,
             "#9c179e"
            ],
            [
             0.4444444444444444,
             "#bd3786"
            ],
            [
             0.5555555555555556,
             "#d8576b"
            ],
            [
             0.6666666666666666,
             "#ed7953"
            ],
            [
             0.7777777777777778,
             "#fb9f3a"
            ],
            [
             0.8888888888888888,
             "#fdca26"
            ],
            [
             1,
             "#f0f921"
            ]
           ]
          },
          "colorway": [
           "#636efa",
           "#EF553B",
           "#00cc96",
           "#ab63fa",
           "#FFA15A",
           "#19d3f3",
           "#FF6692",
           "#B6E880",
           "#FF97FF",
           "#FECB52"
          ],
          "font": {
           "color": "#2a3f5f"
          },
          "geo": {
           "bgcolor": "white",
           "lakecolor": "white",
           "landcolor": "#E5ECF6",
           "showlakes": true,
           "showland": true,
           "subunitcolor": "white"
          },
          "hoverlabel": {
           "align": "left"
          },
          "hovermode": "closest",
          "mapbox": {
           "style": "light"
          },
          "paper_bgcolor": "white",
          "plot_bgcolor": "#E5ECF6",
          "polar": {
           "angularaxis": {
            "gridcolor": "white",
            "linecolor": "white",
            "ticks": ""
           },
           "bgcolor": "#E5ECF6",
           "radialaxis": {
            "gridcolor": "white",
            "linecolor": "white",
            "ticks": ""
           }
          },
          "scene": {
           "xaxis": {
            "backgroundcolor": "#E5ECF6",
            "gridcolor": "white",
            "gridwidth": 2,
            "linecolor": "white",
            "showbackground": true,
            "ticks": "",
            "zerolinecolor": "white"
           },
           "yaxis": {
            "backgroundcolor": "#E5ECF6",
            "gridcolor": "white",
            "gridwidth": 2,
            "linecolor": "white",
            "showbackground": true,
            "ticks": "",
            "zerolinecolor": "white"
           },
           "zaxis": {
            "backgroundcolor": "#E5ECF6",
            "gridcolor": "white",
            "gridwidth": 2,
            "linecolor": "white",
            "showbackground": true,
            "ticks": "",
            "zerolinecolor": "white"
           }
          },
          "shapedefaults": {
           "line": {
            "color": "#2a3f5f"
           }
          },
          "ternary": {
           "aaxis": {
            "gridcolor": "white",
            "linecolor": "white",
            "ticks": ""
           },
           "baxis": {
            "gridcolor": "white",
            "linecolor": "white",
            "ticks": ""
           },
           "bgcolor": "#E5ECF6",
           "caxis": {
            "gridcolor": "white",
            "linecolor": "white",
            "ticks": ""
           }
          },
          "title": {
           "x": 0.05
          },
          "xaxis": {
           "automargin": true,
           "gridcolor": "white",
           "linecolor": "white",
           "ticks": "",
           "title": {
            "standoff": 15
           },
           "zerolinecolor": "white",
           "zerolinewidth": 2
          },
          "yaxis": {
           "automargin": true,
           "gridcolor": "white",
           "linecolor": "white",
           "ticks": "",
           "title": {
            "standoff": 15
           },
           "zerolinecolor": "white",
           "zerolinewidth": 2
          }
         }
        },
        "title": {
         "text": "Optimization History Plot"
        },
        "xaxis": {
         "title": {
          "text": "Trial"
         }
        },
        "yaxis": {
         "title": {
          "text": "Objective Value"
         }
        }
       }
      },
      "image/png": "[encoded data removed]"
     },
     "metadata": {},
     "output_type": "display_data"
    }
   ],
   "source": [
    "# Visualizar la optimización \n",
    "optuna.visualization.plot_optimization_history(study).show()"
   ]
  },
  {
   "cell_type": "code",
   "execution_count": 31,
   "id": "645e5fa6-4b3d-4777-9c99-d536e306af35",
   "metadata": {},
   "outputs": [
    {
     "name": "stdout",
     "output_type": "stream",
     "text": [
      "\n",
      "Entrenando modelo final...\n",
      "Parámetros finales configurados:\n",
      "  C: 13.941534790676668\n",
      "  kernel: rbf\n",
      "  random_state: 42\n",
      "  probability: True\n",
      "  gamma: scale\n",
      "  shrinking: True\n",
      "  class_weight: balanced\n",
      "✓ Modelo entrenado exitosamente\n"
     ]
    }
   ],
   "source": [
    "print(\"\\nEntrenando modelo final...\")\n",
    "\n",
    "# Preparar parámetros para el modelo final\n",
    "final_params = {\n",
    "    'C': best_params['C'],\n",
    "    'kernel': best_params['kernel'],\n",
    "    'random_state': 42,\n",
    "    'probability': True\n",
    "}\n",
    "\n",
    "# Extraer gamma correctamente\n",
    "if 'gamma_categorical' in best_params:\n",
    "    final_params['gamma'] = best_params['gamma_categorical']\n",
    "elif 'gamma_numeric' in best_params:\n",
    "    final_params['gamma'] = best_params['gamma_numeric']\n",
    "\n",
    "# Agregar degree si está presente (solo para kernel='poly')\n",
    "if 'degree' in best_params:\n",
    "    final_params['degree'] = best_params['degree']\n",
    "\n",
    "# Agregar coef0 si está presente (para 'poly' y 'sigmoid')\n",
    "if 'coef0' in best_params:\n",
    "    final_params['coef0'] = best_params['coef0']\n",
    "\n",
    "# Agregar shrinking si está presente\n",
    "if 'shrinking' in best_params:\n",
    "    final_params['shrinking'] = best_params['shrinking']\n",
    "\n",
    "# Agregar class_weight si está presente\n",
    "if 'class_weight' in best_params:\n",
    "    final_params['class_weight'] = best_params['class_weight']\n",
    "\n",
    "print(\"Parámetros finales configurados:\")\n",
    "for param, value in final_params.items():\n",
    "    print(f\"  {param}: {value}\")\n",
    "\n",
    "# Entrenar modelo con mejores parámetros\n",
    "best_svm = SVC(**final_params)\n",
    "best_svm.fit(X_train_scaled, y_train)\n",
    "print(\"✓ Modelo entrenado exitosamente\")    "
   ]
  },
  {
   "cell_type": "code",
   "execution_count": null,
   "id": "adbfdfee-bfbb-4333-b672-ead1b16e4b99",
   "metadata": {},
   "outputs": [],
   "source": [
    "print(\"EVALUACIÓN FINAL EN CONJUNTO DE PRUEBA\")\n",
    "print(\"=\"*50)\n",
    "\n",
    "# Predicciones\n",
    "y_test_pred = best_svm.predict(X_test_scaled)\n",
    "y_test_pred_proba = best_svm.predict_proba(X_test_scaled)[:, 1]\n",
    "\n",
    "# Calcular métricas\n",
    "test_metrics = {\n",
    "    'accuracy': accuracy_score(y_test, y_test_pred),\n",
    "    'precision': precision_score(y_test, y_test_pred),\n",
    "    'recall': recall_score(y_test, y_test_pred),\n",
    "    'f1_score': f1_score(y_test, y_test_pred),\n",
    "    'auc_roc': roc_auc_score(y_test, y_test_pred_proba),\n",
    "    'specificity': recall_score(y_test, y_test_pred, pos_label=0),\n",
    "    'mcc': matthews_corrcoef(y_test, y_test_pred)\n",
    "}\n",
    "\n",
    "print(\"Métricas en Prueba:\")\n",
    "for metric, value in test_metrics.items():\n",
    "    print(f\"{metric.upper()}: {value:.4f}\")\n",
    "\n",
    "# Matriz de confusión\n",
    "cm = confusion_matrix(y_test, y_test_pred)\n",
    "print(f\"\\nClassification Report (Test):\")\n",
    "print(classification_report(y_test, y_test_pred, target_names=['Legítimo', 'Phishing']))"
   ]
  },
  {
   "cell_type": "code",
   "execution_count": 42,
   "id": "21faa240-97dc-4f39-add1-13241a1965f8",
   "metadata": {},
   "outputs": [
    {
     "data": {
      "image/png": "[encoded data removed]",
      "text/plain": [
       "<Figure size 1800x600 with 3 Axes>"
      ]
     },
     "metadata": {},
     "output_type": "display_data"
    }
   ],
   "source": [
    "fpr, tpr, _ = roc_curve(y_test, y_test_pred_proba)  # y_scores deben ser probabilidades, no clases\n",
    "roc_auc = auc(fpr, tpr)\n",
    "\n",
    "# Crear figura con 2 subplots horizontales\n",
    "fig, axes = plt.subplots(1, 2, figsize=(18, 6))\n",
    "\n",
    "# 1. Matriz de confusión\n",
    "sns.heatmap(cm, annot=True, fmt='d', cmap='Blues', ax=axes[0])\n",
    "axes[0].set_title('Matriz de Confusión - Conjunto de Prueba')\n",
    "axes[0].set_xlabel('Predicción')\n",
    "axes[0].set_ylabel('Valor Real')\n",
    "\n",
    "# 2. Curva ROC\n",
    "axes[1].plot(fpr, tpr, color='darkorange', lw=2, label=f'ROC (AUC = {roc_auc:.2f})')\n",
    "axes[1].plot([0, 1], [0, 1], color='navy', lw=1, linestyle='--')\n",
    "axes[1].set_xlim([0.0, 1.0])\n",
    "axes[1].set_ylim([0.0, 1.05])\n",
    "axes[1].set_xlabel('Tasa de Falsos Positivos')\n",
    "axes[1].set_ylabel('Tasa de Verdaderos Positivos')\n",
    "axes[1].set_title('Curva ROC')\n",
    "axes[1].legend(loc=\"lower right\")\n",
    "\n",
    "plt.tight_layout()\n",
    "plt.show()\n"
   ]
  },
  {
   "cell_type": "code",
   "execution_count": 44,
   "id": "40998086-96d8-491f-9a25-2f06f0c408f2",
   "metadata": {},
   "outputs": [
    {
     "data": {
      "application/vnd.plotly.v1+json": {
       "config": {
        "plotlyServerURL": "https://plot.ly"
       },
       "data": [
        {
         "cliponaxis": false,
         "hovertemplate": [
          "class_weight (CategoricalDistribution): 0.0014199739471899956<extra></extra>",
          "C (FloatDistribution): 0.002120459758460962<extra></extra>",
          "shrinking (CategoricalDistribution): 0.008922348600550254<extra></extra>",
          "kernel (CategoricalDistribution): 0.9875372176937988<extra></extra>"
         ],
         "name": "Objective Value",
         "orientation": "h",
         "text": [
          "<0.01",
          "<0.01",
          "<0.01",
          "0.99"
         ],
         "textposition": "outside",
         "type": "bar",
         "x": [
          0.0014199739471899956,
          0.002120459758460962,
          0.008922348600550254,
          0.9875372176937988
         ],
         "y": [
          "class_weight",
          "C",
          "shrinking",
          "kernel"
         ]
        }
       ],
       "layout": {
        "template": {
         "data": {
          "bar": [
           {
            "error_x": {
             "color": "#2a3f5f"
            },
            "error_y": {
             "color": "#2a3f5f"
            },
            "marker": {
             "line": {
              "color": "#E5ECF6",
              "width": 0.5
             },
             "pattern": {
              "fillmode": "overlay",
              "size": 10,
              "solidity": 0.2
             }
            },
            "type": "bar"
           }
          ],
          "barpolar": [
           {
            "marker": {
             "line": {
              "color": "#E5ECF6",
              "width": 0.5
             },
             "pattern": {
              "fillmode": "overlay",
              "size": 10,
              "solidity": 0.2
             }
            },
            "type": "barpolar"
           }
          ],
          "carpet": [
           {
            "aaxis": {
             "endlinecolor": "#2a3f5f",
             "gridcolor": "white",
             "linecolor": "white",
             "minorgridcolor": "white",
             "startlinecolor": "#2a3f5f"
            },
            "baxis": {
             "endlinecolor": "#2a3f5f",
             "gridcolor": "white",
             "linecolor": "white",
             "minorgridcolor": "white",
             "startlinecolor": "#2a3f5f"
            },
            "type": "carpet"
           }
          ],
          "choropleth": [
           {
            "colorbar": {
             "outlinewidth": 0,
             "ticks": ""
            },
            "type": "choropleth"
           }
          ],
          "contour": [
           {
            "colorbar": {
             "outlinewidth": 0,
             "ticks": ""
            },
            "colorscale": [
             [
              0,
              "#0d0887"
             ],
             [
              0.1111111111111111,
              "#46039f"
             ],
             [
              0.2222222222222222,
              "#7201a8"
             ],
             [
              0.3333333333333333,
              "#9c179e"
             ],
             [
              0.4444444444444444,
              "#bd3786"
             ],
             [
              0.5555555555555556,
              "#d8576b"
             ],
             [
              0.6666666666666666,
              "#ed7953"
             ],
             [
              0.7777777777777778,
              "#fb9f3a"
             ],
             [
              0.8888888888888888,
              "#fdca26"
             ],
             [
              1,
              "#f0f921"
             ]
            ],
            "type": "contour"
           }
          ],
          "contourcarpet": [
           {
            "colorbar": {
             "outlinewidth": 0,
             "ticks": ""
            },
            "type": "contourcarpet"
           }
          ],
          "heatmap": [
           {
            "colorbar": {
             "outlinewidth": 0,
             "ticks": ""
            },
            "colorscale": [
             [
              0,
              "#0d0887"
             ],
             [
              0.1111111111111111,
              "#46039f"
             ],
             [
              0.2222222222222222,
              "#7201a8"
             ],
             [
              0.3333333333333333,
              "#9c179e"
             ],
             [
              0.4444444444444444,
              "#bd3786"
             ],
             [
              0.5555555555555556,
              "#d8576b"
             ],
             [
              0.6666666666666666,
              "#ed7953"
             ],
             [
              0.7777777777777778,
              "#fb9f3a"
             ],
             [
              0.8888888888888888,
              "#fdca26"
             ],
             [
              1,
              "#f0f921"
             ]
            ],
            "type": "heatmap"
           }
          ],
          "histogram": [
           {
            "marker": {
             "pattern": {
              "fillmode": "overlay",
              "size": 10,
              "solidity": 0.2
             }
            },
            "type": "histogram"
           }
          ],
          "histogram2d": [
           {
            "colorbar": {
             "outlinewidth": 0,
             "ticks": ""
            },
            "colorscale": [
             [
              0,
              "#0d0887"
             ],
             [
              0.1111111111111111,
              "#46039f"
             ],
             [
              0.2222222222222222,
              "#7201a8"
             ],
             [
              0.3333333333333333,
              "#9c179e"
             ],
             [
              0.4444444444444444,
              "#bd3786"
             ],
             [
              0.5555555555555556,
              "#d8576b"
             ],
             [
              0.6666666666666666,
              "#ed7953"
             ],
             [
              0.7777777777777778,
              "#fb9f3a"
             ],
             [
              0.8888888888888888,
              "#fdca26"
             ],
             [
              1,
              "#f0f921"
             ]
            ],
            "type": "histogram2d"
           }
          ],
          "histogram2dcontour": [
           {
            "colorbar": {
             "outlinewidth": 0,
             "ticks": ""
            },
            "colorscale": [
             [
              0,
              "#0d0887"
             ],
             [
              0.1111111111111111,
              "#46039f"
             ],
             [
              0.2222222222222222,
              "#7201a8"
             ],
             [
              0.3333333333333333,
              "#9c179e"
             ],
             [
              0.4444444444444444,
              "#bd3786"
             ],
             [
              0.5555555555555556,
              "#d8576b"
             ],
             [
              0.6666666666666666,
              "#ed7953"
             ],
             [
              0.7777777777777778,
              "#fb9f3a"
             ],
             [
              0.8888888888888888,
              "#fdca26"
             ],
             [
              1,
              "#f0f921"
             ]
            ],
            "type": "histogram2dcontour"
           }
          ],
          "mesh3d": [
           {
            "colorbar": {
             "outlinewidth": 0,
             "ticks": ""
            },
            "type": "mesh3d"
           }
          ],
          "parcoords": [
           {
            "line": {
             "colorbar": {
              "outlinewidth": 0,
              "ticks": ""
             }
            },
            "type": "parcoords"
           }
          ],
          "pie": [
           {
            "automargin": true,
            "type": "pie"
           }
          ],
          "scatter": [
           {
            "fillpattern": {
             "fillmode": "overlay",
             "size": 10,
             "solidity": 0.2
            },
            "type": "scatter"
           }
          ],
          "scatter3d": [
           {
            "line": {
             "colorbar": {
              "outlinewidth": 0,
              "ticks": ""
             }
            },
            "marker": {
             "colorbar": {
              "outlinewidth": 0,
              "ticks": ""
             }
            },
            "type": "scatter3d"
           }
          ],
          "scattercarpet": [
           {
            "marker": {
             "colorbar": {
              "outlinewidth": 0,
              "ticks": ""
             }
            },
            "type": "scattercarpet"
           }
          ],
          "scattergeo": [
           {
            "marker": {
             "colorbar": {
              "outlinewidth": 0,
              "ticks": ""
             }
            },
            "type": "scattergeo"
           }
          ],
          "scattergl": [
           {
            "marker": {
             "colorbar": {
              "outlinewidth": 0,
              "ticks": ""
             }
            },
            "type": "scattergl"
           }
          ],
          "scattermap": [
           {
            "marker": {
             "colorbar": {
              "outlinewidth": 0,
              "ticks": ""
             }
            },
            "type": "scattermap"
           }
          ],
          "scattermapbox": [
           {
            "marker": {
             "colorbar": {
              "outlinewidth": 0,
              "ticks": ""
             }
            },
            "type": "scattermapbox"
           }
          ],
          "scatterpolar": [
           {
            "marker": {
             "colorbar": {
              "outlinewidth": 0,
              "ticks": ""
             }
            },
            "type": "scatterpolar"
           }
          ],
          "scatterpolargl": [
           {
            "marker": {
             "colorbar": {
              "outlinewidth": 0,
              "ticks": ""
             }
            },
            "type": "scatterpolargl"
           }
          ],
          "scatterternary": [
           {
            "marker": {
             "colorbar": {
              "outlinewidth": 0,
              "ticks": ""
             }
            },
            "type": "scatterternary"
           }
          ],
          "surface": [
           {
            "colorbar": {
             "outlinewidth": 0,
             "ticks": ""
            },
            "colorscale": [
             [
              0,
              "#0d0887"
             ],
             [
              0.1111111111111111,
              "#46039f"
             ],
             [
              0.2222222222222222,
              "#7201a8"
             ],
             [
              0.3333333333333333,
              "#9c179e"
             ],
             [
              0.4444444444444444,
              "#bd3786"
             ],
             [
              0.5555555555555556,
              "#d8576b"
             ],
             [
              0.6666666666666666,
              "#ed7953"
             ],
             [
              0.7777777777777778,
              "#fb9f3a"
             ],
             [
              0.8888888888888888,
              "#fdca26"
             ],
             [
              1,
              "#f0f921"
             ]
            ],
            "type": "surface"
           }
          ],
          "table": [
           {
            "cells": {
             "fill": {
              "color": "#EBF0F8"
             },
             "line": {
              "color": "white"
             }
            },
            "header": {
             "fill": {
              "color": "#C8D4E3"
             },
             "line": {
              "color": "white"
             }
            },
            "type": "table"
           }
          ]
         },
         "layout": {
          "annotationdefaults": {
           "arrowcolor": "#2a3f5f",
           "arrowhead": 0,
           "arrowwidth": 1
          },
          "autotypenumbers": "strict",
          "coloraxis": {
           "colorbar": {
            "outlinewidth": 0,
            "ticks": ""
           }
          },
          "colorscale": {
           "diverging": [
            [
             0,
             "#8e0152"
            ],
            [
             0.1,
             "#c51b7d"
            ],
            [
             0.2,
             "#de77ae"
            ],
            [
             0.3,
             "#f1b6da"
            ],
            [
             0.4,
             "#fde0ef"
            ],
            [
             0.5,
             "#f7f7f7"
            ],
            [
             0.6,
             "#e6f5d0"
            ],
            [
             0.7,
             "#b8e186"
            ],
            [
             0.8,
             "#7fbc41"
            ],
            [
             0.9,
             "#4d9221"
            ],
            [
             1,
             "#276419"
            ]
           ],
           "sequential": [
            [
             0,
             "#0d0887"
            ],
            [
             0.1111111111111111,
             "#46039f"
            ],
            [
             0.2222222222222222,
             "#7201a8"
            ],
            [
             0.3333333333333333,
             "#9c179e"
            ],
            [
             0.4444444444444444,
             "#bd3786"
            ],
            [
             0.5555555555555556,
             "#d8576b"
            ],
            [
             0.6666666666666666,
             "#ed7953"
            ],
            [
             0.7777777777777778,
             "#fb9f3a"
            ],
            [
             0.8888888888888888,
             "#fdca26"
            ],
            [
             1,
             "#f0f921"
            ]
           ],
           "sequentialminus": [
            [
             0,
             "#0d0887"
            ],
            [
             0.1111111111111111,
             "#46039f"
            ],
            [
             0.2222222222222222,
             "#7201a8"
            ],
            [
             0.3333333333333333,
             "#9c179e"
            ],
            [
             0.4444444444444444,
             "#bd3786"
            ],
            [
             0.5555555555555556,
             "#d8576b"
            ],
            [
             0.6666666666666666,
             "#ed7953"
            ],
            [
             0.7777777777777778,
             "#fb9f3a"
            ],
            [
             0.8888888888888888,
             "#fdca26"
            ],
            [
             1,
             "#f0f921"
            ]
           ]
          },
          "colorway": [
           "#636efa",
           "#EF553B",
           "#00cc96",
           "#ab63fa",
           "#FFA15A",
           "#19d3f3",
           "#FF6692",
           "#B6E880",
           "#FF97FF",
           "#FECB52"
          ],
          "font": {
           "color": "#2a3f5f"
          },
          "geo": {
           "bgcolor": "white",
           "lakecolor": "white",
           "landcolor": "#E5ECF6",
           "showlakes": true,
           "showland": true,
           "subunitcolor": "white"
          },
          "hoverlabel": {
           "align": "left"
          },
          "hovermode": "closest",
          "mapbox": {
           "style": "light"
          },
          "paper_bgcolor": "white",
          "plot_bgcolor": "#E5ECF6",
          "polar": {
           "angularaxis": {
            "gridcolor": "white",
            "linecolor": "white",
            "ticks": ""
           },
           "bgcolor": "#E5ECF6",
           "radialaxis": {
            "gridcolor": "white",
            "linecolor": "white",
            "ticks": ""
           }
          },
          "scene": {
           "xaxis": {
            "backgroundcolor": "#E5ECF6",
            "gridcolor": "white",
            "gridwidth": 2,
            "linecolor": "white",
            "showbackground": true,
            "ticks": "",
            "zerolinecolor": "white"
           },
           "yaxis": {
            "backgroundcolor": "#E5ECF6",
            "gridcolor": "white",
            "gridwidth": 2,
            "linecolor": "white",
            "showbackground": true,
            "ticks": "",
            "zerolinecolor": "white"
           },
           "zaxis": {
            "backgroundcolor": "#E5ECF6",
            "gridcolor": "white",
            "gridwidth": 2,
            "linecolor": "white",
            "showbackground": true,
            "ticks": "",
            "zerolinecolor": "white"
           }
          },
          "shapedefaults": {
           "line": {
            "color": "#2a3f5f"
           }
          },
          "ternary": {
           "aaxis": {
            "gridcolor": "white",
            "linecolor": "white",
            "ticks": ""
           },
           "baxis": {
            "gridcolor": "white",
            "linecolor": "white",
            "ticks": ""
           },
           "bgcolor": "#E5ECF6",
           "caxis": {
            "gridcolor": "white",
            "linecolor": "white",
            "ticks": ""
           }
          },
          "title": {
           "x": 0.05
          },
          "xaxis": {
           "automargin": true,
           "gridcolor": "white",
           "linecolor": "white",
           "ticks": "",
           "title": {
            "standoff": 15
           },
           "zerolinecolor": "white",
           "zerolinewidth": 2
          },
          "yaxis": {
           "automargin": true,
           "gridcolor": "white",
           "linecolor": "white",
           "ticks": "",
           "title": {
            "standoff": 15
           },
           "zerolinecolor": "white",
           "zerolinewidth": 2
          }
         }
        },
        "title": {
         "text": "Hyperparameter Importances"
        },
        "xaxis": {
         "title": {
          "text": "Hyperparameter Importance"
         }
        },
        "yaxis": {
         "title": {
          "text": "Hyperparameter"
         }
        }
       }
      },
      "image/png": "[encoded data removed]"
     },
     "metadata": {},
     "output_type": "display_data"
    }
   ],
   "source": [
    "optuna.visualization.plot_param_importances(study).show()"
   ]
  }
 ],
 "metadata": {
  "kernelspec": {
   "display_name": "Python 3 (ipykernel)",
   "language": "python",
   "name": "python3"
  },
  "language_info": {
   "codemirror_mode": {
    "name": "ipython",
    "version": 3
   },
   "file_extension": ".py",
   "mimetype": "text/x-python",
   "name": "python",
   "nbconvert_exporter": "python",
   "pygments_lexer": "ipython3",
   "version": "3.11.6"
  }
 },
 "nbformat": 4,
 "nbformat_minor": 5
}
