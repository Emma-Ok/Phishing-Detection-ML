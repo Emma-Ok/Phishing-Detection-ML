{
 "cells": [
  {
   "cell_type": "markdown",
   "id": "66b4236a-928d-487c-905e-ff2cedf2578a",
   "metadata": {},
   "source": [
    "<a href=\"https://colab.research.google.com/github/Emma-Ok/Phishing-Detection-ML/blob/alc4dev/ModelsWithAllSamples/RandomForest.ipynb\" target=\"_parent\"><img src=\"https://colab.research.google.com/assets/colab-badge.svg\" alt=\"Open In Colab\"/></a>"
   ]
  },
  {
   "cell_type": "code",
   "execution_count": 37,
   "id": "3854906a-d8f5-4757-9aa4-6918f1645341",
   "metadata": {},
   "outputs": [
    {
     "name": "stdout",
     "output_type": "stream",
     "text": [
      "Requirement already satisfied: optuna in /opt/conda/lib/python3.11/site-packages (4.4.0)\n",
      "Requirement already satisfied: alembic>=1.5.0 in /opt/conda/lib/python3.11/site-packages (from optuna) (1.12.0)\n",
      "Requirement already satisfied: colorlog in /opt/conda/lib/python3.11/site-packages (from optuna) (6.9.0)\n",
      "Requirement already satisfied: numpy in /opt/conda/lib/python3.11/site-packages (from optuna) (2.1.3)\n",
      "Requirement already satisfied: packaging>=20.0 in /opt/conda/lib/python3.11/site-packages (from optuna) (23.2)\n",
      "Requirement already satisfied: sqlalchemy>=1.4.2 in /opt/conda/lib/python3.11/site-packages (from optuna) (2.0.22)\n",
      "Requirement already satisfied: tqdm in /opt/conda/lib/python3.11/site-packages (from optuna) (4.66.1)\n",
      "Requirement already satisfied: PyYAML in /opt/conda/lib/python3.11/site-packages (from optuna) (6.0.1)\n",
      "Requirement already satisfied: Mako in /opt/conda/lib/python3.11/site-packages (from alembic>=1.5.0->optuna) (1.2.4)\n",
      "Requirement already satisfied: typing-extensions>=4 in /opt/conda/lib/python3.11/site-packages (from alembic>=1.5.0->optuna) (4.13.2)\n",
      "Requirement already satisfied: greenlet!=0.4.17 in /opt/conda/lib/python3.11/site-packages (from sqlalchemy>=1.4.2->optuna) (3.0.0)\n",
      "Requirement already satisfied: MarkupSafe>=0.9.2 in /opt/conda/lib/python3.11/site-packages (from Mako->alembic>=1.5.0->optuna) (2.1.3)\n"
     ]
    }
   ],
   "source": [
    "!pip install optuna"
   ]
  },
  {
   "cell_type": "code",
   "execution_count": 35,
   "id": "61e33f49-d123-4165-9754-21d02154fdee",
   "metadata": {},
   "outputs": [
    {
     "name": "stdout",
     "output_type": "stream",
     "text": [
      "Forma del dataset: (10000, 48)\n",
      "Distribución de clases: Counter({1: 5000, 0: 5000})\n",
      "Entrenamiento: 8000 muestras\n",
      "Prueba: 2000 muestras\n"
     ]
    }
   ],
   "source": [
    "# Random Forest para Detección de Phishing\n",
    "import numpy as np\n",
    "import pandas as pd\n",
    "import optuna\n",
    "from optuna.samplers import TPESampler, RandomSampler\n",
    "from sklearn.ensemble import RandomForestClassifier\n",
    "from sklearn.model_selection import (\n",
    "    train_test_split, \n",
    "    RandomizedSearchCV, \n",
    "    StratifiedKFold,\n",
    "    cross_val_score\n",
    ")\n",
    "from sklearn.metrics import (\n",
    "    accuracy_score, \n",
    "    precision_score, \n",
    "    recall_score, \n",
    "    f1_score,\n",
    "    roc_curve,\n",
    "    roc_auc_score,\n",
    "    confusion_matrix,\n",
    "    classification_report,\n",
    "    matthews_corrcoef\n",
    ")\n",
    "from sklearn.preprocessing import StandardScaler\n",
    "import matplotlib.pyplot as plt\n",
    "import seaborn as sns\n",
    "from collections import Counter\n",
    "import warnings\n",
    "from scipy import stats as st\n",
    "warnings.filterwarnings('ignore')\n",
    "# Carga directa desde GitHub\n",
    "url = \"https://raw.githubusercontent.com/Emma-Ok/Phishing-Detection-ML/main/Phishing_Legitimate_full.csv\"\n",
    "df = pd.read_csv(url)\n",
    "df = df.drop(columns=['id'])\n",
    "\n",
    "# Separar X e y\n",
    "X = df.drop(columns=['CLASS_LABEL'])\n",
    "y = df['CLASS_LABEL']\n",
    "\n",
    "print(f\"Forma del dataset: {X.shape}\")\n",
    "print(f\"Distribución de clases: {Counter(y)}\")\n",
    "\n",
    "\n",
    "# 80 20\n",
    "X_train, X_test, y_train, y_test = train_test_split(\n",
    "    X, y, \n",
    "    test_size=0.2, \n",
    "    random_state=42, \n",
    "    stratify=y\n",
    ")\n",
    "\n",
    "\n",
    "print(f\"Entrenamiento: {X_train.shape[0]} muestras\")\n",
    "print(f\"Prueba: {X_test.shape[0]} muestras\")\n"
   ]
  },
  {
   "cell_type": "code",
   "execution_count": 10,
   "id": "446b6e02-a9d5-4e15-a697-0e37ebb79788",
   "metadata": {},
   "outputs": [],
   "source": [
    "def get_rf_objective(X, y, cv=5, scoring='f1'):\n",
    "    \"\"\"\n",
    "    Retorna una función objetivo para optimizar hiperparámetros de RandomForest con Optuna.\n",
    "    \n",
    "    Parámetros:\n",
    "    - X: Features del dataset.\n",
    "    - y: Etiquetas del dataset.\n",
    "    - cv: Número de particiones para validación cruzada.\n",
    "    - scoring: Métrica a optimizar ('accuracy', 'roc_auc', etc.).\n",
    "\n",
    "    Retorna:\n",
    "    - Función objetivo compatible con optuna.\n",
    "    \"\"\"\n",
    "    \n",
    "    def objective(trial):\n",
    "        params = {\n",
    "            'n_estimators': trial.suggest_int('n_estimators', 50, 300),\n",
    "            'max_depth': trial.suggest_int('max_depth', 3, 100),\n",
    "            'min_samples_split': trial.suggest_int('min_samples_split', 2, 20),\n",
    "            'min_samples_leaf': trial.suggest_int('min_samples_leaf', 1, 20),\n",
    "            'max_features': trial.suggest_categorical('max_features', ['sqrt', 'log2']),\n",
    "            'bootstrap': trial.suggest_categorical('bootstrap', [True, False]),\n",
    "            'random_state': 42,\n",
    "            'n_jobs': -1\n",
    "        }\n",
    "\n",
    "        clf = RandomForestClassifier(**params)\n",
    "        scores = cross_val_score(clf, X, y, cv=cv, scoring=scoring)\n",
    "        # Guardar información adicional en el trial\n",
    "        trial.set_user_attr(\"cv_scores\", scores.tolist())\n",
    "        return scores.mean()\n",
    "\n",
    "    return objective\n"
   ]
  },
  {
   "cell_type": "code",
   "execution_count": 41,
   "id": "6229f4a9-0477-415a-a300-50dc3656686c",
   "metadata": {},
   "outputs": [
    {
     "name": "stderr",
     "output_type": "stream",
     "text": [
      "[I 2025-07-08 01:12:36,001] A new study created in memory with name: no-name-77270d61-e399-43a7-8067-09e23f943fee\n"
     ]
    },
    {
     "data": {
      "application/vnd.jupyter.widget-view+json": {
       "model_id": "20c05f18fa0c4de998129a0e230b6484",
       "version_major": 2,
       "version_minor": 0
      },
      "text/plain": [
       "  0%|          | 0/100 [00:00<?, ?it/s]"
      ]
     },
     "metadata": {},
     "output_type": "display_data"
    },
    {
     "name": "stdout",
     "output_type": "stream",
     "text": [
      "[I 2025-07-08 01:12:37,909] Trial 0 finished with value: 0.9705167432789871 and parameters: {'n_estimators': 144, 'max_depth': 96, 'min_samples_split': 15, 'min_samples_leaf': 12, 'max_features': 'sqrt', 'bootstrap': False}. Best is trial 0 with value: 0.9705167432789871.\n",
      "[I 2025-07-08 01:12:40,402] Trial 1 finished with value: 0.9683738825709505 and parameters: {'n_estimators': 200, 'max_depth': 72, 'min_samples_split': 2, 'min_samples_leaf': 20, 'max_features': 'sqrt', 'bootstrap': False}. Best is trial 0 with value: 0.9705167432789871.\n",
      "[I 2025-07-08 01:12:42,174] Trial 2 finished with value: 0.9760127577381594 and parameters: {'n_estimators': 126, 'max_depth': 54, 'min_samples_split': 10, 'min_samples_leaf': 6, 'max_features': 'sqrt', 'bootstrap': False}. Best is trial 2 with value: 0.9760127577381594.\n",
      "[I 2025-07-08 01:12:44,713] Trial 3 finished with value: 0.9686141866683433 and parameters: {'n_estimators': 164, 'max_depth': 79, 'min_samples_split': 5, 'min_samples_leaf': 11, 'max_features': 'sqrt', 'bootstrap': True}. Best is trial 2 with value: 0.9760127577381594.\n",
      "[I 2025-07-08 01:12:45,756] Trial 4 finished with value: 0.9662428702043446 and parameters: {'n_estimators': 66, 'max_depth': 95, 'min_samples_split': 20, 'min_samples_leaf': 17, 'max_features': 'sqrt', 'bootstrap': True}. Best is trial 2 with value: 0.9760127577381594.\n",
      "[I 2025-07-08 01:12:46,742] Trial 5 finished with value: 0.9687571633446153 and parameters: {'n_estimators': 80, 'max_depth': 51, 'min_samples_split': 2, 'min_samples_leaf': 19, 'max_features': 'log2', 'bootstrap': False}. Best is trial 2 with value: 0.9760127577381594.\n",
      "[I 2025-07-08 01:12:49,124] Trial 6 finished with value: 0.9697097064820989 and parameters: {'n_estimators': 187, 'max_depth': 21, 'min_samples_split': 20, 'min_samples_leaf': 16, 'max_features': 'sqrt', 'bootstrap': False}. Best is trial 2 with value: 0.9760127577381594.\n",
      "[I 2025-07-08 01:12:50,368] Trial 7 finished with value: 0.9720170572031538 and parameters: {'n_estimators': 72, 'max_depth': 22, 'min_samples_split': 2, 'min_samples_leaf': 7, 'max_features': 'sqrt', 'bootstrap': True}. Best is trial 2 with value: 0.9760127577381594.\n",
      "[I 2025-07-08 01:12:52,021] Trial 8 finished with value: 0.9662994734360486 and parameters: {'n_estimators': 120, 'max_depth': 56, 'min_samples_split': 4, 'min_samples_leaf': 17, 'max_features': 'log2', 'bootstrap': True}. Best is trial 2 with value: 0.9760127577381594.\n",
      "[I 2025-07-08 01:12:52,856] Trial 9 finished with value: 0.9666228708784799 and parameters: {'n_estimators': 51, 'max_depth': 82, 'min_samples_split': 15, 'min_samples_leaf': 15, 'max_features': 'sqrt', 'bootstrap': True}. Best is trial 2 with value: 0.9760127577381594.\n",
      "[I 2025-07-08 01:12:55,400] Trial 10 finished with value: 0.9792654264520774 and parameters: {'n_estimators': 186, 'max_depth': 43, 'min_samples_split': 8, 'min_samples_leaf': 3, 'max_features': 'sqrt', 'bootstrap': False}. Best is trial 10 with value: 0.9792654264520774.\n",
      "[I 2025-07-08 01:12:59,027] Trial 11 finished with value: 0.978010058678632 and parameters: {'n_estimators': 171, 'max_depth': 54, 'min_samples_split': 13, 'min_samples_leaf': 4, 'max_features': 'sqrt', 'bootstrap': False}. Best is trial 10 with value: 0.9792654264520774.\n",
      "[I 2025-07-08 01:13:08,843] Trial 12 finished with value: 0.9738727101578084 and parameters: {'n_estimators': 284, 'max_depth': 45, 'min_samples_split': 9, 'min_samples_leaf': 8, 'max_features': 'sqrt', 'bootstrap': False}. Best is trial 10 with value: 0.9792654264520774.\n",
      "[I 2025-07-08 01:13:17,603] Trial 13 finished with value: 0.9832626701330692 and parameters: {'n_estimators': 207, 'max_depth': 20, 'min_samples_split': 4, 'min_samples_leaf': 1, 'max_features': 'sqrt', 'bootstrap': False}. Best is trial 13 with value: 0.9832626701330692.\n",
      "[I 2025-07-08 01:13:24,813] Trial 14 finished with value: 0.9773868706360345 and parameters: {'n_estimators': 222, 'max_depth': 28, 'min_samples_split': 6, 'min_samples_leaf': 5, 'max_features': 'log2', 'bootstrap': False}. Best is trial 13 with value: 0.9832626701330692.\n",
      "[I 2025-07-08 01:13:30,791] Trial 15 finished with value: 0.982989971086244 and parameters: {'n_estimators': 220, 'max_depth': 17, 'min_samples_split': 3, 'min_samples_leaf': 1, 'max_features': 'sqrt', 'bootstrap': False}. Best is trial 13 with value: 0.9832626701330692.\n",
      "[I 2025-07-08 01:13:38,760] Trial 16 finished with value: 0.9795457640454334 and parameters: {'n_estimators': 238, 'max_depth': 21, 'min_samples_split': 3, 'min_samples_leaf': 2, 'max_features': 'sqrt', 'bootstrap': True}. Best is trial 13 with value: 0.9832626701330692.\n",
      "[I 2025-07-08 01:13:47,615] Trial 17 finished with value: 0.9829901790380126 and parameters: {'n_estimators': 291, 'max_depth': 68, 'min_samples_split': 2, 'min_samples_leaf': 1, 'max_features': 'sqrt', 'bootstrap': False}. Best is trial 13 with value: 0.9832626701330692.\n",
      "[I 2025-07-08 01:13:54,759] Trial 18 finished with value: 0.9829938059228465 and parameters: {'n_estimators': 249, 'max_depth': 66, 'min_samples_split': 2, 'min_samples_leaf': 1, 'max_features': 'sqrt', 'bootstrap': False}. Best is trial 13 with value: 0.9832626701330692.\n",
      "[I 2025-07-08 01:14:00,539] Trial 19 finished with value: 0.9749050001872053 and parameters: {'n_estimators': 181, 'max_depth': 69, 'min_samples_split': 2, 'min_samples_leaf': 7, 'max_features': 'sqrt', 'bootstrap': False}. Best is trial 13 with value: 0.9832626701330692.\n",
      "[I 2025-07-08 01:14:05,608] Trial 20 finished with value: 0.9813901002097738 and parameters: {'n_estimators': 169, 'max_depth': 84, 'min_samples_split': 3, 'min_samples_leaf': 1, 'max_features': 'sqrt', 'bootstrap': True}. Best is trial 13 with value: 0.9832626701330692.\n",
      "[I 2025-07-08 01:14:15,309] Trial 21 finished with value: 0.9812634298849077 and parameters: {'n_estimators': 282, 'max_depth': 60, 'min_samples_split': 2, 'min_samples_leaf': 3, 'max_features': 'sqrt', 'bootstrap': False}. Best is trial 13 with value: 0.9832626701330692.\n",
      "[I 2025-07-08 01:14:24,970] Trial 22 finished with value: 0.9828687800402836 and parameters: {'n_estimators': 264, 'max_depth': 90, 'min_samples_split': 3, 'min_samples_leaf': 1, 'max_features': 'log2', 'bootstrap': False}. Best is trial 13 with value: 0.9832626701330692.\n",
      "[I 2025-07-08 01:14:35,391] Trial 23 finished with value: 0.9807566689718141 and parameters: {'n_estimators': 254, 'max_depth': 88, 'min_samples_split': 9, 'min_samples_leaf': 2, 'max_features': 'sqrt', 'bootstrap': False}. Best is trial 13 with value: 0.9832626701330692.\n",
      "[I 2025-07-08 01:14:46,158] Trial 24 finished with value: 0.9808922283406722 and parameters: {'n_estimators': 281, 'max_depth': 41, 'min_samples_split': 6, 'min_samples_leaf': 1, 'max_features': 'log2', 'bootstrap': True}. Best is trial 13 with value: 0.9832626701330692.\n",
      "[I 2025-07-08 01:14:58,835] Trial 25 finished with value: 0.9811352557227464 and parameters: {'n_estimators': 284, 'max_depth': 58, 'min_samples_split': 3, 'min_samples_leaf': 1, 'max_features': 'sqrt', 'bootstrap': True}. Best is trial 13 with value: 0.9832626701330692.\n",
      "[I 2025-07-08 01:15:13,690] Trial 26 finished with value: 0.9818892523317452 and parameters: {'n_estimators': 283, 'max_depth': 81, 'min_samples_split': 2, 'min_samples_leaf': 2, 'max_features': 'sqrt', 'bootstrap': False}. Best is trial 13 with value: 0.9832626701330692.\n",
      "[I 2025-07-08 01:15:20,125] Trial 27 finished with value: 0.9733441836297265 and parameters: {'n_estimators': 133, 'max_depth': 10, 'min_samples_split': 7, 'min_samples_leaf': 6, 'max_features': 'sqrt', 'bootstrap': False}. Best is trial 13 with value: 0.9832626701330692.\n",
      "[I 2025-07-08 01:15:28,406] Trial 28 finished with value: 0.9663004625031905 and parameters: {'n_estimators': 184, 'max_depth': 28, 'min_samples_split': 2, 'min_samples_leaf': 15, 'max_features': 'sqrt', 'bootstrap': True}. Best is trial 13 with value: 0.9832626701330692.\n",
      "[I 2025-07-08 01:15:40,768] Trial 29 finished with value: 0.9666608856566514 and parameters: {'n_estimators': 276, 'max_depth': 44, 'min_samples_split': 15, 'min_samples_leaf': 18, 'max_features': 'log2', 'bootstrap': True}. Best is trial 13 with value: 0.9832626701330692.\n",
      "[I 2025-07-08 01:15:52,323] Trial 30 finished with value: 0.9622102971778064 and parameters: {'n_estimators': 260, 'max_depth': 5, 'min_samples_split': 13, 'min_samples_leaf': 6, 'max_features': 'sqrt', 'bootstrap': True}. Best is trial 13 with value: 0.9832626701330692.\n",
      "[I 2025-07-08 01:15:59,699] Trial 31 finished with value: 0.9750720299140522 and parameters: {'n_estimators': 206, 'max_depth': 10, 'min_samples_split': 2, 'min_samples_leaf': 2, 'max_features': 'sqrt', 'bootstrap': False}. Best is trial 13 with value: 0.9832626701330692.\n",
      "[I 2025-07-08 01:16:12,635] Trial 32 finished with value: 0.9813866074685171 and parameters: {'n_estimators': 255, 'max_depth': 21, 'min_samples_split': 9, 'min_samples_leaf': 2, 'max_features': 'sqrt', 'bootstrap': False}. Best is trial 13 with value: 0.9832626701330692.\n",
      "[I 2025-07-08 01:16:21,745] Trial 33 finished with value: 0.9834923828858988 and parameters: {'n_estimators': 178, 'max_depth': 37, 'min_samples_split': 3, 'min_samples_leaf': 1, 'max_features': 'sqrt', 'bootstrap': False}. Best is trial 33 with value: 0.9834923828858988.\n",
      "[I 2025-07-08 01:16:31,760] Trial 34 finished with value: 0.9826277633519448 and parameters: {'n_estimators': 223, 'max_depth': 70, 'min_samples_split': 4, 'min_samples_leaf': 1, 'max_features': 'sqrt', 'bootstrap': False}. Best is trial 33 with value: 0.9834923828858988.\n",
      "[I 2025-07-08 01:16:37,453] Trial 35 finished with value: 0.9821185374834454 and parameters: {'n_estimators': 139, 'max_depth': 30, 'min_samples_split': 6, 'min_samples_leaf': 1, 'max_features': 'sqrt', 'bootstrap': False}. Best is trial 33 with value: 0.9834923828858988.\n",
      "[I 2025-07-08 01:16:43,096] Trial 36 finished with value: 0.9668830225858744 and parameters: {'n_estimators': 119, 'max_depth': 10, 'min_samples_split': 15, 'min_samples_leaf': 12, 'max_features': 'sqrt', 'bootstrap': True}. Best is trial 33 with value: 0.9834923828858988.\n",
      "[I 2025-07-08 01:16:49,787] Trial 37 finished with value: 0.9811429517843011 and parameters: {'n_estimators': 149, 'max_depth': 49, 'min_samples_split': 2, 'min_samples_leaf': 3, 'max_features': 'sqrt', 'bootstrap': False}. Best is trial 33 with value: 0.9834923828858988.\n",
      "[I 2025-07-08 01:17:00,563] Trial 38 finished with value: 0.9765067393406728 and parameters: {'n_estimators': 293, 'max_depth': 56, 'min_samples_split': 2, 'min_samples_leaf': 6, 'max_features': 'log2', 'bootstrap': False}. Best is trial 33 with value: 0.9834923828858988.\n",
      "[I 2025-07-08 01:17:04,178] Trial 39 finished with value: 0.9752753379777446 and parameters: {'n_estimators': 82, 'max_depth': 46, 'min_samples_split': 3, 'min_samples_leaf': 6, 'max_features': 'log2', 'bootstrap': False}. Best is trial 33 with value: 0.9834923828858988.\n",
      "[I 2025-07-08 01:17:10,246] Trial 40 finished with value: 0.978756491224242 and parameters: {'n_estimators': 152, 'max_depth': 18, 'min_samples_split': 11, 'min_samples_leaf': 1, 'max_features': 'sqrt', 'bootstrap': True}. Best is trial 33 with value: 0.9834923828858988.\n",
      "[I 2025-07-08 01:17:19,716] Trial 41 finished with value: 0.9813923555604351 and parameters: {'n_estimators': 222, 'max_depth': 23, 'min_samples_split': 4, 'min_samples_leaf': 3, 'max_features': 'sqrt', 'bootstrap': False}. Best is trial 33 with value: 0.9834923828858988.\n",
      "[I 2025-07-08 01:17:29,238] Trial 42 finished with value: 0.9823888506024947 and parameters: {'n_estimators': 221, 'max_depth': 40, 'min_samples_split': 2, 'min_samples_leaf': 2, 'max_features': 'sqrt', 'bootstrap': False}. Best is trial 33 with value: 0.9834923828858988.\n",
      "[I 2025-07-08 01:17:39,650] Trial 43 finished with value: 0.9824832275652808 and parameters: {'n_estimators': 225, 'max_depth': 38, 'min_samples_split': 6, 'min_samples_leaf': 1, 'max_features': 'sqrt', 'bootstrap': False}. Best is trial 33 with value: 0.9834923828858988.\n",
      "[I 2025-07-08 01:17:50,104] Trial 44 finished with value: 0.9818760185821753 and parameters: {'n_estimators': 230, 'max_depth': 15, 'min_samples_split': 4, 'min_samples_leaf': 1, 'max_features': 'log2', 'bootstrap': False}. Best is trial 33 with value: 0.9834923828858988.\n",
      "[I 2025-07-08 01:17:54,649] Trial 45 finished with value: 0.9713025317228503 and parameters: {'n_estimators': 84, 'max_depth': 36, 'min_samples_split': 13, 'min_samples_leaf': 12, 'max_features': 'log2', 'bootstrap': False}. Best is trial 33 with value: 0.9834923828858988.\n",
      "[I 2025-07-08 01:18:00,967] Trial 46 finished with value: 0.9783902769848231 and parameters: {'n_estimators': 109, 'max_depth': 39, 'min_samples_split': 7, 'min_samples_leaf': 2, 'max_features': 'log2', 'bootstrap': True}. Best is trial 33 with value: 0.9834923828858988.\n",
      "[I 2025-07-08 01:18:08,090] Trial 47 finished with value: 0.9707917892929583 and parameters: {'n_estimators': 136, 'max_depth': 66, 'min_samples_split': 20, 'min_samples_leaf': 8, 'max_features': 'sqrt', 'bootstrap': True}. Best is trial 33 with value: 0.9834923828858988.\n",
      "[I 2025-07-08 01:18:14,516] Trial 48 finished with value: 0.9694620069760485 and parameters: {'n_estimators': 176, 'max_depth': 100, 'min_samples_split': 5, 'min_samples_leaf': 16, 'max_features': 'log2', 'bootstrap': False}. Best is trial 33 with value: 0.9834923828858988.\n",
      "[I 2025-07-08 01:18:29,662] Trial 49 finished with value: 0.9825079991495682 and parameters: {'n_estimators': 279, 'max_depth': 66, 'min_samples_split': 6, 'min_samples_leaf': 2, 'max_features': 'sqrt', 'bootstrap': False}. Best is trial 33 with value: 0.9834923828858988.\n",
      "[I 2025-07-08 01:18:37,896] Trial 50 finished with value: 0.9736469266748315 and parameters: {'n_estimators': 160, 'max_depth': 35, 'min_samples_split': 2, 'min_samples_leaf': 5, 'max_features': 'sqrt', 'bootstrap': True}. Best is trial 33 with value: 0.9834923828858988.\n",
      "[I 2025-07-08 01:18:45,617] Trial 51 finished with value: 0.9781461119931925 and parameters: {'n_estimators': 174, 'max_depth': 84, 'min_samples_split': 6, 'min_samples_leaf': 4, 'max_features': 'log2', 'bootstrap': False}. Best is trial 33 with value: 0.9834923828858988.\n",
      "[I 2025-07-08 01:18:56,478] Trial 52 finished with value: 0.9817523473810003 and parameters: {'n_estimators': 259, 'max_depth': 97, 'min_samples_split': 4, 'min_samples_leaf': 2, 'max_features': 'log2', 'bootstrap': False}. Best is trial 33 with value: 0.9834923828858988.\n",
      "[I 2025-07-08 01:19:10,887] Trial 53 finished with value: 0.9817479927519901 and parameters: {'n_estimators': 299, 'max_depth': 86, 'min_samples_split': 3, 'min_samples_leaf': 2, 'max_features': 'log2', 'bootstrap': False}. Best is trial 33 with value: 0.9834923828858988.\n",
      "[I 2025-07-08 01:19:23,605] Trial 54 finished with value: 0.9796281483862319 and parameters: {'n_estimators': 278, 'max_depth': 86, 'min_samples_split': 5, 'min_samples_leaf': 2, 'max_features': 'log2', 'bootstrap': True}. Best is trial 33 with value: 0.9834923828858988.\n",
      "[I 2025-07-08 01:19:26,326] Trial 55 finished with value: 0.9710262072389308 and parameters: {'n_estimators': 51, 'max_depth': 89, 'min_samples_split': 8, 'min_samples_leaf': 11, 'max_features': 'sqrt', 'bootstrap': False}. Best is trial 33 with value: 0.9834923828858988.\n",
      "[I 2025-07-08 01:19:33,851] Trial 56 finished with value: 0.9815055111342005 and parameters: {'n_estimators': 189, 'max_depth': 52, 'min_samples_split': 4, 'min_samples_leaf': 2, 'max_features': 'log2', 'bootstrap': False}. Best is trial 33 with value: 0.9834923828858988.\n",
      "[I 2025-07-08 01:19:43,883] Trial 57 finished with value: 0.9726723399712037 and parameters: {'n_estimators': 225, 'max_depth': 73, 'min_samples_split': 18, 'min_samples_leaf': 6, 'max_features': 'log2', 'bootstrap': True}. Best is trial 33 with value: 0.9834923828858988.\n",
      "[I 2025-07-08 01:19:49,976] Trial 58 finished with value: 0.9656346233957798 and parameters: {'n_estimators': 128, 'max_depth': 98, 'min_samples_split': 7, 'min_samples_leaf': 20, 'max_features': 'sqrt', 'bootstrap': True}. Best is trial 33 with value: 0.9834923828858988.\n",
      "[I 2025-07-08 01:19:57,759] Trial 59 finished with value: 0.9628944614927979 and parameters: {'n_estimators': 245, 'max_depth': 5, 'min_samples_split': 5, 'min_samples_leaf': 17, 'max_features': 'sqrt', 'bootstrap': False}. Best is trial 33 with value: 0.9834923828858988.\n",
      "[I 2025-07-08 01:20:05,467] Trial 60 finished with value: 0.9825043679184617 and parameters: {'n_estimators': 165, 'max_depth': 19, 'min_samples_split': 2, 'min_samples_leaf': 2, 'max_features': 'sqrt', 'bootstrap': False}. Best is trial 33 with value: 0.9834923828858988.\n",
      "[I 2025-07-08 01:20:14,238] Trial 61 finished with value: 0.9816473340956484 and parameters: {'n_estimators': 210, 'max_depth': 74, 'min_samples_split': 7, 'min_samples_leaf': 2, 'max_features': 'sqrt', 'bootstrap': False}. Best is trial 33 with value: 0.9834923828858988.\n",
      "[I 2025-07-08 01:20:26,791] Trial 62 finished with value: 0.9833582354529453 and parameters: {'n_estimators': 268, 'max_depth': 77, 'min_samples_split': 2, 'min_samples_leaf': 1, 'max_features': 'sqrt', 'bootstrap': False}. Best is trial 33 with value: 0.9834923828858988.\n",
      "[I 2025-07-08 01:20:40,261] Trial 63 finished with value: 0.978904828609285 and parameters: {'n_estimators': 257, 'max_depth': 79, 'min_samples_split': 3, 'min_samples_leaf': 4, 'max_features': 'sqrt', 'bootstrap': False}. Best is trial 33 with value: 0.9834923828858988.\n",
      "[I 2025-07-08 01:20:53,233] Trial 64 finished with value: 0.9832360845253358 and parameters: {'n_estimators': 272, 'max_depth': 76, 'min_samples_split': 3, 'min_samples_leaf': 1, 'max_features': 'sqrt', 'bootstrap': False}. Best is trial 33 with value: 0.9834923828858988.\n",
      "[I 2025-07-08 01:21:05,905] Trial 65 finished with value: 0.9818870990336445 and parameters: {'n_estimators': 258, 'max_depth': 89, 'min_samples_split': 2, 'min_samples_leaf': 1, 'max_features': 'sqrt', 'bootstrap': True}. Best is trial 33 with value: 0.9834923828858988.\n",
      "[I 2025-07-08 01:21:14,397] Trial 66 finished with value: 0.9560895994282275 and parameters: {'n_estimators': 207, 'max_depth': 4, 'min_samples_split': 8, 'min_samples_leaf': 1, 'max_features': 'sqrt', 'bootstrap': False}. Best is trial 33 with value: 0.9834923828858988.\n",
      "[I 2025-07-08 01:21:26,615] Trial 67 finished with value: 0.9831091584090496 and parameters: {'n_estimators': 218, 'max_depth': 81, 'min_samples_split': 2, 'min_samples_leaf': 1, 'max_features': 'sqrt', 'bootstrap': False}. Best is trial 33 with value: 0.9834923828858988.\n",
      "[I 2025-07-08 01:21:37,075] Trial 68 finished with value: 0.9829905130211062 and parameters: {'n_estimators': 200, 'max_depth': 70, 'min_samples_split': 2, 'min_samples_leaf': 1, 'max_features': 'sqrt', 'bootstrap': False}. Best is trial 33 with value: 0.9834923828858988.\n",
      "[I 2025-07-08 01:21:47,074] Trial 69 finished with value: 0.9829844337580657 and parameters: {'n_estimators': 230, 'max_depth': 56, 'min_samples_split': 2, 'min_samples_leaf': 1, 'max_features': 'sqrt', 'bootstrap': False}. Best is trial 33 with value: 0.9834923828858988.\n",
      "[I 2025-07-08 01:21:55,541] Trial 70 finished with value: 0.9758712775083265 and parameters: {'n_estimators': 185, 'max_depth': 89, 'min_samples_split': 3, 'min_samples_leaf': 6, 'max_features': 'sqrt', 'bootstrap': False}. Best is trial 33 with value: 0.9834923828858988.\n",
      "[I 2025-07-08 01:22:04,941] Trial 71 finished with value: 0.9833632276950629 and parameters: {'n_estimators': 192, 'max_depth': 99, 'min_samples_split': 3, 'min_samples_leaf': 1, 'max_features': 'sqrt', 'bootstrap': False}. Best is trial 33 with value: 0.9834923828858988.\n",
      "[I 2025-07-08 01:22:13,107] Trial 72 finished with value: 0.9781566536324263 and parameters: {'n_estimators': 178, 'max_depth': 79, 'min_samples_split': 2, 'min_samples_leaf': 4, 'max_features': 'sqrt', 'bootstrap': False}. Best is trial 33 with value: 0.9834923828858988.\n",
      "[I 2025-07-08 01:22:20,657] Trial 73 finished with value: 0.9825058401931356 and parameters: {'n_estimators': 165, 'max_depth': 92, 'min_samples_split': 2, 'min_samples_leaf': 1, 'max_features': 'sqrt', 'bootstrap': False}. Best is trial 33 with value: 0.9834923828858988.\n",
      "[I 2025-07-08 01:22:32,989] Trial 74 finished with value: 0.9827469146000729 and parameters: {'n_estimators': 254, 'max_depth': 91, 'min_samples_split': 4, 'min_samples_leaf': 1, 'max_features': 'sqrt', 'bootstrap': False}. Best is trial 33 with value: 0.9834923828858988.\n",
      "[I 2025-07-08 01:22:41,818] Trial 75 finished with value: 0.9820104274459676 and parameters: {'n_estimators': 206, 'max_depth': 85, 'min_samples_split': 2, 'min_samples_leaf': 2, 'max_features': 'sqrt', 'bootstrap': False}. Best is trial 33 with value: 0.9834923828858988.\n",
      "[I 2025-07-08 01:22:49,646] Trial 76 finished with value: 0.9785270710038547 and parameters: {'n_estimators': 193, 'max_depth': 100, 'min_samples_split': 6, 'min_samples_leaf': 4, 'max_features': 'sqrt', 'bootstrap': False}. Best is trial 33 with value: 0.9834923828858988.\n",
      "[I 2025-07-08 01:22:52,885] Trial 77 finished with value: 0.9747144550596742 and parameters: {'n_estimators': 69, 'max_depth': 61, 'min_samples_split': 20, 'min_samples_leaf': 6, 'max_features': 'sqrt', 'bootstrap': False}. Best is trial 33 with value: 0.9834923828858988.\n",
      "[I 2025-07-08 01:23:05,728] Trial 78 finished with value: 0.9832360845253358 and parameters: {'n_estimators': 278, 'max_depth': 73, 'min_samples_split': 3, 'min_samples_leaf': 1, 'max_features': 'sqrt', 'bootstrap': False}. Best is trial 33 with value: 0.9834923828858988.\n",
      "[I 2025-07-08 01:23:07,957] Trial 79 finished with value: 0.9684491113326761 and parameters: {'n_estimators': 51, 'max_depth': 38, 'min_samples_split': 11, 'min_samples_leaf': 18, 'max_features': 'sqrt', 'bootstrap': False}. Best is trial 33 with value: 0.9834923828858988.\n",
      "[I 2025-07-08 01:23:19,991] Trial 80 finished with value: 0.9818881995395824 and parameters: {'n_estimators': 275, 'max_depth': 80, 'min_samples_split': 2, 'min_samples_leaf': 2, 'max_features': 'sqrt', 'bootstrap': False}. Best is trial 33 with value: 0.9834923828858988.\n",
      "[I 2025-07-08 01:23:29,208] Trial 81 finished with value: 0.9832392679131265 and parameters: {'n_estimators': 247, 'max_depth': 59, 'min_samples_split': 2, 'min_samples_leaf': 1, 'max_features': 'sqrt', 'bootstrap': False}. Best is trial 33 with value: 0.9834923828858988.\n",
      "[I 2025-07-08 01:23:36,518] Trial 82 finished with value: 0.9677597650809865 and parameters: {'n_estimators': 183, 'max_depth': 56, 'min_samples_split': 11, 'min_samples_leaf': 13, 'max_features': 'log2', 'bootstrap': True}. Best is trial 33 with value: 0.9834923828858988.\n",
      "[I 2025-07-08 01:23:49,464] Trial 83 finished with value: 0.9836154167616271 and parameters: {'n_estimators': 295, 'max_depth': 52, 'min_samples_split': 3, 'min_samples_leaf': 1, 'max_features': 'sqrt', 'bootstrap': False}. Best is trial 83 with value: 0.9836154167616271.\n",
      "[I 2025-07-08 01:23:53,108] Trial 84 finished with value: 0.9725894559281665 and parameters: {'n_estimators': 104, 'max_depth': 81, 'min_samples_split': 14, 'min_samples_leaf': 6, 'max_features': 'log2', 'bootstrap': True}. Best is trial 83 with value: 0.9836154167616271.\n",
      "[I 2025-07-08 01:24:04,122] Trial 85 finished with value: 0.9831122971327522 and parameters: {'n_estimators': 294, 'max_depth': 56, 'min_samples_split': 2, 'min_samples_leaf': 1, 'max_features': 'sqrt', 'bootstrap': False}. Best is trial 83 with value: 0.9836154167616271.\n",
      "[I 2025-07-08 01:24:14,927] Trial 86 finished with value: 0.9813932767257316 and parameters: {'n_estimators': 292, 'max_depth': 49, 'min_samples_split': 5, 'min_samples_leaf': 2, 'max_features': 'sqrt', 'bootstrap': False}. Best is trial 83 with value: 0.9836154167616271.\n",
      "[I 2025-07-08 01:24:23,707] Trial 87 finished with value: 0.9709289632735414 and parameters: {'n_estimators': 242, 'max_depth': 97, 'min_samples_split': 19, 'min_samples_leaf': 12, 'max_features': 'sqrt', 'bootstrap': False}. Best is trial 83 with value: 0.9836154167616271.\n",
      "[I 2025-07-08 01:24:33,478] Trial 88 finished with value: 0.9786493416508677 and parameters: {'n_estimators': 273, 'max_depth': 30, 'min_samples_split': 2, 'min_samples_leaf': 4, 'max_features': 'sqrt', 'bootstrap': False}. Best is trial 83 with value: 0.9836154167616271.\n",
      "[I 2025-07-08 01:24:44,223] Trial 89 finished with value: 0.9763936492513008 and parameters: {'n_estimators': 294, 'max_depth': 55, 'min_samples_split': 2, 'min_samples_leaf': 5, 'max_features': 'sqrt', 'bootstrap': False}. Best is trial 83 with value: 0.9836154167616271.\n",
      "[I 2025-07-08 01:24:49,776] Trial 90 finished with value: 0.9693339438715789 and parameters: {'n_estimators': 168, 'max_depth': 56, 'min_samples_split': 20, 'min_samples_leaf': 16, 'max_features': 'log2', 'bootstrap': False}. Best is trial 83 with value: 0.9836154167616271.\n",
      "[I 2025-07-08 01:24:59,544] Trial 91 finished with value: 0.9828648835069591 and parameters: {'n_estimators': 269, 'max_depth': 60, 'min_samples_split': 3, 'min_samples_leaf': 1, 'max_features': 'log2', 'bootstrap': False}. Best is trial 83 with value: 0.9836154167616271.\n",
      "[I 2025-07-08 01:25:10,227] Trial 92 finished with value: 0.9827612743760936 and parameters: {'n_estimators': 276, 'max_depth': 55, 'min_samples_split': 5, 'min_samples_leaf': 1, 'max_features': 'sqrt', 'bootstrap': False}. Best is trial 83 with value: 0.9836154167616271.\n",
      "[I 2025-07-08 01:25:20,591] Trial 93 finished with value: 0.9829901790380126 and parameters: {'n_estimators': 285, 'max_depth': 62, 'min_samples_split': 2, 'min_samples_leaf': 1, 'max_features': 'sqrt', 'bootstrap': False}. Best is trial 83 with value: 0.9836154167616271.\n",
      "[I 2025-07-08 01:25:27,367] Trial 94 finished with value: 0.9753703433772032 and parameters: {'n_estimators': 265, 'max_depth': 69, 'min_samples_split': 8, 'min_samples_leaf': 4, 'max_features': 'sqrt', 'bootstrap': True}. Best is trial 83 with value: 0.9836154167616271.\n",
      "[I 2025-07-08 01:25:34,676] Trial 95 finished with value: 0.9828713379921844 and parameters: {'n_estimators': 295, 'max_depth': 83, 'min_samples_split': 4, 'min_samples_leaf': 1, 'max_features': 'sqrt', 'bootstrap': False}. Best is trial 83 with value: 0.9836154167616271.\n",
      "[I 2025-07-08 01:25:39,790] Trial 96 finished with value: 0.9655815717517218 and parameters: {'n_estimators': 270, 'max_depth': 45, 'min_samples_split': 20, 'min_samples_leaf': 18, 'max_features': 'sqrt', 'bootstrap': True}. Best is trial 83 with value: 0.9836154167616271.\n",
      "[I 2025-07-08 01:25:50,842] Trial 97 finished with value: 0.9832392679131265 and parameters: {'n_estimators': 250, 'max_depth': 70, 'min_samples_split': 2, 'min_samples_leaf': 1, 'max_features': 'sqrt', 'bootstrap': False}. Best is trial 83 with value: 0.9836154167616271.\n",
      "[I 2025-07-08 01:25:53,733] Trial 98 finished with value: 0.9795939470159327 and parameters: {'n_estimators': 63, 'max_depth': 84, 'min_samples_split': 19, 'min_samples_leaf': 1, 'max_features': 'log2', 'bootstrap': False}. Best is trial 83 with value: 0.9836154167616271.\n",
      "[I 2025-07-08 01:26:04,269] Trial 99 finished with value: 0.9831165495939244 and parameters: {'n_estimators': 242, 'max_depth': 56, 'min_samples_split': 2, 'min_samples_leaf': 1, 'max_features': 'sqrt', 'bootstrap': False}. Best is trial 83 with value: 0.9836154167616271.\n"
     ]
    }
   ],
   "source": [
    "scaler=StandardScaler()\n",
    "X_train_scaled=scaler.fit_transform(X_train)\n",
    "X_test_scaled=scaler.transform(X_test)\n",
    "\n",
    "cv_strategy = StratifiedKFold(n_splits=5, shuffle=True, random_state=42)\n",
    "objective = get_rf_objective(X=X_train_scaled, y=y_train, cv=cv_strategy)\n",
    "\n",
    "study = optuna.create_study(direction='maximize', sampler=TPESampler(seed=42, n_startup_trials=10, multivariate=True, group=True))\n",
    "study.optimize(objective, n_trials=100, timeout=3600, show_progress_bar=True)\n"
   ]
  },
  {
   "cell_type": "code",
   "execution_count": 42,
   "id": "18cd8c02-9d19-4716-82c3-9975081241c1",
   "metadata": {},
   "outputs": [
    {
     "data": {
      "application/vnd.plotly.v1+json": {
       "config": {
        "plotlyServerURL": "https://plot.ly"
       },
       "data": [
        {
         "cliponaxis": false,
         "hovertemplate": [
          "max_features (CategoricalDistribution): 0.0003860166943134573<extra></extra>",
          "min_samples_split (IntDistribution): 0.0027673604371060163<extra></extra>",
          "n_estimators (IntDistribution): 0.014348611885831714<extra></extra>",
          "bootstrap (CategoricalDistribution): 0.03503282033943761<extra></extra>",
          "max_depth (IntDistribution): 0.123857080327059<extra></extra>",
          "min_samples_leaf (IntDistribution): 0.8236081103162521<extra></extra>"
         ],
         "name": "Objective Value",
         "orientation": "h",
         "text": [
          "<0.01",
          "<0.01",
          "0.01",
          "0.04",
          "0.12",
          "0.82"
         ],
         "textposition": "outside",
         "type": "bar",
         "x": [
          0.0003860166943134573,
          0.0027673604371060163,
          0.014348611885831714,
          0.03503282033943761,
          0.123857080327059,
          0.8236081103162521
         ],
         "y": [
          "max_features",
          "min_samples_split",
          "n_estimators",
          "bootstrap",
          "max_depth",
          "min_samples_leaf"
         ]
        }
       ],
       "layout": {
        "template": {
         "data": {
          "bar": [
           {
            "error_x": {
             "color": "#2a3f5f"
            },
            "error_y": {
             "color": "#2a3f5f"
            },
            "marker": {
             "line": {
              "color": "#E5ECF6",
              "width": 0.5
             },
             "pattern": {
              "fillmode": "overlay",
              "size": 10,
              "solidity": 0.2
             }
            },
            "type": "bar"
           }
          ],
          "barpolar": [
           {
            "marker": {
             "line": {
              "color": "#E5ECF6",
              "width": 0.5
             },
             "pattern": {
              "fillmode": "overlay",
              "size": 10,
              "solidity": 0.2
             }
            },
            "type": "barpolar"
           }
          ],
          "carpet": [
           {
            "aaxis": {
             "endlinecolor": "#2a3f5f",
             "gridcolor": "white",
             "linecolor": "white",
             "minorgridcolor": "white",
             "startlinecolor": "#2a3f5f"
            },
            "baxis": {
             "endlinecolor": "#2a3f5f",
             "gridcolor": "white",
             "linecolor": "white",
             "minorgridcolor": "white",
             "startlinecolor": "#2a3f5f"
            },
            "type": "carpet"
           }
          ],
          "choropleth": [
           {
            "colorbar": {
             "outlinewidth": 0,
             "ticks": ""
            },
            "type": "choropleth"
           }
          ],
          "contour": [
           {
            "colorbar": {
             "outlinewidth": 0,
             "ticks": ""
            },
            "colorscale": [
             [
              0,
              "#0d0887"
             ],
             [
              0.1111111111111111,
              "#46039f"
             ],
             [
              0.2222222222222222,
              "#7201a8"
             ],
             [
              0.3333333333333333,
              "#9c179e"
             ],
             [
              0.4444444444444444,
              "#bd3786"
             ],
             [
              0.5555555555555556,
              "#d8576b"
             ],
             [
              0.6666666666666666,
              "#ed7953"
             ],
             [
              0.7777777777777778,
              "#fb9f3a"
             ],
             [
              0.8888888888888888,
              "#fdca26"
             ],
             [
              1,
              "#f0f921"
             ]
            ],
            "type": "contour"
           }
          ],
          "contourcarpet": [
           {
            "colorbar": {
             "outlinewidth": 0,
             "ticks": ""
            },
            "type": "contourcarpet"
           }
          ],
          "heatmap": [
           {
            "colorbar": {
             "outlinewidth": 0,
             "ticks": ""
            },
            "colorscale": [
             [
              0,
              "#0d0887"
             ],
             [
              0.1111111111111111,
              "#46039f"
             ],
             [
              0.2222222222222222,
              "#7201a8"
             ],
             [
              0.3333333333333333,
              "#9c179e"
             ],
             [
              0.4444444444444444,
              "#bd3786"
             ],
             [
              0.5555555555555556,
              "#d8576b"
             ],
             [
              0.6666666666666666,
              "#ed7953"
             ],
             [
              0.7777777777777778,
              "#fb9f3a"
             ],
             [
              0.8888888888888888,
              "#fdca26"
             ],
             [
              1,
              "#f0f921"
             ]
            ],
            "type": "heatmap"
           }
          ],
          "histogram": [
           {
            "marker": {
             "pattern": {
              "fillmode": "overlay",
              "size": 10,
              "solidity": 0.2
             }
            },
            "type": "histogram"
           }
          ],
          "histogram2d": [
           {
            "colorbar": {
             "outlinewidth": 0,
             "ticks": ""
            },
            "colorscale": [
             [
              0,
              "#0d0887"
             ],
             [
              0.1111111111111111,
              "#46039f"
             ],
             [
              0.2222222222222222,
              "#7201a8"
             ],
             [
              0.3333333333333333,
              "#9c179e"
             ],
             [
              0.4444444444444444,
              "#bd3786"
             ],
             [
              0.5555555555555556,
              "#d8576b"
             ],
             [
              0.6666666666666666,
              "#ed7953"
             ],
             [
              0.7777777777777778,
              "#fb9f3a"
             ],
             [
              0.8888888888888888,
              "#fdca26"
             ],
             [
              1,
              "#f0f921"
             ]
            ],
            "type": "histogram2d"
           }
          ],
          "histogram2dcontour": [
           {
            "colorbar": {
             "outlinewidth": 0,
             "ticks": ""
            },
            "colorscale": [
             [
              0,
              "#0d0887"
             ],
             [
              0.1111111111111111,
              "#46039f"
             ],
             [
              0.2222222222222222,
              "#7201a8"
             ],
             [
              0.3333333333333333,
              "#9c179e"
             ],
             [
              0.4444444444444444,
              "#bd3786"
             ],
             [
              0.5555555555555556,
              "#d8576b"
             ],
             [
              0.6666666666666666,
              "#ed7953"
             ],
             [
              0.7777777777777778,
              "#fb9f3a"
             ],
             [
              0.8888888888888888,
              "#fdca26"
             ],
             [
              1,
              "#f0f921"
             ]
            ],
            "type": "histogram2dcontour"
           }
          ],
          "mesh3d": [
           {
            "colorbar": {
             "outlinewidth": 0,
             "ticks": ""
            },
            "type": "mesh3d"
           }
          ],
          "parcoords": [
           {
            "line": {
             "colorbar": {
              "outlinewidth": 0,
              "ticks": ""
             }
            },
            "type": "parcoords"
           }
          ],
          "pie": [
           {
            "automargin": true,
            "type": "pie"
           }
          ],
          "scatter": [
           {
            "fillpattern": {
             "fillmode": "overlay",
             "size": 10,
             "solidity": 0.2
            },
            "type": "scatter"
           }
          ],
          "scatter3d": [
           {
            "line": {
             "colorbar": {
              "outlinewidth": 0,
              "ticks": ""
             }
            },
            "marker": {
             "colorbar": {
              "outlinewidth": 0,
              "ticks": ""
             }
            },
            "type": "scatter3d"
           }
          ],
          "scattercarpet": [
           {
            "marker": {
             "colorbar": {
              "outlinewidth": 0,
              "ticks": ""
             }
            },
            "type": "scattercarpet"
           }
          ],
          "scattergeo": [
           {
            "marker": {
             "colorbar": {
              "outlinewidth": 0,
              "ticks": ""
             }
            },
            "type": "scattergeo"
           }
          ],
          "scattergl": [
           {
            "marker": {
             "colorbar": {
              "outlinewidth": 0,
              "ticks": ""
             }
            },
            "type": "scattergl"
           }
          ],
          "scattermap": [
           {
            "marker": {
             "colorbar": {
              "outlinewidth": 0,
              "ticks": ""
             }
            },
            "type": "scattermap"
           }
          ],
          "scattermapbox": [
           {
            "marker": {
             "colorbar": {
              "outlinewidth": 0,
              "ticks": ""
             }
            },
            "type": "scattermapbox"
           }
          ],
          "scatterpolar": [
           {
            "marker": {
             "colorbar": {
              "outlinewidth": 0,
              "ticks": ""
             }
            },
            "type": "scatterpolar"
           }
          ],
          "scatterpolargl": [
           {
            "marker": {
             "colorbar": {
              "outlinewidth": 0,
              "ticks": ""
             }
            },
            "type": "scatterpolargl"
           }
          ],
          "scatterternary": [
           {
            "marker": {
             "colorbar": {
              "outlinewidth": 0,
              "ticks": ""
             }
            },
            "type": "scatterternary"
           }
          ],
          "surface": [
           {
            "colorbar": {
             "outlinewidth": 0,
             "ticks": ""
            },
            "colorscale": [
             [
              0,
              "#0d0887"
             ],
             [
              0.1111111111111111,
              "#46039f"
             ],
             [
              0.2222222222222222,
              "#7201a8"
             ],
             [
              0.3333333333333333,
              "#9c179e"
             ],
             [
              0.4444444444444444,
              "#bd3786"
             ],
             [
              0.5555555555555556,
              "#d8576b"
             ],
             [
              0.6666666666666666,
              "#ed7953"
             ],
             [
              0.7777777777777778,
              "#fb9f3a"
             ],
             [
              0.8888888888888888,
              "#fdca26"
             ],
             [
              1,
              "#f0f921"
             ]
            ],
            "type": "surface"
           }
          ],
          "table": [
           {
            "cells": {
             "fill": {
              "color": "#EBF0F8"
             },
             "line": {
              "color": "white"
             }
            },
            "header": {
             "fill": {
              "color": "#C8D4E3"
             },
             "line": {
              "color": "white"
             }
            },
            "type": "table"
           }
          ]
         },
         "layout": {
          "annotationdefaults": {
           "arrowcolor": "#2a3f5f",
           "arrowhead": 0,
           "arrowwidth": 1
          },
          "autotypenumbers": "strict",
          "coloraxis": {
           "colorbar": {
            "outlinewidth": 0,
            "ticks": ""
           }
          },
          "colorscale": {
           "diverging": [
            [
             0,
             "#8e0152"
            ],
            [
             0.1,
             "#c51b7d"
            ],
            [
             0.2,
             "#de77ae"
            ],
            [
             0.3,
             "#f1b6da"
            ],
            [
             0.4,
             "#fde0ef"
            ],
            [
             0.5,
             "#f7f7f7"
            ],
            [
             0.6,
             "#e6f5d0"
            ],
            [
             0.7,
             "#b8e186"
            ],
            [
             0.8,
             "#7fbc41"
            ],
            [
             0.9,
             "#4d9221"
            ],
            [
             1,
             "#276419"
            ]
           ],
           "sequential": [
            [
             0,
             "#0d0887"
            ],
            [
             0.1111111111111111,
             "#46039f"
            ],
            [
             0.2222222222222222,
             "#7201a8"
            ],
            [
             0.3333333333333333,
             "#9c179e"
            ],
            [
             0.4444444444444444,
             "#bd3786"
            ],
            [
             0.5555555555555556,
             "#d8576b"
            ],
            [
             0.6666666666666666,
             "#ed7953"
            ],
            [
             0.7777777777777778,
             "#fb9f3a"
            ],
            [
             0.8888888888888888,
             "#fdca26"
            ],
            [
             1,
             "#f0f921"
            ]
           ],
           "sequentialminus": [
            [
             0,
             "#0d0887"
            ],
            [
             0.1111111111111111,
             "#46039f"
            ],
            [
             0.2222222222222222,
             "#7201a8"
            ],
            [
             0.3333333333333333,
             "#9c179e"
            ],
            [
             0.4444444444444444,
             "#bd3786"
            ],
            [
             0.5555555555555556,
             "#d8576b"
            ],
            [
             0.6666666666666666,
             "#ed7953"
            ],
            [
             0.7777777777777778,
             "#fb9f3a"
            ],
            [
             0.8888888888888888,
             "#fdca26"
            ],
            [
             1,
             "#f0f921"
            ]
           ]
          },
          "colorway": [
           "#636efa",
           "#EF553B",
           "#00cc96",
           "#ab63fa",
           "#FFA15A",
           "#19d3f3",
           "#FF6692",
           "#B6E880",
           "#FF97FF",
           "#FECB52"
          ],
          "font": {
           "color": "#2a3f5f"
          },
          "geo": {
           "bgcolor": "white",
           "lakecolor": "white",
           "landcolor": "#E5ECF6",
           "showlakes": true,
           "showland": true,
           "subunitcolor": "white"
          },
          "hoverlabel": {
           "align": "left"
          },
          "hovermode": "closest",
          "mapbox": {
           "style": "light"
          },
          "paper_bgcolor": "white",
          "plot_bgcolor": "#E5ECF6",
          "polar": {
           "angularaxis": {
            "gridcolor": "white",
            "linecolor": "white",
            "ticks": ""
           },
           "bgcolor": "#E5ECF6",
           "radialaxis": {
            "gridcolor": "white",
            "linecolor": "white",
            "ticks": ""
           }
          },
          "scene": {
           "xaxis": {
            "backgroundcolor": "#E5ECF6",
            "gridcolor": "white",
            "gridwidth": 2,
            "linecolor": "white",
            "showbackground": true,
            "ticks": "",
            "zerolinecolor": "white"
           },
           "yaxis": {
            "backgroundcolor": "#E5ECF6",
            "gridcolor": "white",
            "gridwidth": 2,
            "linecolor": "white",
            "showbackground": true,
            "ticks": "",
            "zerolinecolor": "white"
           },
           "zaxis": {
            "backgroundcolor": "#E5ECF6",
            "gridcolor": "white",
            "gridwidth": 2,
            "linecolor": "white",
            "showbackground": true,
            "ticks": "",
            "zerolinecolor": "white"
           }
          },
          "shapedefaults": {
           "line": {
            "color": "#2a3f5f"
           }
          },
          "ternary": {
           "aaxis": {
            "gridcolor": "white",
            "linecolor": "white",
            "ticks": ""
           },
           "baxis": {
            "gridcolor": "white",
            "linecolor": "white",
            "ticks": ""
           },
           "bgcolor": "#E5ECF6",
           "caxis": {
            "gridcolor": "white",
            "linecolor": "white",
            "ticks": ""
           }
          },
          "title": {
           "x": 0.05
          },
          "xaxis": {
           "automargin": true,
           "gridcolor": "white",
           "linecolor": "white",
           "ticks": "",
           "title": {
            "standoff": 15
           },
           "zerolinecolor": "white",
           "zerolinewidth": 2
          },
          "yaxis": {
           "automargin": true,
           "gridcolor": "white",
           "linecolor": "white",
           "ticks": "",
           "title": {
            "standoff": 15
           },
           "zerolinecolor": "white",
           "zerolinewidth": 2
          }
         }
        },
        "title": {
         "text": "Hyperparameter Importances"
        },
        "xaxis": {
         "title": {
          "text": "Hyperparameter Importance"
         }
        },
        "yaxis": {
         "title": {
          "text": "Hyperparameter"
         }
        }
       }
      },
      "image/png": "[encoded data removed]"
     },
     "metadata": {},
     "output_type": "display_data"
    }
   ],
   "source": [
    "optuna.visualization.plot_param_importances(study)"
   ]
  },
  {
   "cell_type": "code",
   "execution_count": 43,
   "id": "86382ad2-2c0b-497d-8751-1a6992c1bd4d",
   "metadata": {},
   "outputs": [
    {
     "data": {
      "application/vnd.plotly.v1+json": {
       "config": {
        "plotlyServerURL": "https://plot.ly"
       },
       "data": [
        {
         "mode": "markers",
         "name": "Objective Value",
         "type": "scatter",
         "x": [
          0,
          1,
          2,
          3,
          4,
          5,
          6,
          7,
          8,
          9,
          10,
          11,
          12,
          13,
          14,
          15,
          16,
          17,
          18,
          19,
          20,
          21,
          22,
          23,
          24,
          25,
          26,
          27,
          28,
          29,
          30,
          31,
          32,
          33,
          34,
          35,
          36,
          37,
          38,
          39,
          40,
          41,
          42,
          43,
          44,
          45,
          46,
          47,
          48,
          49,
          50,
          51,
          52,
          53,
          54,
          55,
          56,
          57,
          58,
          59,
          60,
          61,
          62,
          63,
          64,
          65,
          66,
          67,
          68,
          69,
          70,
          71,
          72,
          73,
          74,
          75,
          76,
          77,
          78,
          79,
          80,
          81,
          82,
          83,
          84,
          85,
          86,
          87,
          88,
          89,
          90,
          91,
          92,
          93,
          94,
          95,
          96,
          97,
          98,
          99
         ],
         "y": [
          0.9705167432789871,
          0.9683738825709505,
          0.9760127577381594,
          0.9686141866683433,
          0.9662428702043446,
          0.9687571633446153,
          0.9697097064820989,
          0.9720170572031538,
          0.9662994734360486,
          0.9666228708784799,
          0.9792654264520774,
          0.978010058678632,
          0.9738727101578084,
          0.9832626701330692,
          0.9773868706360345,
          0.982989971086244,
          0.9795457640454334,
          0.9829901790380126,
          0.9829938059228465,
          0.9749050001872053,
          0.9813901002097738,
          0.9812634298849077,
          0.9828687800402836,
          0.9807566689718141,
          0.9808922283406722,
          0.9811352557227464,
          0.9818892523317452,
          0.9733441836297265,
          0.9663004625031905,
          0.9666608856566514,
          0.9622102971778064,
          0.9750720299140522,
          0.9813866074685171,
          0.9834923828858988,
          0.9826277633519448,
          0.9821185374834454,
          0.9668830225858744,
          0.9811429517843011,
          0.9765067393406728,
          0.9752753379777446,
          0.978756491224242,
          0.9813923555604351,
          0.9823888506024947,
          0.9824832275652808,
          0.9818760185821753,
          0.9713025317228503,
          0.9783902769848231,
          0.9707917892929583,
          0.9694620069760485,
          0.9825079991495682,
          0.9736469266748315,
          0.9781461119931925,
          0.9817523473810003,
          0.9817479927519901,
          0.9796281483862319,
          0.9710262072389308,
          0.9815055111342005,
          0.9726723399712037,
          0.9656346233957798,
          0.9628944614927979,
          0.9825043679184617,
          0.9816473340956484,
          0.9833582354529453,
          0.978904828609285,
          0.9832360845253358,
          0.9818870990336445,
          0.9560895994282275,
          0.9831091584090496,
          0.9829905130211062,
          0.9829844337580657,
          0.9758712775083265,
          0.9833632276950629,
          0.9781566536324263,
          0.9825058401931356,
          0.9827469146000729,
          0.9820104274459676,
          0.9785270710038547,
          0.9747144550596742,
          0.9832360845253358,
          0.9684491113326761,
          0.9818881995395824,
          0.9832392679131265,
          0.9677597650809865,
          0.9836154167616271,
          0.9725894559281665,
          0.9831122971327522,
          0.9813932767257316,
          0.9709289632735414,
          0.9786493416508677,
          0.9763936492513008,
          0.9693339438715789,
          0.9828648835069591,
          0.9827612743760936,
          0.9829901790380126,
          0.9753703433772032,
          0.9828713379921844,
          0.9655815717517218,
          0.9832392679131265,
          0.9795939470159327,
          0.9831165495939244
         ]
        },
        {
         "mode": "lines",
         "name": "Best Value",
         "type": "scatter",
         "x": [
          0,
          1,
          2,
          3,
          4,
          5,
          6,
          7,
          8,
          9,
          10,
          11,
          12,
          13,
          14,
          15,
          16,
          17,
          18,
          19,
          20,
          21,
          22,
          23,
          24,
          25,
          26,
          27,
          28,
          29,
          30,
          31,
          32,
          33,
          34,
          35,
          36,
          37,
          38,
          39,
          40,
          41,
          42,
          43,
          44,
          45,
          46,
          47,
          48,
          49,
          50,
          51,
          52,
          53,
          54,
          55,
          56,
          57,
          58,
          59,
          60,
          61,
          62,
          63,
          64,
          65,
          66,
          67,
          68,
          69,
          70,
          71,
          72,
          73,
          74,
          75,
          76,
          77,
          78,
          79,
          80,
          81,
          82,
          83,
          84,
          85,
          86,
          87,
          88,
          89,
          90,
          91,
          92,
          93,
          94,
          95,
          96,
          97,
          98,
          99
         ],
         "y": [
          0.9705167432789871,
          0.9705167432789871,
          0.9760127577381594,
          0.9760127577381594,
          0.9760127577381594,
          0.9760127577381594,
          0.9760127577381594,
          0.9760127577381594,
          0.9760127577381594,
          0.9760127577381594,
          0.9792654264520774,
          0.9792654264520774,
          0.9792654264520774,
          0.9832626701330692,
          0.9832626701330692,
          0.9832626701330692,
          0.9832626701330692,
          0.9832626701330692,
          0.9832626701330692,
          0.9832626701330692,
          0.9832626701330692,
          0.9832626701330692,
          0.9832626701330692,
          0.9832626701330692,
          0.9832626701330692,
          0.9832626701330692,
          0.9832626701330692,
          0.9832626701330692,
          0.9832626701330692,
          0.9832626701330692,
          0.9832626701330692,
          0.9832626701330692,
          0.9832626701330692,
          0.9834923828858988,
          0.9834923828858988,
          0.9834923828858988,
          0.9834923828858988,
          0.9834923828858988,
          0.9834923828858988,
          0.9834923828858988,
          0.9834923828858988,
          0.9834923828858988,
          0.9834923828858988,
          0.9834923828858988,
          0.9834923828858988,
          0.9834923828858988,
          0.9834923828858988,
          0.9834923828858988,
          0.9834923828858988,
          0.9834923828858988,
          0.9834923828858988,
          0.9834923828858988,
          0.9834923828858988,
          0.9834923828858988,
          0.9834923828858988,
          0.9834923828858988,
          0.9834923828858988,
          0.9834923828858988,
          0.9834923828858988,
          0.9834923828858988,
          0.9834923828858988,
          0.9834923828858988,
          0.9834923828858988,
          0.9834923828858988,
          0.9834923828858988,
          0.9834923828858988,
          0.9834923828858988,
          0.9834923828858988,
          0.9834923828858988,
          0.9834923828858988,
          0.9834923828858988,
          0.9834923828858988,
          0.9834923828858988,
          0.9834923828858988,
          0.9834923828858988,
          0.9834923828858988,
          0.9834923828858988,
          0.9834923828858988,
          0.9834923828858988,
          0.9834923828858988,
          0.9834923828858988,
          0.9834923828858988,
          0.9834923828858988,
          0.9836154167616271,
          0.9836154167616271,
          0.9836154167616271,
          0.9836154167616271,
          0.9836154167616271,
          0.9836154167616271,
          0.9836154167616271,
          0.9836154167616271,
          0.9836154167616271,
          0.9836154167616271,
          0.9836154167616271,
          0.9836154167616271,
          0.9836154167616271,
          0.9836154167616271,
          0.9836154167616271,
          0.9836154167616271,
          0.9836154167616271
         ]
        },
        {
         "marker": {
          "color": "#cccccc"
         },
         "mode": "markers",
         "name": "Infeasible Trial",
         "showlegend": false,
         "type": "scatter",
         "x": [],
         "y": []
        }
       ],
       "layout": {
        "template": {
         "data": {
          "bar": [
           {
            "error_x": {
             "color": "#2a3f5f"
            },
            "error_y": {
             "color": "#2a3f5f"
            },
            "marker": {
             "line": {
              "color": "#E5ECF6",
              "width": 0.5
             },
             "pattern": {
              "fillmode": "overlay",
              "size": 10,
              "solidity": 0.2
             }
            },
            "type": "bar"
           }
          ],
          "barpolar": [
           {
            "marker": {
             "line": {
              "color": "#E5ECF6",
              "width": 0.5
             },
             "pattern": {
              "fillmode": "overlay",
              "size": 10,
              "solidity": 0.2
             }
            },
            "type": "barpolar"
           }
          ],
          "carpet": [
           {
            "aaxis": {
             "endlinecolor": "#2a3f5f",
             "gridcolor": "white",
             "linecolor": "white",
             "minorgridcolor": "white",
             "startlinecolor": "#2a3f5f"
            },
            "baxis": {
             "endlinecolor": "#2a3f5f",
             "gridcolor": "white",
             "linecolor": "white",
             "minorgridcolor": "white",
             "startlinecolor": "#2a3f5f"
            },
            "type": "carpet"
           }
          ],
          "choropleth": [
           {
            "colorbar": {
             "outlinewidth": 0,
             "ticks": ""
            },
            "type": "choropleth"
           }
          ],
          "contour": [
           {
            "colorbar": {
             "outlinewidth": 0,
             "ticks": ""
            },
            "colorscale": [
             [
              0,
              "#0d0887"
             ],
             [
              0.1111111111111111,
              "#46039f"
             ],
             [
              0.2222222222222222,
              "#7201a8"
             ],
             [
              0.3333333333333333,
              "#9c179e"
             ],
             [
              0.4444444444444444,
              "#bd3786"
             ],
             [
              0.5555555555555556,
              "#d8576b"
             ],
             [
              0.6666666666666666,
              "#ed7953"
             ],
             [
              0.7777777777777778,
              "#fb9f3a"
             ],
             [
              0.8888888888888888,
              "#fdca26"
             ],
             [
              1,
              "#f0f921"
             ]
            ],
            "type": "contour"
           }
          ],
          "contourcarpet": [
           {
            "colorbar": {
             "outlinewidth": 0,
             "ticks": ""
            },
            "type": "contourcarpet"
           }
          ],
          "heatmap": [
           {
            "colorbar": {
             "outlinewidth": 0,
             "ticks": ""
            },
            "colorscale": [
             [
              0,
              "#0d0887"
             ],
             [
              0.1111111111111111,
              "#46039f"
             ],
             [
              0.2222222222222222,
              "#7201a8"
             ],
             [
              0.3333333333333333,
              "#9c179e"
             ],
             [
              0.4444444444444444,
              "#bd3786"
             ],
             [
              0.5555555555555556,
              "#d8576b"
             ],
             [
              0.6666666666666666,
              "#ed7953"
             ],
             [
              0.7777777777777778,
              "#fb9f3a"
             ],
             [
              0.8888888888888888,
              "#fdca26"
             ],
             [
              1,
              "#f0f921"
             ]
            ],
            "type": "heatmap"
           }
          ],
          "histogram": [
           {
            "marker": {
             "pattern": {
              "fillmode": "overlay",
              "size": 10,
              "solidity": 0.2
             }
            },
            "type": "histogram"
           }
          ],
          "histogram2d": [
           {
            "colorbar": {
             "outlinewidth": 0,
             "ticks": ""
            },
            "colorscale": [
             [
              0,
              "#0d0887"
             ],
             [
              0.1111111111111111,
              "#46039f"
             ],
             [
              0.2222222222222222,
              "#7201a8"
             ],
             [
              0.3333333333333333,
              "#9c179e"
             ],
             [
              0.4444444444444444,
              "#bd3786"
             ],
             [
              0.5555555555555556,
              "#d8576b"
             ],
             [
              0.6666666666666666,
              "#ed7953"
             ],
             [
              0.7777777777777778,
              "#fb9f3a"
             ],
             [
              0.8888888888888888,
              "#fdca26"
             ],
             [
              1,
              "#f0f921"
             ]
            ],
            "type": "histogram2d"
           }
          ],
          "histogram2dcontour": [
           {
            "colorbar": {
             "outlinewidth": 0,
             "ticks": ""
            },
            "colorscale": [
             [
              0,
              "#0d0887"
             ],
             [
              0.1111111111111111,
              "#46039f"
             ],
             [
              0.2222222222222222,
              "#7201a8"
             ],
             [
              0.3333333333333333,
              "#9c179e"
             ],
             [
              0.4444444444444444,
              "#bd3786"
             ],
             [
              0.5555555555555556,
              "#d8576b"
             ],
             [
              0.6666666666666666,
              "#ed7953"
             ],
             [
              0.7777777777777778,
              "#fb9f3a"
             ],
             [
              0.8888888888888888,
              "#fdca26"
             ],
             [
              1,
              "#f0f921"
             ]
            ],
            "type": "histogram2dcontour"
           }
          ],
          "mesh3d": [
           {
            "colorbar": {
             "outlinewidth": 0,
             "ticks": ""
            },
            "type": "mesh3d"
           }
          ],
          "parcoords": [
           {
            "line": {
             "colorbar": {
              "outlinewidth": 0,
              "ticks": ""
             }
            },
            "type": "parcoords"
           }
          ],
          "pie": [
           {
            "automargin": true,
            "type": "pie"
           }
          ],
          "scatter": [
           {
            "fillpattern": {
             "fillmode": "overlay",
             "size": 10,
             "solidity": 0.2
            },
            "type": "scatter"
           }
          ],
          "scatter3d": [
           {
            "line": {
             "colorbar": {
              "outlinewidth": 0,
              "ticks": ""
             }
            },
            "marker": {
             "colorbar": {
              "outlinewidth": 0,
              "ticks": ""
             }
            },
            "type": "scatter3d"
           }
          ],
          "scattercarpet": [
           {
            "marker": {
             "colorbar": {
              "outlinewidth": 0,
              "ticks": ""
             }
            },
            "type": "scattercarpet"
           }
          ],
          "scattergeo": [
           {
            "marker": {
             "colorbar": {
              "outlinewidth": 0,
              "ticks": ""
             }
            },
            "type": "scattergeo"
           }
          ],
          "scattergl": [
           {
            "marker": {
             "colorbar": {
              "outlinewidth": 0,
              "ticks": ""
             }
            },
            "type": "scattergl"
           }
          ],
          "scattermap": [
           {
            "marker": {
             "colorbar": {
              "outlinewidth": 0,
              "ticks": ""
             }
            },
            "type": "scattermap"
           }
          ],
          "scattermapbox": [
           {
            "marker": {
             "colorbar": {
              "outlinewidth": 0,
              "ticks": ""
             }
            },
            "type": "scattermapbox"
           }
          ],
          "scatterpolar": [
           {
            "marker": {
             "colorbar": {
              "outlinewidth": 0,
              "ticks": ""
             }
            },
            "type": "scatterpolar"
           }
          ],
          "scatterpolargl": [
           {
            "marker": {
             "colorbar": {
              "outlinewidth": 0,
              "ticks": ""
             }
            },
            "type": "scatterpolargl"
           }
          ],
          "scatterternary": [
           {
            "marker": {
             "colorbar": {
              "outlinewidth": 0,
              "ticks": ""
             }
            },
            "type": "scatterternary"
           }
          ],
          "surface": [
           {
            "colorbar": {
             "outlinewidth": 0,
             "ticks": ""
            },
            "colorscale": [
             [
              0,
              "#0d0887"
             ],
             [
              0.1111111111111111,
              "#46039f"
             ],
             [
              0.2222222222222222,
              "#7201a8"
             ],
             [
              0.3333333333333333,
              "#9c179e"
             ],
             [
              0.4444444444444444,
              "#bd3786"
             ],
             [
              0.5555555555555556,
              "#d8576b"
             ],
             [
              0.6666666666666666,
              "#ed7953"
             ],
             [
              0.7777777777777778,
              "#fb9f3a"
             ],
             [
              0.8888888888888888,
              "#fdca26"
             ],
             [
              1,
              "#f0f921"
             ]
            ],
            "type": "surface"
           }
          ],
          "table": [
           {
            "cells": {
             "fill": {
              "color": "#EBF0F8"
             },
             "line": {
              "color": "white"
             }
            },
            "header": {
             "fill": {
              "color": "#C8D4E3"
             },
             "line": {
              "color": "white"
             }
            },
            "type": "table"
           }
          ]
         },
         "layout": {
          "annotationdefaults": {
           "arrowcolor": "#2a3f5f",
           "arrowhead": 0,
           "arrowwidth": 1
          },
          "autotypenumbers": "strict",
          "coloraxis": {
           "colorbar": {
            "outlinewidth": 0,
            "ticks": ""
           }
          },
          "colorscale": {
           "diverging": [
            [
             0,
             "#8e0152"
            ],
            [
             0.1,
             "#c51b7d"
            ],
            [
             0.2,
             "#de77ae"
            ],
            [
             0.3,
             "#f1b6da"
            ],
            [
             0.4,
             "#fde0ef"
            ],
            [
             0.5,
             "#f7f7f7"
            ],
            [
             0.6,
             "#e6f5d0"
            ],
            [
             0.7,
             "#b8e186"
            ],
            [
             0.8,
             "#7fbc41"
            ],
            [
             0.9,
             "#4d9221"
            ],
            [
             1,
             "#276419"
            ]
           ],
           "sequential": [
            [
             0,
             "#0d0887"
            ],
            [
             0.1111111111111111,
             "#46039f"
            ],
            [
             0.2222222222222222,
             "#7201a8"
            ],
            [
             0.3333333333333333,
             "#9c179e"
            ],
            [
             0.4444444444444444,
             "#bd3786"
            ],
            [
             0.5555555555555556,
             "#d8576b"
            ],
            [
             0.6666666666666666,
             "#ed7953"
            ],
            [
             0.7777777777777778,
             "#fb9f3a"
            ],
            [
             0.8888888888888888,
             "#fdca26"
            ],
            [
             1,
             "#f0f921"
            ]
           ],
           "sequentialminus": [
            [
             0,
             "#0d0887"
            ],
            [
             0.1111111111111111,
             "#46039f"
            ],
            [
             0.2222222222222222,
             "#7201a8"
            ],
            [
             0.3333333333333333,
             "#9c179e"
            ],
            [
             0.4444444444444444,
             "#bd3786"
            ],
            [
             0.5555555555555556,
             "#d8576b"
            ],
            [
             0.6666666666666666,
             "#ed7953"
            ],
            [
             0.7777777777777778,
             "#fb9f3a"
            ],
            [
             0.8888888888888888,
             "#fdca26"
            ],
            [
             1,
             "#f0f921"
            ]
           ]
          },
          "colorway": [
           "#636efa",
           "#EF553B",
           "#00cc96",
           "#ab63fa",
           "#FFA15A",
           "#19d3f3",
           "#FF6692",
           "#B6E880",
           "#FF97FF",
           "#FECB52"
          ],
          "font": {
           "color": "#2a3f5f"
          },
          "geo": {
           "bgcolor": "white",
           "lakecolor": "white",
           "landcolor": "#E5ECF6",
           "showlakes": true,
           "showland": true,
           "subunitcolor": "white"
          },
          "hoverlabel": {
           "align": "left"
          },
          "hovermode": "closest",
          "mapbox": {
           "style": "light"
          },
          "paper_bgcolor": "white",
          "plot_bgcolor": "#E5ECF6",
          "polar": {
           "angularaxis": {
            "gridcolor": "white",
            "linecolor": "white",
            "ticks": ""
           },
           "bgcolor": "#E5ECF6",
           "radialaxis": {
            "gridcolor": "white",
            "linecolor": "white",
            "ticks": ""
           }
          },
          "scene": {
           "xaxis": {
            "backgroundcolor": "#E5ECF6",
            "gridcolor": "white",
            "gridwidth": 2,
            "linecolor": "white",
            "showbackground": true,
            "ticks": "",
            "zerolinecolor": "white"
           },
           "yaxis": {
            "backgroundcolor": "#E5ECF6",
            "gridcolor": "white",
            "gridwidth": 2,
            "linecolor": "white",
            "showbackground": true,
            "ticks": "",
            "zerolinecolor": "white"
           },
           "zaxis": {
            "backgroundcolor": "#E5ECF6",
            "gridcolor": "white",
            "gridwidth": 2,
            "linecolor": "white",
            "showbackground": true,
            "ticks": "",
            "zerolinecolor": "white"
           }
          },
          "shapedefaults": {
           "line": {
            "color": "#2a3f5f"
           }
          },
          "ternary": {
           "aaxis": {
            "gridcolor": "white",
            "linecolor": "white",
            "ticks": ""
           },
           "baxis": {
            "gridcolor": "white",
            "linecolor": "white",
            "ticks": ""
           },
           "bgcolor": "#E5ECF6",
           "caxis": {
            "gridcolor": "white",
            "linecolor": "white",
            "ticks": ""
           }
          },
          "title": {
           "x": 0.05
          },
          "xaxis": {
           "automargin": true,
           "gridcolor": "white",
           "linecolor": "white",
           "ticks": "",
           "title": {
            "standoff": 15
           },
           "zerolinecolor": "white",
           "zerolinewidth": 2
          },
          "yaxis": {
           "automargin": true,
           "gridcolor": "white",
           "linecolor": "white",
           "ticks": "",
           "title": {
            "standoff": 15
           },
           "zerolinecolor": "white",
           "zerolinewidth": 2
          }
         }
        },
        "title": {
         "text": "Optimization History Plot"
        },
        "xaxis": {
         "title": {
          "text": "Trial"
         }
        },
        "yaxis": {
         "title": {
          "text": "Objective Value"
         }
        }
       }
      },
      "image/png": "[encoded data removed]"
     },
     "metadata": {},
     "output_type": "display_data"
    }
   ],
   "source": [
    "optuna.visualization.plot_optimization_history(study)"
   ]
  },
  {
   "cell_type": "code",
   "execution_count": 44,
   "id": "d3373108-b834-42ed-993c-19dd8d278ff7",
   "metadata": {},
   "outputs": [
    {
     "name": "stdout",
     "output_type": "stream",
     "text": [
      "\n",
      "✅ Mejores hiperparámetros encontrados:\n",
      "  n_estimators: 295\n",
      "  max_depth: 52\n",
      "  min_samples_split: 3\n",
      "  min_samples_leaf: 1\n",
      "  max_features: sqrt\n",
      "  bootstrap: False\n",
      "\n",
      "📈 Mejor F1-Score en validación cruzada: 0.9836\n",
      "Accuracy promedio: 0.984\n",
      "SEM: 0.001\n",
      "IC 95%: (0.980, 0.987)\n"
     ]
    }
   ],
   "source": [
    "best_params = study.best_params\n",
    "best_score = study.best_value\n",
    "\n",
    "print(f\"\\n✅ Mejores hiperparámetros encontrados:\")\n",
    "for param, value in best_params.items():\n",
    "    print(f\"  {param}: {value}\")\n",
    "\n",
    "print(f\"\\n📈 Mejor F1-Score en validación cruzada: {best_score:.4f}\")\n",
    "best_trial = study.best_trial\n",
    "scores = np.array(best_trial.user_attrs[\"cv_scores\"])\n",
    "\n",
    "mean_score = np.mean(scores)\n",
    "sem = st.sem(scores)  # error estándar\n",
    "ci = st.t.interval(0.95, len(scores)-1, loc=mean_score, scale=sem)\n",
    "\n",
    "print(f\"Accuracy promedio: {mean_score:.3f}\")\n",
    "print(f\"SEM: {sem:.3f}\")\n",
    "print(f\"IC 95%: ({ci[0]:.3f}, {ci[1]:.3f})\")"
   ]
  },
  {
   "cell_type": "code",
   "execution_count": 45,
   "id": "51c7cddb-8274-4026-bf05-97cc382ed2b6",
   "metadata": {},
   "outputs": [],
   "source": [
    "# Función para calcular las métricas de evaluación\n",
    "def calculate_metrics(y_true, y_pred, y_proba, set_name):\n",
    "    \n",
    "    print(f\"\\n=== MÉTRICAS - {set_name.upper()} ===\")\n",
    "    \n",
    "    # Métricas principales\n",
    "    accuracy = accuracy_score(y_true, y_pred)\n",
    "    precision = precision_score(y_true, y_pred)\n",
    "    recall = recall_score(y_true, y_pred)\n",
    "    f1 = f1_score(y_true, y_pred)\n",
    "    auc_roc = roc_auc_score(y_true, y_proba)\n",
    "    \n",
    "    # Métricas complementarias\n",
    "    tn, fp, fn, tp = confusion_matrix(y_true, y_pred).ravel()\n",
    "    specificity = tn / (tn + fp)\n",
    "    mcc = matthews_corrcoef(y_true, y_pred)\n",
    "    \n",
    "    print(f\"Accuracy (Exactitud):     {accuracy:.4f}\")\n",
    "    print(f\"Precision (Precisión):    {precision:.4f}\")\n",
    "    print(f\"Recall (Sensibilidad):    {recall:.4f}\")\n",
    "    print(f\"F1-Score:                 {f1:.4f}\")\n",
    "    print(f\"AUC-ROC:                  {auc_roc:.4f}\")\n",
    "    print(f\"Specificity (Especific.): {specificity:.4f}\")\n",
    "    print(f\"MCC:                      {mcc:.4f}\")\n",
    "    \n",
    "    return {\n",
    "        'accuracy': accuracy, 'precision': precision, 'recall': recall,\n",
    "        'f1_score': f1, 'auc_roc': auc_roc, 'specificity': specificity,\n",
    "        'mcc': mcc\n",
    "    }"
   ]
  },
  {
   "cell_type": "code",
   "execution_count": 48,
   "id": "03e85405-4ee0-4a2a-9688-34676851d39d",
   "metadata": {},
   "outputs": [
    {
     "name": "stdout",
     "output_type": "stream",
     "text": [
      "\n",
      "=== MÉTRICAS - PRUEBA ===\n",
      "Accuracy (Exactitud):     0.9865\n",
      "Precision (Precisión):    0.9880\n",
      "Recall (Sensibilidad):    0.9850\n",
      "F1-Score:                 0.9865\n",
      "AUC-ROC:                  0.9990\n",
      "Specificity (Especific.): 0.9880\n",
      "MCC:                      0.9730\n",
      "\n",
      "Classification Report (Test):\n",
      "              precision    recall  f1-score   support\n",
      "\n",
      "    Legítimo       0.99      0.99      0.99      1000\n",
      "    Phishing       0.99      0.98      0.99      1000\n",
      "\n",
      "    accuracy                           0.99      2000\n",
      "   macro avg       0.99      0.99      0.99      2000\n",
      "weighted avg       0.99      0.99      0.99      2000\n",
      "\n"
     ]
    }
   ],
   "source": [
    "# MODELO FINAL Y EVALUACIÓN\n",
    "scaler=StandardScaler()\n",
    "X_train_scaled=scaler.fit_transform(X_train)\n",
    "X_test_scaled=scaler.transform(X_test)\n",
    "\n",
    "\n",
    "# Entrena modelo final\n",
    "best_rf = RandomForestClassifier(**best_params)\n",
    "best_rf.fit(X_train_scaled, y_train)\n",
    "\n",
    "# Predicciones en conjunto de prueba\n",
    "y_test_pred = best_rf.predict(X_test_scaled)\n",
    "y_test_proba = best_rf.predict_proba(X_test_scaled)[:, 1]\n",
    "\n",
    "# Evaluación en prueba\n",
    "calculate_metrics(y_test, y_test_pred, y_test_proba, \"Prueba\")\n",
    "print(f\"\\nClassification Report (Test):\")\n",
    "print(classification_report(y_test, y_test_pred, target_names=['Legítimo', 'Phishing']))"
   ]
  },
  {
   "cell_type": "code",
   "execution_count": 49,
   "id": "dc4dd1cd-b32b-46a4-bc02-2bfb491804b3",
   "metadata": {},
   "outputs": [
    {
     "data": {
      "image/png": "[encoded data removed]",
      "text/plain": [
       "<Figure size 1500x600 with 3 Axes>"
      ]
     },
     "metadata": {},
     "output_type": "display_data"
    },
    {
     "name": "stdout",
     "output_type": "stream",
     "text": [
      "AUC-ROC: 0.9990\n",
      "Mejor threshold: 0.4695\n"
     ]
    }
   ],
   "source": [
    "fig, axes = plt.subplots(1, 2, figsize=(15, 6))\n",
    "\n",
    "# Matriz de confusión - Prueba\n",
    "cm_test = confusion_matrix(y_test, y_test_pred)\n",
    "sns.heatmap(cm_test, annot=True, fmt='d', cmap='Blues', ax=axes[0])\n",
    "axes[0].set_title('Matriz de Confusión - Prueba')\n",
    "axes[0].set_xlabel('Predicho')\n",
    "axes[0].set_ylabel('Real')\n",
    "\n",
    "# Curva ROC\n",
    "# Necesitas las probabilidades predichas en lugar de las clases predichas\n",
    "# Asumiendo que tienes y_test_proba (probabilidades de la clase positiva)\n",
    "fpr, tpr, thresholds = roc_curve(y_test, y_test_proba)\n",
    "roc_auc = roc_auc_score(y_test, y_test_proba)\n",
    "\n",
    "axes[1].plot(fpr, tpr, color='darkorange', lw=2, \n",
    "             label=f'ROC curve (AUC = {roc_auc:.2f})')\n",
    "axes[1].plot([0, 1], [0, 1], color='navy', lw=2, linestyle='--', \n",
    "             label='Random classifier')\n",
    "axes[1].set_xlim([0.0, 1.0])\n",
    "axes[1].set_ylim([0.0, 1.05])\n",
    "axes[1].set_xlabel('Tasa de Falsos Positivos')\n",
    "axes[1].set_ylabel('Tasa de Verdaderos Positivos')\n",
    "axes[1].set_title('Curva ROC')\n",
    "axes[1].legend(loc=\"lower right\")\n",
    "axes[1].grid(True, alpha=0.3)\n",
    "\n",
    "plt.tight_layout()\n",
    "plt.show()\n",
    "\n",
    "# Imprimir métricas adicionales\n",
    "print(f\"AUC-ROC: {roc_auc:.4f}\")\n",
    "print(f\"Mejor threshold: {thresholds[np.argmax(tpr - fpr)]:.4f}\")"
   ]
  },
  {
   "cell_type": "code",
   "execution_count": 50,
   "id": "f44a5218-9d9d-45a7-814c-29395d61d034",
   "metadata": {},
   "outputs": [
    {
     "data": {
      "image/png": "[encoded data removed]",
      "text/plain": [
       "<Figure size 1000x800 with 1 Axes>"
      ]
     },
     "metadata": {},
     "output_type": "display_data"
    },
    {
     "name": "stdout",
     "output_type": "stream",
     "text": [
      "Top 10 Características:\n",
      " 1. Feature_26: 0.1979\n",
      " 2. Feature_47: 0.1499\n",
      " 3. Feature_27: 0.0834\n",
      " 4. Feature_34: 0.0807\n",
      " 5. Feature_33: 0.0733\n",
      " 6. Feature_4: 0.0450\n",
      " 7. Feature_13: 0.0374\n",
      " 8. Feature_46: 0.0335\n",
      " 9. Feature_29: 0.0323\n",
      "10. Feature_2: 0.0284\n"
     ]
    }
   ],
   "source": [
    "# IMPORTANCIA DE CARACTERÍSTICAS\n",
    "\n",
    "# Obtener importancias\n",
    "feature_importance = best_rf.feature_importances_\n",
    "feature_names = [f'Feature_{i}' for i in range(len(feature_importance))]\n",
    "\n",
    "# Crear DataFrame para visualización\n",
    "importance_df = pd.DataFrame({\n",
    "    'feature': feature_names,\n",
    "    'importance': feature_importance\n",
    "}).sort_values('importance', ascending=False)\n",
    "\n",
    "# Visualizar top 15 características más importantes\n",
    "plt.figure(figsize=(10, 8))\n",
    "sns.barplot(data=importance_df.head(15), x='importance', y='feature')\n",
    "plt.title('Top 15 Características Más Importantes - Random Forest')\n",
    "plt.xlabel('Importancia')\n",
    "plt.tight_layout()\n",
    "plt.show()\n",
    "\n",
    "print(\"Top 10 Características:\")\n",
    "for i, (_, row) in enumerate(importance_df.head(10).iterrows(), 1):\n",
    "    print(f\"{i:2d}. {row['feature']}: {row['importance']:.4f}\")\n"
   ]
  }
 ],
 "metadata": {
  "kernelspec": {
   "display_name": "Python 3 (ipykernel)",
   "language": "python",
   "name": "python3"
  },
  "language_info": {
   "codemirror_mode": {
    "name": "ipython",
    "version": 3
   },
   "file_extension": ".py",
   "mimetype": "text/x-python",
   "name": "python",
   "nbconvert_exporter": "python",
   "pygments_lexer": "ipython3",
   "version": "3.11.6"
  }
 },
 "nbformat": 4,
 "nbformat_minor": 5
}
